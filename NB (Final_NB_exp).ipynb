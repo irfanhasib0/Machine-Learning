{
 "cells": [
  {
   "cell_type": "code",
   "execution_count": 1,
   "metadata": {},
   "outputs": [],
   "source": [
    "from xml.dom import minidom\n",
    "import re\n",
    "import pandas as pd\n",
    "import sys\n",
    "import pickle\n",
    "import numpy as np\n",
    "\n",
    "\n",
    "from nltk.stem import PorterStemmer\n",
    "from nltk.tokenize import sent_tokenize, word_tokenize\n",
    "ps = PorterStemmer()\n",
    "\n",
    "\n",
    "\n",
    "sys.__stdout__=sys.stdout\n",
    "def remove_tags(doc):\n",
    "    text=doc.lower()\n",
    "    #text=re.sub('\\n',' ',text)\n",
    "    #text=re.sub('-',' ',text)\n",
    "    #text=re.sub('[()?.@*#&!,$]','',text)\n",
    "    #text=re.sub('[\\']','',text)\n",
    "    #text=re.sub('[^a-z0-9]',' ',text)\n",
    "    #words=doc.split(' ')\n",
    "    text=re.sub('<[^<>]+>',' ',text)\n",
    "    words=re.findall('\\w+',text)\n",
    "    return words\n",
    "\n",
    "\n",
    "def make_dictionary(topics,max_doc,root):\n",
    "    index=0\n",
    "    wordmap={}\n",
    "    word_count=[]\n",
    "    for topic in topics:\n",
    "        print(topic)\n",
    "        mydoc = minidom.parse(root+topic+'.xml')\n",
    "        docs = mydoc.getElementsByTagName('row')\n",
    "        doc_count=0\n",
    "        for doc in docs:\n",
    "            if doc_count>=max_doc:\n",
    "                break\n",
    "            doc=doc.attributes['Body'].value\n",
    "            if len(doc)<5:\n",
    "                continue\n",
    "            \n",
    "            doc=doc.lower()\n",
    "            words= remove_tags(doc)\n",
    "            \n",
    "            for word in words:\n",
    "                #word=ps.stem(word)\n",
    "                if word in s_words or len(word)<=1:\n",
    "                    continue\n",
    "                if word not in wordmap:\n",
    "                    wordmap[word]=index\n",
    "                    word_count.append(int(1))\n",
    "                    index=index+1\n",
    "                elif word in wordmap:\n",
    "                    ind=wordmap[word]\n",
    "                    word_count[ind]=int(word_count[ind])+1\n",
    "            doc_count=doc_count+1\n",
    "    return wordmap,word_count\n",
    "def remove_minor_words(wordmap,word_count,min_occurance):\n",
    "    words=list(wordmap.keys())\n",
    "    freq=list(wordmap.values())\n",
    "    word_df=pd.DataFrame(words,index=list(wordmap.values()),columns=['words'])\n",
    "    word_df=word_df.sort_index()\n",
    "    word_df['freq']=wc\n",
    "    word_df=word_df.sort_values('freq',ascending=False)\n",
    "    mask=word_df['freq']<=min_occurance\n",
    "    word_df=word_df[mask]\n",
    "    \n",
    "    ss_words=(list(word_df['words']))\n",
    "    print('initial length of wordmap :',len(wordmap))\n",
    "    for word in ss_words:\n",
    "        del wordmap[word]\n",
    "    \n",
    "    _wordmap={}\n",
    "    ind=0\n",
    "    for word in wordmap.keys():\n",
    "        _wordmap[word]=ind\n",
    "        ind+=1\n",
    "    print('reduced length of wordmap :',len(_wordmap))\n",
    "    return _wordmap"
   ]
  },
  {
   "cell_type": "code",
   "execution_count": 2,
   "metadata": {},
   "outputs": [],
   "source": [
    "def vectorize_seq_nb(topics,max_doc,wordmap,root,doc_per_vect='all'):\n",
    "    if doc_per_vect=='single':\n",
    "        n_row=len(topics)*(max_doc)\n",
    "    if doc_per_vect=='all':\n",
    "        n_row=len(topics)\n",
    "    vectors=np.zeros((n_row,len(wordmap)),dtype=np.float64)\n",
    "    vct_label=[]\n",
    "    row=0\n",
    "    _V=len(wordmap)\n",
    "    for topic in topics:\n",
    "        print(topic)\n",
    "        mydoc = minidom.parse(root+topic+'.xml')\n",
    "        docs = mydoc.getElementsByTagName('row')\n",
    "        doc_count=0\n",
    "        for doc in docs:\n",
    "            if doc_count>=max_doc:\n",
    "                break\n",
    "            #vector = [0]*(len(wordmap)+2)\n",
    "            doc=doc.attributes['Body'].value\n",
    "            if len(doc)<5:\n",
    "                continue\n",
    "            words = remove_tags(doc)\n",
    "            \n",
    "            for word in words:\n",
    "                #word=ps.stem(word)\n",
    "                if word in wordmap:\n",
    "                    ind=wordmap[word]\n",
    "                    vectors[row,ind]=vectors[row,ind]+1\n",
    "            doc_count=doc_count+1\n",
    "            word_list.append(words)\n",
    "            if doc_per_vect=='single':\n",
    "                vct_label.append(topic)\n",
    "                row=row+1\n",
    "        if doc_per_vect=='all':\n",
    "            vct_label.append(topic)\n",
    "            #total=np.sum(vectors[row])\n",
    "            #vectors[row]=(vectors[row]+alpha)/(total+alpha*_V)\n",
    "            row=row+1\n",
    "    return vectors,vct_label"
   ]
  },
  {
   "cell_type": "code",
   "execution_count": 3,
   "metadata": {},
   "outputs": [
    {
     "name": "stdout",
     "output_type": "stream",
     "text": [
      "3d_Printer\n",
      "Arduino\n",
      "Anime\n",
      "Removing minor words:\n",
      "Vectorizing Sequence:\n",
      "3d_Printer\n",
      "Arduino\n",
      "Anime\n"
     ]
    }
   ],
   "source": [
    "root='Dataset/Training/'\n",
    "root_test='Dataset/Test/'\n",
    "f=open('Stopwords.txt')\n",
    "s_words=f.read()\n",
    "s_words=s_words.split('\\n')\n",
    "s_words.append('')\n",
    "\n",
    "#topics=['3d_Printer','Coffee','Arduino','Astronomy','Biology']#,'Chess','Cooking','Law','Space','Windows_Phone','Wood_Working']\n",
    "#topics=['Anime']\n",
    "\n",
    "topics=['3d_Printer','Arduino','Anime']\n",
    "#topics=['3d_Printer','Coffee','Chess','Arduino','Law']\n",
    "#topics=['3d_Printer','Anime','Arduino']\n",
    "#topics=['3d_Printer','Coffee','Chess']\n",
    " \n",
    "#wordmap=make_dictionary(topics,100,root)\n",
    "#vectors=vectorize_seq(topics,100,wordmap,root)\n",
    "word_list=[]\n",
    "write_backup=1\n",
    "max_docs_train=200\n",
    "if write_backup==1:\n",
    "    wordmap,wc=make_dictionary(topics,max_docs_train,root)\n",
    "    print('Removing minor words:')\n",
    "    #wordmap=remove_minor_words(wordmap,wc,1)\n",
    "    print('Vectorizing Sequence:')\n",
    "    vectors,vct_labels=vectorize_seq_nb(topics,max_docs_train,wordmap,root)\n",
    "    pickle_out = open(\"wordmap_test.pickle\",\"wb\")\n",
    "    pickle.dump(wordmap, pickle_out)\n",
    "    pickle_out.close()\n",
    "    pickle_out = open(\"vectors_test.pickle\",\"wb\")\n",
    "    pickle.dump(vectors, pickle_out)\n",
    "    pickle_out.close()\n",
    "\n",
    "read_backup=0\n",
    "if read_backup==1:\n",
    "    print('Reading backup')\n",
    "    pickle_read = open(\"wordmap_500.pickle\",\"rb\")\n",
    "    wordmap=pickle.load(pickle_read)\n",
    "    pickle_read.close()\n",
    "\n",
    "    pickle_read = open(\"vectors_500.pickle\",\"rb\")\n",
    "    vectors=pickle.load(pickle_read)\n",
    "    pickle_read.close()\n",
    "\n",
    "#words=list(wordmap.keys())\n",
    "#freq=list(wordmap.values())\n",
    "#word_df=pd.DataFrame({'words':words,'freq':freq})\n",
    "#word_df=word_df.sort_values('freq',ascending=False)\n",
    "    \n",
    "\n"
   ]
  },
  {
   "cell_type": "code",
   "execution_count": 4,
   "metadata": {},
   "outputs": [
    {
     "name": "stdout",
     "output_type": "stream",
     "text": [
      "7387\n"
     ]
    }
   ],
   "source": [
    "print(len(wordmap))"
   ]
  },
  {
   "cell_type": "code",
   "execution_count": 160,
   "metadata": {},
   "outputs": [
    {
     "name": "stdout",
     "output_type": "stream",
     "text": [
      "[35. 63. 16. ...  0.  0.  0.]\n"
     ]
    },
    {
     "data": {
      "image/png": "[encoded data removed]",
      "text/plain": [
       "<Figure size 432x288 with 1 Axes>"
      ]
     },
     "metadata": {
      "needs_background": "light"
     },
     "output_type": "display_data"
    },
    {
     "name": "stdout",
     "output_type": "stream",
     "text": [
      "['3d_Printer', 'Arduino', 'Anime']\n",
      "7387\n",
      "0.0\n",
      "0.002816901408450704\n"
     ]
    }
   ],
   "source": [
    "from matplotlib import pyplot as plt\n",
    "print((vectors[0]))\n",
    "x=range(len(vectors[0]))\n",
    "alp=1\n",
    "V=vectors.copy()\n",
    "for i in range(len(V)):\n",
    "    A=V[i]+alp\n",
    "    B=(np.sum(vectors[0])+alp*np.sum(vectors))\n",
    "    C=A/B\n",
    "    V[i]=C\n",
    "k=np.max(V)-np.min(V)\n",
    "D[V==0]=1\n",
    "D=V/k\n",
    "#plt.plot(x,C)\n",
    "plt.plot(x,D[1])\n",
    "#plt.plot(x,vectors[2])\n",
    "#plt.plot(x,vectors[2])\n",
    "plt.show()\n",
    "print(vct_labels)\n",
    "print(len(wordmap))\n",
    "print(np.prod(D[1]))\n",
    "print(np.min(D))\n",
    "#no stem 500 20599 \n",
    "#stem 500 14883"
   ]
  },
  {
   "cell_type": "code",
   "execution_count": 181,
   "metadata": {},
   "outputs": [
    {
     "name": "stdout",
     "output_type": "stream",
     "text": [
      "3d_Printer\n",
      "Arduino\n",
      "Anime\n",
      "7387\n"
     ]
    }
   ],
   "source": [
    "max_docs_test=20\n",
    "test_vectors,true_lbs=vectorize_seq_nb(topics,max_docs_test,wordmap,root_test,doc_per_vect='single')\n",
    "def nb(test_vector,vectors,vct_labels,alpha):\n",
    "    probs=[]\n",
    "    maxm=0\n",
    "    lb=''\n",
    "    vct=0\n",
    "    _vectors=vectors.copy()\n",
    "    total_word_all=np.sum(_vectors)#len(wordmap)\n",
    "    for row in range(len(_vectors)):\n",
    "        total_word=np.sum(_vectors[row])\n",
    "        _vectors[row]=np.array((_vectors[row]+alpha),dtype=np.float64)\n",
    "        _vectors[row]=_vectors[row]/(total_word+alpha*total_word_all)\n",
    "    #norm_value=(1000.0-0.0)/(np.max(_vectors)-np.min(vectors))\n",
    "    for row in range(len(_vectors)):\n",
    "        vect=_vectors[row].copy()\n",
    "        #vect=vect*norm_value#1000#total_word_all#np.sum(_vectors)\n",
    "        vect[test_vector==0]=1.0\n",
    "        vect=np.float64(vect)\n",
    "        #test_vector_zero_mask=np.array(test_vector==0,dtype=np.uint8)\n",
    "        #test_vector_one_mask=np.array(test_vector!=0,dtype=np.uint8)\n",
    "        #vect=test_vector_one_mask*vectors[row]+test_vector_zero_mask\n",
    "        \n",
    "        #print('vect',vect)\n",
    "        #plt.plot(range(len(vect)),vect)\n",
    "        #plt.show()\n",
    "        #vect[vect<0.00001]=1\n",
    "        prob=np.prod(vect)\n",
    "        #prob=1\n",
    "        #for p in range(len(vect)):\n",
    "        #    if vect[p]!=1:\n",
    "        #        prob*=(vect[p]*1000)\n",
    "        #prob=np.sum(vect)\n",
    "        probs.append(prob)\n",
    "        if prob>=maxm:\n",
    "            maxm=prob\n",
    "            lb=vct_labels[row]\n",
    "    return probs,lb\n",
    "print(len(test_vectors[0]))"
   ]
  },
  {
   "cell_type": "code",
   "execution_count": 182,
   "metadata": {},
   "outputs": [
    {
     "name": "stdout",
     "output_type": "stream",
     "text": [
      "alpha:  0.1 acc : 0.8833333333333333\n",
      "alpha:  0.5 acc : 0.8666666666666667\n",
      "alpha:  1.0 acc : 0.85\n",
      "alpha:  0.01 acc : 0.8666666666666667\n",
      "alpha:  0.05 acc : 0.8833333333333333\n",
      "alpha:  0.1 acc : 0.8833333333333333\n",
      "alpha:  0.001 acc : 0.8666666666666667\n",
      "alpha:  0.005 acc : 0.8666666666666667\n",
      "alpha:  0.01 acc : 0.8666666666666667\n",
      "alpha:  0.0001 acc : 0.85\n",
      "alpha:  0.0005 acc : 0.8666666666666667\n",
      "alpha:  0.001 acc : 0.8666666666666667\n",
      "alpha:  1e-05 acc : 0.85\n",
      "alpha:  5e-05 acc : 0.85\n",
      "alpha:  0.0001 acc : 0.85\n"
     ]
    }
   ],
   "source": [
    "import time\n",
    "alph=10\n",
    "no_topics=len(topics)\n",
    "tot_doc=no_topics*max_docs_train\n",
    "tot_doc_test=no_topics*max_docs_test\n",
    "acc_log=''\n",
    "acc_log+='******************************************************************\\n'\n",
    "acc_log+=str(topics)+'\\n'\n",
    "acc_log+=str(['no_topic','train doc per topic','train_doc','test doc per topic','test_doc','word map'])+'\\n'\n",
    "acc_log+=str([no_topics,max_docs_train,tot_doc,max_docs_test,tot_doc_test,str(len(wordmap))])+'\\n'\n",
    "acc_log+='******************************************************************\\n'\n",
    "acc_log+=str(['alpha','accuracy','time'])+'\\n'\n",
    "lst=np.array([1,5,10],dtype=np.float64)\n",
    "alpha_list=np.concatenate((lst/10,lst/100,lst/1000,lst/10000,lst/100000))\n",
    "alpha_list=np.round(alpha_list,5)\n",
    "#alpha_list=[.1]\n",
    "for al in alpha_list:\n",
    "    T=time.time()\n",
    "    acc=0\n",
    "    alpha=al\n",
    "    for i in range(len(test_vectors)):\n",
    "        pred,pred_label=nb(test_vectors[i],vectors,vct_labels,alpha)\n",
    "        #print(true_lbs[i],pred_label)\n",
    "        #print(pred)\n",
    "        if pred_label==true_lbs[i]:\n",
    "            acc=acc+1\n",
    "        else:\n",
    "            #print('no')\n",
    "            #print(pred)\n",
    "            pass\n",
    "        #print('res','pred',lb,'true',true_lbs[i],i+1,acc)\n",
    "    T=time.time()-T\n",
    "    accuracy=acc/(i+1)\n",
    "    print('alpha: ',alpha,'acc :',accuracy)\n",
    "    acc_log+=(str([alpha,accuracy,T])+'\\n')\n",
    "acc_log=re.sub('[\\[\\]]','',acc_log)\n",
    "#f=open('Report/nb_topic3_200_20.csv','a')\n",
    "#f.write(acc_log)\n",
    "#f.close()\n",
    "    #print(pred)"
   ]
  },
  {
   "cell_type": "code",
   "execution_count": 175,
   "metadata": {},
   "outputs": [
    {
     "name": "stdout",
     "output_type": "stream",
     "text": [
      "10771.0\n"
     ]
    }
   ],
   "source": [
    "print(np.sum(vectors[0]))"
   ]
  },
  {
   "cell_type": "code",
   "execution_count": null,
   "metadata": {},
   "outputs": [],
   "source": []
  },
  {
   "cell_type": "code",
   "execution_count": 51,
   "metadata": {},
   "outputs": [
    {
     "data": {
      "text/plain": [
       "0.0"
      ]
     },
     "execution_count": 51,
     "metadata": {},
     "output_type": "execute_result"
    }
   ],
   "source": [
    "1.0e-325"
   ]
  },
  {
   "cell_type": "code",
   "execution_count": 15,
   "metadata": {
    "scrolled": true
   },
   "outputs": [
    {
     "name": "stdout",
     "output_type": "stream",
     "text": [
      "[1 2 3 4 5 6]\n",
      "[1 2 3 4 5 6] [  1   2 100   4   5   6]\n",
      "[[0 1 0 0 0 0]]\n",
      "10910624\n",
      "10910656\n",
      "10910656\n",
      "[1. 1. 2. 1. 1.]\n"
     ]
    }
   ],
   "source": [
    "#print(word_list)\n",
    "d=np.array([1,2,3,4,5,6])\n",
    "print(d)\n",
    "k=d.copy()\n",
    "k[k==3]=100\n",
    "print(d,k)\n",
    "tv=vectors\n",
    "a=vectors[0,:]\n",
    "#print(len())\n",
    "print(np.array([k==2],dtype=np.uint8))\n",
    "var=8\n",
    "print(id(var))\n",
    "def v(var):\n",
    "    var=var+1\n",
    "    print(id(var))\n",
    "    return var\n",
    "var=v(var)\n",
    "print(id(var))\n",
    "v=np.ones(5)\n",
    "def func(v):\n",
    "    v[2]=v[2]+1\n",
    "    return 1\n",
    "func(v)\n",
    "print(v)"
   ]
  },
  {
   "cell_type": "code",
   "execution_count": 16,
   "metadata": {},
   "outputs": [
    {
     "name": "stdout",
     "output_type": "stream",
     "text": [
      "               0  freq\n",
      "1323          li   790\n",
      "4608        code   503\n",
      "2441     arduino   463\n",
      "26          http   459\n",
      "25          href   439\n",
      "404       strong   385\n",
      "944           em   378\n",
      "29           com   318\n",
      "400          rel   232\n",
      "10           use   230\n",
      "441     nofollow   224\n",
      "54         print   196\n",
      "718   blockquote   194\n",
      "13          like   184\n",
      "3364       anime   181\n",
      "1417          ul   174\n",
      "3093       board   160\n",
      "27           www   158\n",
      "55          time   138\n",
      "89         using   135\n",
      "64          used   135\n",
      "34      printing   128\n",
      "3035         pre   121\n",
      "15            3d   120\n",
      "711         just   119\n",
      "5892      serial   117\n",
      "586          way   113\n",
      "437           en   111\n",
      "98      filament   111\n",
      "3062       power   108\n",
      "3125         pin   107\n",
      "16       printer   106\n",
      "41          need   103\n",
      "3455       manga   101\n",
      "3379          gt    98\n",
      "155         make    97\n",
      "3121        pins    95\n",
      "222          org    92\n",
      "195         does    92\n",
      "439         wiki    88\n",
      "3081          lt    87\n",
      "3456      series    85\n",
      "2331        data    84\n",
      "5832         uno    83\n",
      "2796         amp    80\n",
      "107    different    79\n",
      "191        parts    79\n",
      "436        https    78\n",
      "178          don    77\n",
      "90           abs    77\n"
     ]
    }
   ],
   "source": [
    "words=list(wordmap.keys())\n",
    "freq=list(wordmap.values())\n",
    "word_df=pd.DataFrame(words,index=list(wordmap.values()))\n",
    "word_df=word_df.sort_index()\n",
    "word_df['freq']=wc\n",
    "word_df=word_df.sort_values('freq',ascending=False)\n",
    "print(word_df[0:50])\n",
    "#print(len(vectors))"
   ]
  },
  {
   "cell_type": "code",
   "execution_count": 17,
   "metadata": {},
   "outputs": [
    {
     "ename": "IndexError",
     "evalue": "index 12 is out of bounds for axis 0 with size 3",
     "output_type": "error",
     "traceback": [
      "\u001b[0;31m---------------------------------------------------------------------------\u001b[0m",
      "\u001b[0;31mIndexError\u001b[0m                                Traceback (most recent call last)",
      "\u001b[0;32m<ipython-input-17-63234f6ac4ef>\u001b[0m in \u001b[0;36m<module>\u001b[0;34m\u001b[0m\n\u001b[1;32m      1\u001b[0m \u001b[0;32mfrom\u001b[0m \u001b[0mmatplotlib\u001b[0m \u001b[0;32mimport\u001b[0m \u001b[0mpyplot\u001b[0m \u001b[0;32mas\u001b[0m \u001b[0mplt\u001b[0m\u001b[0;34m\u001b[0m\u001b[0;34m\u001b[0m\u001b[0m\n\u001b[0;32m----> 2\u001b[0;31m \u001b[0mvct\u001b[0m\u001b[0;34m=\u001b[0m\u001b[0;34m[\u001b[0m\u001b[0mvectors\u001b[0m\u001b[0;34m[\u001b[0m\u001b[0;36m12\u001b[0m\u001b[0;34m]\u001b[0m\u001b[0;34m[\u001b[0m\u001b[0;34m:\u001b[0m\u001b[0;36m500\u001b[0m\u001b[0;34m]\u001b[0m\u001b[0;34m]\u001b[0m\u001b[0;34m\u001b[0m\u001b[0;34m\u001b[0m\u001b[0m\n\u001b[0m\u001b[1;32m      3\u001b[0m \u001b[0mtest\u001b[0m\u001b[0;34m=\u001b[0m\u001b[0mvectors\u001b[0m\u001b[0;34m[\u001b[0m\u001b[0;36m15\u001b[0m\u001b[0;34m]\u001b[0m\u001b[0;34m[\u001b[0m\u001b[0;34m:\u001b[0m\u001b[0;36m498\u001b[0m\u001b[0;34m]\u001b[0m\u001b[0;34m\u001b[0m\u001b[0;34m\u001b[0m\u001b[0m\n\u001b[1;32m      4\u001b[0m \u001b[0mdis\u001b[0m\u001b[0;34m=\u001b[0m\u001b[0meucl_dis\u001b[0m\u001b[0;34m(\u001b[0m\u001b[0mtest\u001b[0m\u001b[0;34m,\u001b[0m\u001b[0mvct\u001b[0m\u001b[0;34m)\u001b[0m\u001b[0;34m\u001b[0m\u001b[0;34m\u001b[0m\u001b[0m\n\u001b[1;32m      5\u001b[0m \u001b[0mprint\u001b[0m\u001b[0;34m(\u001b[0m\u001b[0mvct\u001b[0m\u001b[0;34m)\u001b[0m\u001b[0;34m\u001b[0m\u001b[0;34m\u001b[0m\u001b[0m\n",
      "\u001b[0;31mIndexError\u001b[0m: index 12 is out of bounds for axis 0 with size 3"
     ]
    }
   ],
   "source": [
    "from matplotlib import pyplot as plt\n",
    "vct=[vectors[12][:500]]\n",
    "test=vectors[15][:498]\n",
    "dis=eucl_dis(test,vct)\n",
    "print(vct)\n",
    "print(test)\n",
    "print(dis[0][0])\n",
    "x=range(0,500)\n",
    "xt=range(0,498)\n",
    "plt.plot(x,vct[0],xt,test)\n",
    "plt.show"
   ]
  },
  {
   "cell_type": "code",
   "execution_count": 18,
   "metadata": {},
   "outputs": [
    {
     "ename": "NameError",
     "evalue": "name 'cos_dis' is not defined",
     "output_type": "error",
     "traceback": [
      "\u001b[0;31m---------------------------------------------------------------------------\u001b[0m",
      "\u001b[0;31mNameError\u001b[0m                                 Traceback (most recent call last)",
      "\u001b[0;32m<ipython-input-18-3f8aa0d40742>\u001b[0m in \u001b[0;36m<module>\u001b[0;34m\u001b[0m\n\u001b[1;32m     13\u001b[0m \u001b[0mtest_vector\u001b[0m\u001b[0;34m=\u001b[0m\u001b[0mvectors\u001b[0m\u001b[0;34m[\u001b[0m\u001b[0;36m0\u001b[0m\u001b[0;34m]\u001b[0m\u001b[0;34m[\u001b[0m\u001b[0;34m:\u001b[0m\u001b[0;34m-\u001b[0m\u001b[0;36m2\u001b[0m\u001b[0;34m]\u001b[0m\u001b[0;34m\u001b[0m\u001b[0;34m\u001b[0m\u001b[0m\n\u001b[1;32m     14\u001b[0m \u001b[0mvecto\u001b[0m\u001b[0;34m=\u001b[0m\u001b[0;34m[\u001b[0m\u001b[0mvectors\u001b[0m\u001b[0;34m[\u001b[0m\u001b[0;36m0\u001b[0m\u001b[0;34m]\u001b[0m\u001b[0;34m,\u001b[0m\u001b[0mvectors\u001b[0m\u001b[0;34m[\u001b[0m\u001b[0;36m1\u001b[0m\u001b[0;34m]\u001b[0m\u001b[0;34m]\u001b[0m\u001b[0;34m\u001b[0m\u001b[0;34m\u001b[0m\u001b[0m\n\u001b[0;32m---> 15\u001b[0;31m \u001b[0mh_dists\u001b[0m\u001b[0;34m=\u001b[0m\u001b[0mcos_dis\u001b[0m\u001b[0;34m(\u001b[0m\u001b[0mtest_vector\u001b[0m\u001b[0;34m,\u001b[0m\u001b[0mvecto\u001b[0m\u001b[0;34m)\u001b[0m\u001b[0;34m\u001b[0m\u001b[0;34m\u001b[0m\u001b[0m\n\u001b[0m\u001b[1;32m     16\u001b[0m \u001b[0;31m#h_df=pd.DataFrame(h_dists)\u001b[0m\u001b[0;34m\u001b[0m\u001b[0;34m\u001b[0m\u001b[0;34m\u001b[0m\u001b[0m\n\u001b[1;32m     17\u001b[0m \u001b[0;31m#h_df=h_df.sort_values(0)\u001b[0m\u001b[0;34m\u001b[0m\u001b[0;34m\u001b[0m\u001b[0;34m\u001b[0m\u001b[0m\n",
      "\u001b[0;31mNameError\u001b[0m: name 'cos_dis' is not defined"
     ]
    }
   ],
   "source": [
    "def eucl_dis(test_vector,vectors):\n",
    "    h_dists=[]\n",
    "    for vector in vectors:\n",
    "        vect=np.array(vector[:-2])\n",
    "        vect[vect>1]=1\n",
    "        label=vector[-1]\n",
    "        test_vect=np.array(test_vector)\n",
    "        dist=np.abs(vect-test_vect)\n",
    "        #dist=np.sum(dist)\n",
    "        h_dists.append([dist,label])\n",
    "    return h_dists\n",
    "\n",
    "test_vector=vectors[0][:-2]\n",
    "vecto=[vectors[0],vectors[1]]\n",
    "h_dists=cos_dis(test_vector,vecto)\n",
    "#h_df=pd.DataFrame(h_dists)\n",
    "#h_df=h_df.sort_values(0)\n",
    "print(h_dists)\n",
    "#print((vectors[15]))"
   ]
  },
  {
   "cell_type": "code",
   "execution_count": 109,
   "metadata": {},
   "outputs": [],
   "source": [
    "raw='I am hasib\\n,i \"am\" a student() so? @i do& my-duties! porp. and' \n",
    "#text=re.sub('\\n',' ',raw)\n",
    "text=raw.lower()\n",
    "text=re.sub('[^a-z0-9]',' ',text)\n",
    "#text=re.sub('-',' ',text)\n",
    "#text=re.sub('[\\'\"]','',text)\n",
    "#text=re.sub('[()?.@*#&!,$+]','',text)\n",
    "#print(text.split(' '))"
   ]
  },
  {
   "cell_type": "code",
   "execution_count": 27,
   "metadata": {},
   "outputs": [
    {
     "name": "stdout",
     "output_type": "stream",
     "text": [
      "1, 2, 3\n"
     ]
    }
   ],
   "source": [
    "txt=(str([1,2,3]))\n",
    "txt=re.sub('[\\[\\]]','',txt)\n",
    "print(txt)"
   ]
  }
 ],
 "metadata": {
  "kernelspec": {
   "display_name": "Python 3",
   "language": "python",
   "name": "python3"
  },
  "language_info": {
   "codemirror_mode": {
    "name": "ipython",
    "version": 3
   },
   "file_extension": ".py",
   "mimetype": "text/x-python",
   "name": "python",
   "nbconvert_exporter": "python",
   "pygments_lexer": "ipython3",
   "version": "3.6.7"
  }
 },
 "nbformat": 4,
 "nbformat_minor": 2
}
