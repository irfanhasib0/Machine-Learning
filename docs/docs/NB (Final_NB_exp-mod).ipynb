{
 "cells": [
  {
   "cell_type": "markdown",
   "metadata": {},
   "source": [
    "### Naive Bayes Algorithm Implementation from scracth for text classification. \n",
    "In this project Naive Bayes Algorithm is implemented for predicting document class of an archived dataset of stack exchange. The text processing part is implemented with raw python without use of NLTK of any other text pre-processing library.\n"
   ]
  },
  {
   "cell_type": "code",
   "execution_count": 1,
   "metadata": {},
   "outputs": [],
   "source": [
    "from xml.dom import minidom\n",
    "import re\n",
    "import pandas as pd\n",
    "import sys\n",
    "import pickle\n",
    "import numpy as np\n",
    "#from nltk.stem import PorterStemmer\n",
    "#from nltk.tokenize import sent_tokenize, word_tokenize\n",
    "#ps = PorterStemmer()"
   ]
  },
  {
   "cell_type": "markdown",
   "metadata": {},
   "source": [
    "### Preprocessing steps (Without NLTK or other library)\n",
    "\n",
    "1. Stem regular verbs\n",
    "2. Stem irregular verbs\n",
    "3. Removing minor words\n",
    "4. Removing tags and garbage charecters with rtegular expression.\n",
    "\n",
    "*All of these is implemented with raw python (without nltk)"
   ]
  },
  {
   "cell_type": "code",
   "execution_count": 2,
   "metadata": {},
   "outputs": [],
   "source": [
    "root='Dataset/'\n",
    "f=open(root+'Stopwords.txt')\n",
    "s_words=f.read()\n",
    "s_words=s_words.split('\\n')\n",
    "s_words.append('')\n",
    "\n",
    "f=open(root+'verbs.txt','r')\n",
    "verbs=f.read()\n",
    "f.close()\n",
    "verbs=verbs.split('\\n')\n",
    "\n",
    "irr=pd.read_csv(root+'irr_verbs.txt',delimiter=',',names=['root','past','past_par'])\n",
    "verb_root=list(irr['root'])\n",
    "past=list(irr['past'])\n",
    "past_pp=list(irr['past_par'])\n",
    "\n",
    "\n",
    "def stem_regular_verb(word):\n",
    "    if len(word)<=3:\n",
    "        return word\n",
    "    if word[-2:]=='es':\n",
    "        if word[:-2] in verbs:\n",
    "            word=word[:-2]\n",
    "\n",
    "    elif word[-1:]=='s':\n",
    "        if word[:-1] in verbs:\n",
    "            word=word[:-1]\n",
    "            \n",
    "    elif word[-3:]=='ing':\n",
    "        if word[:-3] in verbs:\n",
    "            word=word[:-3]\n",
    "        if word[:-4] in verbs:\n",
    "            word=word[:-4]\n",
    "        else:\n",
    "            word=word[:-3]\n",
    "    \n",
    "    elif word[-2:]=='ed':\n",
    "        if word[:-2] in verbs:\n",
    "            word=word[:-2]\n",
    "        elif word[:-1] in verbs:\n",
    "            word=word[:-1]\n",
    "    #word=stem_irregular(word)\n",
    "    return word\n",
    "def stem_simple(word):\n",
    "    if word[-2:]=='es':\n",
    "            word=word[:-2]   \n",
    "    elif word[-1:]=='s':\n",
    "            word=word[:-1]\n",
    "    elif word[-3:]=='ing':\n",
    "            word=word[:-3]\n",
    "    \n",
    "    elif word[-2:]=='ed':\n",
    "            word=word[:-2]\n",
    "    return word\n",
    "\n",
    "def stem_irregular_verb(word):\n",
    "        if word in past:\n",
    "            ind=past.index(word)\n",
    "            word=verb_root[ind]\n",
    "        elif word in past_pp:\n",
    "            ind=past_pp.index(word)\n",
    "            word=verb_root[ind]\n",
    "        return word\n",
    "def stem_word(word):\n",
    "    temp=word\n",
    "    word=stem_regular_verb(word)\n",
    "    word=stem_irregular_verb(word)\n",
    "    #word=ps.stem(word)\n",
    "    if(len(word)<=1):\n",
    "        return temp\n",
    "    return word   \n",
    "def remove_minor_words(wordmap,word_count,min_occurance):\n",
    "    words=list(wordmap.keys())\n",
    "    freq=list(wordmap.values())\n",
    "    word_df=pd.DataFrame(words,index=list(wordmap.values()),columns=['words'])\n",
    "    word_df=word_df.sort_index()\n",
    "    word_df['freq']=wc\n",
    "    word_df=word_df.sort_values('freq',ascending=False)\n",
    "    mask=word_df['freq']<=min_occurance\n",
    "    word_df=word_df[mask]\n",
    "    \n",
    "    ss_words=(list(word_df['words']))\n",
    "    print('initial length of wordmap :',len(wordmap))\n",
    "    for word in ss_words:\n",
    "        del wordmap[word]\n",
    "    \n",
    "    _wordmap={}\n",
    "    ind=0\n",
    "    for word in wordmap.keys():\n",
    "        _wordmap[word]=ind\n",
    "        ind+=1\n",
    "    print('reduced length of wordmap :',len(_wordmap))\n",
    "    return _wordmap\n",
    "def remove_tags(doc):\n",
    "    text=doc.lower()\n",
    "    #text=re.sub('\\n',' ',text)\n",
    "    #text=re.sub('-',' ',text)\n",
    "    #text=re.sub('[()?.@*#&!,$]','',text)\n",
    "    #text=re.sub('[\\']','',text)\n",
    "    #text=re.sub('[^a-z0-9]',' ',text)\n",
    "    #words=text.split(' ')\n",
    "    text=re.sub('<[^<>]+>',' ',text)\n",
    "    words=re.findall('\\w+',text)\n",
    "    return words\n",
    "def pre_process(topics,max_doc,root):\n",
    "    index=0\n",
    "    labels=[]\n",
    "    ln=0\n",
    "    labeled_docs={}\n",
    "    for topic in topics:\n",
    "        print(topic)\n",
    "        mydoc = minidom.parse(root+topic+'.xml')\n",
    "        documents = mydoc.getElementsByTagName('row')\n",
    "        doc_count=0\n",
    "        docs=[]\n",
    "        for doc in documents:\n",
    "            doc=doc.attributes['Body'].value\n",
    "            if len(doc)<5:\n",
    "                continue\n",
    "            words = remove_tags(doc)\n",
    "            ln+=len(words)\n",
    "            docs.append(words)\n",
    "            labels.append(topic)\n",
    "            doc_count+=1\n",
    "            if doc_count>=max_doc:\n",
    "                break\n",
    "        labeled_docs[topic]=docs\n",
    "    return labeled_docs,ln"
   ]
  },
  {
   "cell_type": "code",
   "execution_count": 3,
   "metadata": {},
   "outputs": [
    {
     "name": "stdout",
     "output_type": "stream",
     "text": [
      "3d_Printer\n",
      "Coffee\n",
      "Chess\n",
      "3d_Printer\n",
      "Coffee\n",
      "Chess\n"
     ]
    }
   ],
   "source": [
    "root_train='Dataset/Training/'\n",
    "root_test='Dataset/Test/'\n",
    "f=open(root+'Stopwords.txt')\n",
    "s_words=f.read()\n",
    "s_words=s_words.split('\\n')\n",
    "s_words.append('')\n",
    "max_docs_train=200\n",
    "max_docs_test=60\n",
    "log=False\n",
    "root_train='Dataset/Training/'\n",
    "#topics=['3d_Printer','Anime','Arduino']\n",
    "topics=['3d_Printer','Coffee','Chess']\n",
    "#topics=['3d_Printer','Coffee','Chess','Astronomy','Law']\n",
    "train_docs,ln=pre_process(topics,max_docs_train,root_train)\n",
    "test_docs,ln=pre_process(topics,max_docs_test,root_test)"
   ]
  },
  {
   "cell_type": "markdown",
   "metadata": {},
   "source": [
    "### Word to Vector\n",
    "1. Creating dictionary of words from dataset\n",
    "    \n",
    "       Function make dictionary\n",
    "    \n",
    "2. Creating Vector for every class i.e\n",
    "    \n",
    "       Function Vectorize sequence\n",
    "    \n",
    "    if class -- > A\n",
    "    \n",
    "              Vector A -- > prob_of_word1,prob_of_word2, prob_of_word3 ...... prob_of_wordn\n",
    "    \n",
    "    if class -- > B\n",
    "       \n",
    "              Vector B -- > prob_of_word1,prob_of_word2, prob_of_word3 ...... prob_of_wordn"
   ]
  },
  {
   "cell_type": "code",
   "execution_count": 4,
   "metadata": {},
   "outputs": [],
   "source": [
    "def make_dictionary(topics,max_doc,all_docs):\n",
    "    index=0\n",
    "    wordmap={}\n",
    "    word_count=[]\n",
    "    for topic in topics:\n",
    "        #print(topic)\n",
    "        doc_count=0\n",
    "        docs=all_docs[topic]\n",
    "        for doc in docs:\n",
    "            for word in doc:\n",
    "                if word in s_words or len(word)<=1:\n",
    "                    continue\n",
    "                word=stem_word(word)\n",
    "                if word not in wordmap:\n",
    "                    wordmap[word]=index\n",
    "                    word_count.append(int(1))\n",
    "                    index=index+1\n",
    "                elif word in wordmap:\n",
    "                    ind=wordmap[word]\n",
    "                    word_count[ind]=int(word_count[ind])+1\n",
    "    return wordmap,word_count\n",
    "\n",
    "def vectorize_seq_nb(topics,max_doc,wordmap,all_docs,doc_per_vect='all'):\n",
    "    if doc_per_vect=='single':\n",
    "        n_row=len(topics)*(max_doc)\n",
    "    if doc_per_vect=='all':\n",
    "        n_row=len(topics)\n",
    "    vectors=np.zeros((n_row,len(wordmap)),dtype=np.float64)\n",
    "    vct_label=[]\n",
    "    row=0\n",
    "    for topic in topics:\n",
    "        #print(topic)\n",
    "        doc_count=0\n",
    "        docs=all_docs[topic]\n",
    "        for doc in docs:\n",
    "            for word in doc:\n",
    "                #if use_nltk==True :word=ps.stem(word)\n",
    "                if word in wordmap:\n",
    "                    ind=wordmap[word]\n",
    "                    vectors[row,ind]=vectors[row,ind]+1\n",
    "            word_list.append(doc)\n",
    "            if doc_per_vect=='single':\n",
    "                vct_label.append(topic)\n",
    "                row=row+1\n",
    "        if doc_per_vect=='all':\n",
    "            vct_label.append(topic)\n",
    "            row=row+1\n",
    "        \n",
    "    return vectors,vct_label"
   ]
  },
  {
   "cell_type": "code",
   "execution_count": 5,
   "metadata": {},
   "outputs": [
    {
     "name": "stdout",
     "output_type": "stream",
     "text": [
      "Making dictionary ...\n",
      "Vectorizing Sequence ...\n",
      "6035\n"
     ]
    }
   ],
   "source": [
    "word_list=[]\n",
    "min_occurance=int(max_docs_train/200)\n",
    "print('Making dictionary ...')\n",
    "wordmap,wc=make_dictionary(topics,max_docs_train,train_docs)\n",
    "#print('Removing minor words:')\n",
    "#wordmap=remove_minor_words(wordmap,wc,min_occurance)\n",
    "print('Vectorizing Sequence ...')\n",
    "vectors,vct_labels=vectorize_seq_nb(topics,max_docs_train,wordmap,train_docs)\n",
    "print(len(wordmap))"
   ]
  },
  {
   "cell_type": "markdown",
   "metadata": {},
   "source": [
    "### Naive Bayes Function\n",
    "                                   P(word | Class ) * P(Class)\n",
    "              P(Class | word) -------------------------------------------\n",
    "                                          P(word)\n",
    "                                          \n",
    "                                          \n",
    "                                          \n",
    "                              Here , \n",
    "                                * P(word | Class) is the vector determined previous section.\n",
    "                                 \n",
    "                                * P(Class) is equal for every class every has equal number samples.\n",
    "                                \n",
    "                                * P(Class | word) is our final class probality.\n"
   ]
  },
  {
   "cell_type": "code",
   "execution_count": 6,
   "metadata": {},
   "outputs": [
    {
     "name": "stdout",
     "output_type": "stream",
     "text": [
      "180\n"
     ]
    }
   ],
   "source": [
    "test_vectors,true_lbs=vectorize_seq_nb(topics,max_docs_test,wordmap,test_docs,doc_per_vect='single')\n",
    "def naive_bayes(test_vector,vectors,vct_labels,alpha):\n",
    "    probs=[]\n",
    "    maxm=0\n",
    "    lb=''\n",
    "    vct=0\n",
    "    _vectors=vectors.copy()\n",
    "    total_word_all=np.sum(_vectors)#len(wordmap)\n",
    "    for row in range(len(_vectors)):\n",
    "        total_word=np.sum(_vectors[row])\n",
    "        _vectors[row]=_vectors[row]+alpha\n",
    "        _vectors[row]=_vectors[row]/(total_word+alpha*total_word_all)\n",
    "    norm_value=(1000.0-0)/(np.max(_vectors)-np.min(_vectors))\n",
    "    for row in range(len(_vectors)):\n",
    "        vect=_vectors[row].copy()\n",
    "        vect=np.exp(vect)\n",
    "        vect[test_vector==0]=1.0\n",
    "        prob=np.prod(vect)\n",
    "        probs.append(prob)\n",
    "        if prob>=maxm:\n",
    "            maxm=prob\n",
    "            lb=vct_labels[row]\n",
    "    return probs,lb\n",
    "print(len(test_vectors))"
   ]
  },
  {
   "cell_type": "markdown",
   "metadata": {},
   "source": [
    "### Training with alpha values from 0.00001 to 0.1"
   ]
  },
  {
   "cell_type": "code",
   "execution_count": 7,
   "metadata": {},
   "outputs": [],
   "source": [
    "import time\n",
    "from copy import copy\n",
    "alph=10\n",
    "no_topics=len(topics)\n",
    "tot_doc=no_topics*max_docs_train\n",
    "tot_doc_test=no_topics*max_docs_test\n",
    "acc_log=''\n",
    "acc_log=[]\n",
    "lst=np.array([1,2,3,4,5],dtype=np.float64)\n",
    "\n",
    "\n",
    "acc_list=[]\n",
    "alph_list=[]\n",
    "alpha_list=np.concatenate((lst/100000,lst/10000,lst/1000,lst/100,lst/10))\n",
    "alpha_list=np.round(alpha_list,5)\n",
    "#alpha_list=[.000001]\n",
    "max_acc=0\n",
    "for al in alpha_list:\n",
    "    T=time.time()\n",
    "    acc=0\n",
    "    alpha=al\n",
    "    predictions=[]\n",
    "    for i in range(len(test_vectors)):\n",
    "        pred,pred_label=naive_bayes(test_vectors[i],vectors,vct_labels,alpha)\n",
    "        if pred_label==true_lbs[i]:\n",
    "            acc=acc+1\n",
    "        predictions.append(pred_label)\n",
    "    T=time.time()-T\n",
    "    accuracy=acc/(i+1)\n",
    "    if acc>max_acc:\n",
    "        max_acc=acc\n",
    "        final_predictions=copy(predictions)\n",
    "    acc_list.append(accuracy)\n",
    "    alph_list.append(alpha)\n",
    "    #print('alpha: ',alpha,'acc :',accuracy)\n",
    "    acc_log+=[[alpha,accuracy,T]]\n",
    "\n",
    "acc_list=np.array(acc_list,dtype=np.float64)\n",
    "alpha_list=np.array(alpha_list,dtype=np.float64)\n",
    "max_acc=np.max(acc_list)\n",
    "avg_acc=np.mean(acc_list)\n",
    "max_alpha=alph_list[np.argmax(acc_list)]\n",
    "head={'alpha':alph_list,'accuracy':acc_list}\n",
    "result=pd.DataFrame(head,index=range(len(acc_list)))\n",
    "if log==True:\n",
    "    f=open('NB/NB_mod.csv','a')\n",
    "    f.write(head+result)\n",
    "    f.close()\n",
    "    f=open('Report_KNN_NB/NB_topic_2_200_60_no_corr.txt','a')\n",
    "    f.write(acc_log)\n",
    "    f.close()\n",
    "\n",
    "    #print(pred)"
   ]
  },
  {
   "cell_type": "code",
   "execution_count": 8,
   "metadata": {},
   "outputs": [
    {
     "ename": "NameError",
     "evalue": "name 'plt' is not defined",
     "output_type": "error",
     "traceback": [
      "\u001b[0;31m---------------------------------------------------------------------------\u001b[0m",
      "\u001b[0;31mNameError\u001b[0m                                 Traceback (most recent call last)",
      "\u001b[0;32m<ipython-input-8-5151d858028c>\u001b[0m in \u001b[0;36m<module>\u001b[0;34m()\u001b[0m\n\u001b[0;32m----> 1\u001b[0;31m \u001b[0mplt\u001b[0m\u001b[0;34m.\u001b[0m\u001b[0mplot\u001b[0m\u001b[0;34m(\u001b[0m\u001b[0mresult\u001b[0m\u001b[0;34m.\u001b[0m\u001b[0malpha\u001b[0m\u001b[0;34m,\u001b[0m\u001b[0mresult\u001b[0m\u001b[0;34m.\u001b[0m\u001b[0maccuracy\u001b[0m\u001b[0;34m)\u001b[0m\u001b[0;34m\u001b[0m\u001b[0m\n\u001b[0m",
      "\u001b[0;31mNameError\u001b[0m: name 'plt' is not defined"
     ]
    }
   ],
   "source": [
    "plt.plot(result.alpha,result.accuracy)"
   ]
  },
  {
   "cell_type": "markdown",
   "metadata": {},
   "source": [
    "### Result"
   ]
  },
  {
   "cell_type": "code",
   "execution_count": 9,
   "metadata": {},
   "outputs": [
    {
     "data": {
      "text/plain": [
       "<Figure size 2500x500 with 1 Axes>"
      ]
     },
     "metadata": {},
     "output_type": "display_data"
    }
   ],
   "source": [
    "from matplotlib import pyplot as plt\n",
    "fig=plt.figure(figsize=(25,5))\n",
    "result_log=pd.DataFrame({})\n",
    "result_log['pred']=predictions\n",
    "result_log['true_lbs']=true_lbs\n",
    "result_log=result_log.sample(frac=1).reset_index(drop=True)\n",
    "plt.plot(result_log['true_lbs'],'bx')\n",
    "plt.plot(result_log['pred'],'r--',alpha=0.4)\n",
    "plt.savefig('stack_exchange_pred.png')\n",
    "plt.show()"
   ]
  },
  {
   "cell_type": "code",
   "execution_count": 10,
   "metadata": {},
   "outputs": [
    {
     "data": {
      "text/html": [
       "<div>\n",
       "<style scoped>\n",
       "    .dataframe tbody tr th:only-of-type {\n",
       "        vertical-align: middle;\n",
       "    }\n",
       "\n",
       "    .dataframe tbody tr th {\n",
       "        vertical-align: top;\n",
       "    }\n",
       "\n",
       "    .dataframe thead th {\n",
       "        text-align: right;\n",
       "    }\n",
       "</style>\n",
       "<table border=\"1\" class=\"dataframe\">\n",
       "  <thead>\n",
       "    <tr style=\"text-align: right;\">\n",
       "      <th></th>\n",
       "      <th>pred</th>\n",
       "      <th>true_lbs</th>\n",
       "      <th>right</th>\n",
       "      <th>wrong</th>\n",
       "    </tr>\n",
       "  </thead>\n",
       "  <tbody>\n",
       "    <tr>\n",
       "      <th>0</th>\n",
       "      <td>Chess</td>\n",
       "      <td>Chess</td>\n",
       "      <td>1</td>\n",
       "      <td>0</td>\n",
       "    </tr>\n",
       "    <tr>\n",
       "      <th>1</th>\n",
       "      <td>Chess</td>\n",
       "      <td>Chess</td>\n",
       "      <td>1</td>\n",
       "      <td>0</td>\n",
       "    </tr>\n",
       "    <tr>\n",
       "      <th>2</th>\n",
       "      <td>3d_Printer</td>\n",
       "      <td>3d_Printer</td>\n",
       "      <td>1</td>\n",
       "      <td>0</td>\n",
       "    </tr>\n",
       "    <tr>\n",
       "      <th>3</th>\n",
       "      <td>Chess</td>\n",
       "      <td>Chess</td>\n",
       "      <td>1</td>\n",
       "      <td>0</td>\n",
       "    </tr>\n",
       "    <tr>\n",
       "      <th>4</th>\n",
       "      <td>Chess</td>\n",
       "      <td>Chess</td>\n",
       "      <td>1</td>\n",
       "      <td>0</td>\n",
       "    </tr>\n",
       "    <tr>\n",
       "      <th>5</th>\n",
       "      <td>3d_Printer</td>\n",
       "      <td>3d_Printer</td>\n",
       "      <td>1</td>\n",
       "      <td>0</td>\n",
       "    </tr>\n",
       "    <tr>\n",
       "      <th>6</th>\n",
       "      <td>Chess</td>\n",
       "      <td>Chess</td>\n",
       "      <td>1</td>\n",
       "      <td>0</td>\n",
       "    </tr>\n",
       "    <tr>\n",
       "      <th>7</th>\n",
       "      <td>Chess</td>\n",
       "      <td>Chess</td>\n",
       "      <td>1</td>\n",
       "      <td>0</td>\n",
       "    </tr>\n",
       "    <tr>\n",
       "      <th>8</th>\n",
       "      <td>3d_Printer</td>\n",
       "      <td>3d_Printer</td>\n",
       "      <td>1</td>\n",
       "      <td>0</td>\n",
       "    </tr>\n",
       "    <tr>\n",
       "      <th>9</th>\n",
       "      <td>Chess</td>\n",
       "      <td>Chess</td>\n",
       "      <td>1</td>\n",
       "      <td>0</td>\n",
       "    </tr>\n",
       "  </tbody>\n",
       "</table>\n",
       "</div>"
      ],
      "text/plain": [
       "         pred    true_lbs  right  wrong\n",
       "0       Chess       Chess      1      0\n",
       "1       Chess       Chess      1      0\n",
       "2  3d_Printer  3d_Printer      1      0\n",
       "3       Chess       Chess      1      0\n",
       "4       Chess       Chess      1      0\n",
       "5  3d_Printer  3d_Printer      1      0\n",
       "6       Chess       Chess      1      0\n",
       "7       Chess       Chess      1      0\n",
       "8  3d_Printer  3d_Printer      1      0\n",
       "9       Chess       Chess      1      0"
      ]
     },
     "execution_count": 10,
     "metadata": {},
     "output_type": "execute_result"
    }
   ],
   "source": [
    "result_log['right']=np.array(result_log.pred==result_log.true_lbs,dtype=np.int)\n",
    "result_log['wrong']=np.array(result_log.pred!=result_log.true_lbs,dtype=np.int)\n",
    "result_log.head(10)"
   ]
  },
  {
   "cell_type": "code",
   "execution_count": 11,
   "metadata": {},
   "outputs": [],
   "source": [
    "total=len(result_log)\n",
    "acc=result_log.right.sum()#,len(result_log)\n",
    "accuracy=acc/total\n",
    "labels=result_log['true_lbs'].unique()\n",
    "result_final={}\n",
    "for label in labels:\n",
    "    true_ind=result_log['true_lbs']==label\n",
    "    false_ind=result_log['true_lbs']!=label\n",
    "    Yes=result_log.loc[true_ind]\n",
    "    No=result_log.loc[false_ind]\n",
    "    tp=Yes.right.sum()\n",
    "    tn=Yes.wrong.sum()\n",
    "    fn=No.right.sum()\n",
    "    fp=No.wrong.sum()\n",
    "    recall=tp/(tp+tn)\n",
    "    precision=tp/(tp+fp)\n",
    "    result_final[label+'_prec']=precision\n",
    "    result_final[label+'_recall']=recall\n",
    "result_final['accuracy']=accuracy\n",
    "    "
   ]
  },
  {
   "cell_type": "code",
   "execution_count": 12,
   "metadata": {},
   "outputs": [
    {
     "data": {
      "image/png": "[encoded data removed]",
      "text/plain": [
       "<Figure size 432x288 with 1 Axes>"
      ]
     },
     "metadata": {
      "needs_background": "light"
     },
     "output_type": "display_data"
    }
   ],
   "source": [
    "result_final=pd.DataFrame(result_final,index=[''])\n",
    "result_final.plot.bar()\n",
    "plt.xlim(-.3,.8)\n",
    "plt.title('test result for stack exchange archived data \\n '+'train '+str(len(train_docs))+' samples test '+str(len(result_log))+' samples')\n",
    "plt.xlabel('summary of precision, recall, accuracy for stack exchange dataset')\n",
    "plt.savefig('stack_exchange'+'_NB.png')\n",
    "plt.show()"
   ]
  },
  {
   "cell_type": "markdown",
   "metadata": {},
   "source": [
    "### Extra experiments - Just for debugging"
   ]
  },
  {
   "cell_type": "code",
   "execution_count": 13,
   "metadata": {},
   "outputs": [
    {
     "data": {
      "text/plain": [
       "False"
      ]
     },
     "execution_count": 13,
     "metadata": {},
     "output_type": "execute_result"
    }
   ],
   "source": [
    "1.0e-323==0.0"
   ]
  },
  {
   "cell_type": "code",
   "execution_count": 14,
   "metadata": {},
   "outputs": [
    {
     "name": "stdout",
     "output_type": "stream",
     "text": [
      "              0  freq\n",
      "3048     coffee   560\n",
      "39        print   323\n",
      "10          use   181\n",
      "2570      chess   163\n",
      "425       water   157\n",
      "13         like   143\n",
      "40         time   141\n",
      "16      printer   127\n",
      "2147       game   124\n",
      "3165   caffeine   120\n",
      "4956       king   119\n",
      "83     filament   115\n",
      "368        open   115\n",
      "49         used   113\n",
      "140        make   108\n",
      "899       moves   105\n",
      "3050      beans   105\n",
      "3058       brew   103\n",
      "15           3d   103\n",
      "294        good   100\n",
      "535         way    97\n",
      "4963     player    97\n",
      "3123      roast    92\n",
      "74           us    90\n",
      "0            ve    89\n",
      "4947       pawn    87\n",
      "27         need    86\n",
      "257        play    85\n",
      "75          abs    84\n",
      "645        just    83\n",
      "3052   espresso    82\n",
      "2811      white    80\n",
      "175       parts    78\n",
      "2224        cup    76\n",
      "703     machine    76\n",
      "32         know    74\n",
      "85     material    74\n",
      "179        does    73\n",
      "76          pla    72\n",
      "353     process    72\n",
      "34        layer    71\n",
      "162         don    71\n",
      "5055      queen    66\n",
      "92    different    66\n",
      "2812      black    65\n",
      "165      better    65\n",
      "146        work    64\n",
      "1       printed    63\n",
      "24          say    62\n",
      "528      pieces    61\n"
     ]
    }
   ],
   "source": [
    "words=list(wordmap.keys())\n",
    "freq=list(wordmap.values())\n",
    "word_df=pd.DataFrame(words,index=list(wordmap.values()))\n",
    "word_df=word_df.sort_index()\n",
    "word_df['freq']=wc\n",
    "word_df=word_df.sort_values('freq',ascending=False)\n",
    "print(word_df[0:50])\n",
    "#print(len(vectors))"
   ]
  },
  {
   "cell_type": "code",
   "execution_count": 15,
   "metadata": {},
   "outputs": [
    {
     "name": "stdout",
     "output_type": "stream",
     "text": [
      "[35. 63. 16. ...  0.  0.  0.]\n"
     ]
    },
    {
     "data": {
      "image/png": "[encoded data removed]",
      "text/plain": [
       "<Figure size 432x288 with 1 Axes>"
      ]
     },
     "metadata": {
      "needs_background": "light"
     },
     "output_type": "display_data"
    },
    {
     "name": "stdout",
     "output_type": "stream",
     "text": [
      "['3d_Printer', 'Coffee', 'Chess']\n",
      "6035\n"
     ]
    }
   ],
   "source": [
    "from matplotlib import pyplot as plt\n",
    "print((vectors[0]))\n",
    "x=range(len(vectors[0]))\n",
    "plt.plot(x,vectors[0])\n",
    "plt.plot(x,vectors[2])\n",
    "#plt.plot(x,vectors[2])\n",
    "plt.show()\n",
    "print(vct_labels)\n",
    "print(len(wordmap))\n",
    "#no stem 500 20599 \n",
    "#stem 500 14883"
   ]
  },
  {
   "cell_type": "code",
   "execution_count": 16,
   "metadata": {},
   "outputs": [
    {
     "ename": "NameError",
     "evalue": "name 'cos_dis' is not defined",
     "output_type": "error",
     "traceback": [
      "\u001b[0;31m---------------------------------------------------------------------------\u001b[0m",
      "\u001b[0;31mNameError\u001b[0m                                 Traceback (most recent call last)",
      "\u001b[0;32m<ipython-input-16-3f8aa0d40742>\u001b[0m in \u001b[0;36m<module>\u001b[0;34m()\u001b[0m\n\u001b[1;32m     13\u001b[0m \u001b[0mtest_vector\u001b[0m\u001b[0;34m=\u001b[0m\u001b[0mvectors\u001b[0m\u001b[0;34m[\u001b[0m\u001b[0;36m0\u001b[0m\u001b[0;34m]\u001b[0m\u001b[0;34m[\u001b[0m\u001b[0;34m:\u001b[0m\u001b[0;34m-\u001b[0m\u001b[0;36m2\u001b[0m\u001b[0;34m]\u001b[0m\u001b[0;34m\u001b[0m\u001b[0m\n\u001b[1;32m     14\u001b[0m \u001b[0mvecto\u001b[0m\u001b[0;34m=\u001b[0m\u001b[0;34m[\u001b[0m\u001b[0mvectors\u001b[0m\u001b[0;34m[\u001b[0m\u001b[0;36m0\u001b[0m\u001b[0;34m]\u001b[0m\u001b[0;34m,\u001b[0m\u001b[0mvectors\u001b[0m\u001b[0;34m[\u001b[0m\u001b[0;36m1\u001b[0m\u001b[0;34m]\u001b[0m\u001b[0;34m]\u001b[0m\u001b[0;34m\u001b[0m\u001b[0m\n\u001b[0;32m---> 15\u001b[0;31m \u001b[0mh_dists\u001b[0m\u001b[0;34m=\u001b[0m\u001b[0mcos_dis\u001b[0m\u001b[0;34m(\u001b[0m\u001b[0mtest_vector\u001b[0m\u001b[0;34m,\u001b[0m\u001b[0mvecto\u001b[0m\u001b[0;34m)\u001b[0m\u001b[0;34m\u001b[0m\u001b[0m\n\u001b[0m\u001b[1;32m     16\u001b[0m \u001b[0;31m#h_df=pd.DataFrame(h_dists)\u001b[0m\u001b[0;34m\u001b[0m\u001b[0;34m\u001b[0m\u001b[0m\n\u001b[1;32m     17\u001b[0m \u001b[0;31m#h_df=h_df.sort_values(0)\u001b[0m\u001b[0;34m\u001b[0m\u001b[0;34m\u001b[0m\u001b[0m\n",
      "\u001b[0;31mNameError\u001b[0m: name 'cos_dis' is not defined"
     ]
    }
   ],
   "source": [
    "def eucl_dis(test_vector,vectors):\n",
    "    h_dists=[]\n",
    "    for vector in vectors:\n",
    "        vect=np.array(vector[:-2])\n",
    "        vect[vect>1]=1\n",
    "        label=vector[-1]\n",
    "        test_vect=np.array(test_vector)\n",
    "        dist=np.abs(vect-test_vect)\n",
    "        #dist=np.sum(dist)\n",
    "        h_dists.append([dist,label])\n",
    "    return h_dists\n",
    "\n",
    "test_vector=vectors[0][:-2]\n",
    "vecto=[vectors[0],vectors[1]]\n",
    "h_dists=cos_dis(test_vector,vecto)\n",
    "#h_df=pd.DataFrame(h_dists)\n",
    "#h_df=h_df.sort_values(0)\n",
    "print(h_dists)\n",
    "#print((vectors[15]))"
   ]
  },
  {
   "cell_type": "code",
   "execution_count": 17,
   "metadata": {},
   "outputs": [],
   "source": [
    "raw='I am hasib\\n,i \"am\" a student() so? @i do& my-duties! porp. and' \n",
    "#text=re.sub('\\n',' ',raw)\n",
    "text=raw.lower()\n",
    "text=re.sub('[^a-z0-9]',' ',text)\n",
    "#text=re.sub('-',' ',text)\n",
    "#text=re.sub('[\\'\"]','',text)\n",
    "#text=re.sub('[()?.@*#&!,$+]','',text)\n",
    "#print(text.split(' '))"
   ]
  },
  {
   "cell_type": "code",
   "execution_count": 18,
   "metadata": {},
   "outputs": [
    {
     "name": "stdout",
     "output_type": "stream",
     "text": [
      "1, 2, 3\n"
     ]
    }
   ],
   "source": [
    "txt=(str([1,2,3]))\n",
    "txt=re.sub('[\\[\\]]','',txt)\n",
    "print(txt)"
   ]
  },
  {
   "cell_type": "code",
   "execution_count": null,
   "metadata": {},
   "outputs": [],
   "source": []
  },
  {
   "cell_type": "code",
   "execution_count": null,
   "metadata": {},
   "outputs": [],
   "source": []
  }
 ],
 "metadata": {
  "kernelspec": {
   "display_name": "Python 3",
   "language": "python",
   "name": "python3"
  },
  "language_info": {
   "codemirror_mode": {
    "name": "ipython",
    "version": 3
   },
   "file_extension": ".py",
   "mimetype": "text/x-python",
   "name": "python",
   "nbconvert_exporter": "python",
   "pygments_lexer": "ipython3",
   "version": "3.6.5"
  }
 },
 "nbformat": 4,
 "nbformat_minor": 4
}
