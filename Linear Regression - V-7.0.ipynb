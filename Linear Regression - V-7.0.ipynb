{
 "cells": [
  {
   "cell_type": "code",
   "execution_count": 1,
   "metadata": {},
   "outputs": [],
   "source": [
    "import pandas as pd\n",
    "import numpy as np\n",
    "import seaborn as sns\n",
    "import matplotlib.pyplot as plt\n",
    "from scipy import stats\n",
    "from scipy.stats import skew,norm\n",
    "from scipy.stats.stats import pearsonr\n",
    "from sklearn.preprocessing import LabelEncoder\n",
    "from sklearn.preprocessing import RobustScaler"
   ]
  },
  {
   "cell_type": "code",
   "execution_count": 2,
   "metadata": {},
   "outputs": [],
   "source": [
    "def read_data():\n",
    "    train = pd.read_csv(\"train.csv\")\n",
    "    test = pd.read_csv(\"test.csv\")\n",
    "    #Drop the ID column since it is unnecessary for the prediction process\n",
    "    train.drop(\"Id\",axis =1,inplace = True)\n",
    "    test.drop(\"Id\",axis =1,inplace= True)\n",
    "    print('reading data done...')\n",
    "    return train,test"
   ]
  },
  {
   "cell_type": "code",
   "execution_count": 3,
   "metadata": {},
   "outputs": [],
   "source": [
    "def remove_outlier(train,norm_target=True):\n",
    "    if norm_target==True:\n",
    "        train[\"SalePrice\"] = np.log1p(train[\"SalePrice\"])\n",
    "    #Deleting Outliers of GrLivArea\n",
    "    train = train.drop(train[(train['GrLivArea']>4000) & (train['SalePrice']<300000)].index)\n",
    "    train=train.reset_index()\n",
    "    print('removing oulier done...')\n",
    "    return train\n"
   ]
  },
  {
   "cell_type": "code",
   "execution_count": 4,
   "metadata": {},
   "outputs": [],
   "source": [
    "def concate_data(train,test):\n",
    "    all_data = pd.concat((train.loc[:, 'MSSubClass': 'SaleCondition'],test.loc[:,'MSSubClass':'SaleCondition']),ignore_index=True)\n",
    "    print(\"all_data size is: {} \".format(all_data.shape))\n",
    "    print('Concating data done ...')\n",
    "    return all_data\n",
    "def missing_count(all_data):\n",
    "    all_data_na = (all_data.isnull().sum()/ len(all_data)) * 100\n",
    "    all_data_na = all_data_na.drop(all_data_na[all_data_na == 0].index)\n",
    "    all_data_na=all_data_na.sort_values(ascending = False)\n",
    "    missing_data =pd.DataFrame({'Missing Raio':all_data_na[all_data_na>0.0]})\n",
    "    miss_cols=list(missing_data.index)\n",
    "    num_feat,cat_feat,con_feat,dis_feat=get_feat_count(all_data)\n",
    "    i=0\n",
    "    m_cat_feat=[]\n",
    "    m_con_feat=[]\n",
    "    m_dis_feat=[]\n",
    "    m_all=[]\n",
    "    for col in miss_cols:\n",
    "        if col in cat_feat:\n",
    "            m_cat_feat.append(col)\n",
    "            m_all.append('catagorical')\n",
    "        if col in con_feat:\n",
    "            m_con_feat.append(col)\n",
    "            m_all.append('continuous')\n",
    "        if col in dis_feat:\n",
    "            m_dis_feat.append(col)\n",
    "            m_all.append('discrete')\n",
    "        i=i+1\n",
    "    missing_data['type']=m_all\n",
    "    #for col in m_cat_feat:\n",
    "    #    all_data[col]=all_data.fillna('Missing',inplace=True)\n",
    "    #for col in m_con_feat:\n",
    "    #    all_data[col]=all_data.fillna(all_data[col].mode()[0],inplace=True)\n",
    "    \n",
    "    return missing_data,m_cat_feat,m_con_feat,m_dis_feat"
   ]
  },
  {
   "cell_type": "code",
   "execution_count": 5,
   "metadata": {},
   "outputs": [],
   "source": [
    "def handle_missing_values(data):\n",
    "    # below categorical basement-related feature NaN means that there is no basement \n",
    "    none_cols=['PoolQC','MiscFeature','GarageType','Alley','Fence','FireplaceQu','GarageFinish',\n",
    "               'GarageQual','GarageCond','MasVnrType','MSSubClass','BsmtQual', 'BsmtCond','BsmtExposure',\n",
    "               'BsmtFinType1','BsmtFinType2']\n",
    "    for col in none_cols:\n",
    "        data[col] = data[col].fillna('None')\n",
    "    #Replacing missing value with 0(since no garage = no cars in such garage)\n",
    "    #missing values are likely zero for no basement \n",
    "    zero_cols=['GarageYrBlt','GarageArea', 'GarageCars','BsmtFinSF1','BsmtFinSF2', 'BsmtUnfSF',\n",
    "               'TotalBsmtSF','BsmtFullBath','BsmtHalfBath','MasVnrArea']\n",
    "    for col in zero_cols:\n",
    "        data[col] = data[col].fillna(0)\n",
    "\n",
    "    # NA is typical\n",
    "    data[\"Functional\"] = data[\"Functional\"].fillna('Typ')\n",
    "\n",
    "    #dropping as same value \n",
    "    #data = data.drop(['Utilities'], axis=1)\n",
    "    mode_cols=['MSZoning','Electrical','KitchenQual','Exterior1st','Exterior2nd','SaleType']\n",
    "    for col in mode_cols:\n",
    "        data[col] = data[col].fillna(data[col].mode()[0])\n",
    "\n",
    "    #group by Neigborhood and fill missing value with median Lot frontage of all the neighboorhood\n",
    "    data[\"LotFrontage\"] = data.groupby(\"Neighborhood\")[\"LotFrontage\"].transform(lambda x: x.fillna(x.median()))\n",
    "    #add total surface area as TotalSf = basement + firstflr + secondflr\n",
    "    data['TotalSF'] = data['TotalBsmtSF'] + data['1stFlrSF'] + data['2ndFlrSF']\n",
    "    print('Missing alues handling done ...')\n",
    "    return data"
   ]
  },
  {
   "cell_type": "code",
   "execution_count": 6,
   "metadata": {},
   "outputs": [],
   "source": [
    "def test_corr():\n",
    "    df=train[['MSSubClass','Neighborhood','SalePrice']].copy()\n",
    "    df['MSSubClass']=df['MSSubClass'].astype(str)\n",
    "    df[\"MSSubClass\"] = df.MSSubClass.map({'180':1, \n",
    "                                            '30':2, '45':2, \n",
    "                                            '190':3, '50':3, '90':3, \n",
    "                                            '85':4, '40':4, '160':4, \n",
    "                                            '70':5, '20':5, '75':5, '80':5, '150':5,\n",
    "                                            '120': 6, '60':6})\n",
    "    #lbl=LabelEncoder()\n",
    "    #df['Neighborhood']=lbl.fit(df.Neighborhood).transform(df.Neighborhood)\n",
    "    df[\"Neighborhood\"] = df.Neighborhood.map({'MeadowV':1,\n",
    "                                                   'IDOTRR':2, 'BrDale':2,\n",
    "                                                   'OldTown':3, 'Edwards':3, 'BrkSide':3,\n",
    "                                                   'Sawyer':4, 'Blueste':4, 'SWISU':4, 'NAmes':4,\n",
    "                                                   'NPkVill':5, 'Mitchel':5,\n",
    "                                                   'SawyerW':6, 'Gilbert':6, 'NWAmes':6,\n",
    "                                                   'Blmngtn':7, 'CollgCr':7, 'ClearCr':7, 'Crawfor':7,\n",
    "                                                   'Veenker':8, 'Somerst':8, 'Timber':8,\n",
    "                                                   'StoneBr':9,\n",
    "                                                   'NoRidge':10, 'NridgHt':10})\n",
    "\n",
    "    corr=df.corr()\n",
    "    print('corr',corr)\n",
    "    #-0.075083, 0.54827\n",
    "    #0.20153, 0.74731\n",
    "    return 0"
   ]
  },
  {
   "cell_type": "code",
   "execution_count": 7,
   "metadata": {},
   "outputs": [],
   "source": [
    "def get_corr_list(all_data,_feat,thr,enc):\n",
    "    #correration matrix\n",
    "    #ob.append('SalePrice')\n",
    "    all_obj_data=all_data.loc[:len(train),_feat]\n",
    "    all_obj_data['SalePrice']=train['SalePrice']\n",
    "    target='SalePrice'\n",
    "    if enc=='ord_enc':\n",
    "        for feat in _feat:\n",
    "            ordered_labels = all_obj_data.groupby([feat])[target].mean()\n",
    "            ordered_labels=ordered_labels.sort_values().index\n",
    "            ordinal_label = {}\n",
    "            for i, k in enumerate(ordered_labels, 0):\n",
    "                ordinal_label[k]=i\n",
    "            #print(ordinal_label)\n",
    "            all_obj_data.loc[:,feat]=all_obj_data.loc[:,feat].map(ordinal_label)\n",
    "    if enc=='ord_enc_mode':\n",
    "        for feat in _feat:\n",
    "            ordered_labels = all_obj_data.groupby([feat])[feat].count()\n",
    "            ordered_labels=ordered_labels.sort_values().index\n",
    "            ordinal_label = {}\n",
    "            for i, k in enumerate(ordered_labels, 0):\n",
    "                ordinal_label[k]=i\n",
    "            #print(ordinal_label)\n",
    "            all_obj_data.loc[:,feat]=all_obj_data.loc[:,feat].map(ordinal_label)\n",
    "    if enc=='ord_enc_exp':\n",
    "        for feat in _feat:\n",
    "            ordered_labels = all_obj_data.groupby([feat])[feat].indxmin()\n",
    "            ordered_labels=ordered_labels.sort_values().index\n",
    "            ordinal_label = {}\n",
    "            for i, k in enumerate(ordered_labels, 0):\n",
    "                ordinal_label[k]=i\n",
    "            #print(ordinal_label)\n",
    "            all_obj_data.loc[:,feat]=all_obj_data.loc[:,feat].map(ordinal_label)\n",
    "    if enc=='lbl_enc':\n",
    "        for col in _feat:\n",
    "                lbl = LabelEncoder()\n",
    "                lbl.fit(list(all_obj_data[col].values))\n",
    "                all_obj_data[col] = lbl.transform(list(all_obj_data[col].values))\n",
    "\n",
    "    corrmat = all_obj_data.corr()\n",
    "    corrmat['SalePrice']=corrmat['SalePrice'].abs()\n",
    "    corrmat1=corrmat.sort_values( by=['SalePrice'],ascending=False)\n",
    "    cm=(corrmat1['SalePrice'].abs())\n",
    "    corr_cols=list(cm[cm>thr].index)\n",
    "    corr_cols=corr_cols[1:]\n",
    "    #print(cm)\n",
    "    #print(len(corr_cols))\n",
    "    #all_data.drop(corr_cols,axis=1,inplace=True)\n",
    "    return cm,corr_cols\n",
    "    #9.50759234513011\n",
    "    #9.563138228351098"
   ]
  },
  {
   "cell_type": "code",
   "execution_count": 8,
   "metadata": {},
   "outputs": [],
   "source": [
    "def ordinal_encode(_data,cols):\n",
    "    target='SalePrice'\n",
    "    data=_data.loc[:len(train),:].copy()\n",
    "    data[target]=train.SalePrice\n",
    "    for feat in cols:\n",
    "        ordered_labels = data.groupby([feat])[target].mean()\n",
    "        ordered_labels=ordered_labels.sort_values().index\n",
    "        ordinal_label = {}\n",
    "        for i, k in enumerate(ordered_labels, 0):\n",
    "            ordinal_label[k]=i\n",
    "        print(ordinal_label)\n",
    "        _data.loc[:,feat]=_data.loc[:,feat].map(ordinal_label)\n",
    "    return _data"
   ]
  },
  {
   "cell_type": "code",
   "execution_count": 9,
   "metadata": {},
   "outputs": [],
   "source": [
    "def ordinal_encode_exp(_data,cols):\n",
    "    target='SalePrice'\n",
    "    data=_data.loc[:len(train),:].copy()\n",
    "    data[target]=train.SalePrice\n",
    "    for feat in cols:\n",
    "        ordered_labels = data.groupby([feat])[feat].indxmin\n",
    "        ordered_labels=ordered_labels.sort_values().index\n",
    "        ordinal_label = {}\n",
    "        for i, k in enumerate(ordered_labels, 0):\n",
    "            ordinal_label[k]=i\n",
    "        print(ordinal_label)\n",
    "        _data.loc[:,feat]=_data.loc[:,feat].map(ordinal_label)\n",
    "    return _data"
   ]
  },
  {
   "cell_type": "code",
   "execution_count": 10,
   "metadata": {},
   "outputs": [],
   "source": [
    "def ordinal_encode_mode(_data,cols):\n",
    "    target='SalePrice'\n",
    "    data=_data.loc[:len(train),:].copy()\n",
    "    data[target]=train.SalePrice\n",
    "    for feat in cols:\n",
    "        ordered_labels = data.groupby([feat])[feat].count()\n",
    "        ordered_labels=ordered_labels.sort_values().index\n",
    "        ordinal_label = {}\n",
    "        for i, k in enumerate(ordered_labels, 0):\n",
    "            ordinal_label[k]=i\n",
    "        print(ordinal_label)\n",
    "        _data.loc[:,feat]=_data.loc[:,feat].map(ordinal_label)\n",
    "    return _data"
   ]
  },
  {
   "cell_type": "code",
   "execution_count": 11,
   "metadata": {},
   "outputs": [],
   "source": [
    "def label_encode(data,cols):\n",
    "    \n",
    "    for c in cols:\n",
    "        lbl = LabelEncoder()\n",
    "        lbl.fit(list(all_data[c].values))\n",
    "        data[c] = lbl.transform(list(all_data[c].values))\n",
    "    #shape\n",
    "    print('Shape all_data: {}'.format(all_data.shape))\n",
    "    print('label encoding done ...')\n",
    "    return data"
   ]
  },
  {
   "cell_type": "code",
   "execution_count": 12,
   "metadata": {},
   "outputs": [],
   "source": [
    "def get_feat_count(all_data):\n",
    "    num_feat = all_data.dtypes[all_data.dtypes != \"object\"].index\n",
    "    con_feat=[]\n",
    "    dis_feat=[]\n",
    "    for feat in num_feat:\n",
    "        uniq=all_data[feat].unique()\n",
    "        if len(uniq)>20:\n",
    "            con_feat.append(feat)\n",
    "        if len(uniq)<=20:\n",
    "            dis_feat.append(feat)\n",
    "    cat_feat = all_data.dtypes[all_data.dtypes == \"object\"].index\n",
    "    print('catagorical feat',len(cat_feat))\n",
    "    print('numeric feat',len(num_feat))\n",
    "    print('continuous feat',len(con_feat))\n",
    "    print('discrete feat',len(dis_feat))\n",
    "    return num_feat,cat_feat,con_feat,dis_feat"
   ]
  },
  {
   "cell_type": "code",
   "execution_count": 13,
   "metadata": {},
   "outputs": [],
   "source": [
    "'''\n",
    "PoolQC           99.725557  catagorical\n",
    "MiscFeature      96.397942  catagorical\n",
    "Alley            93.207547  catagorical\n",
    "Fence            80.445969  catagorical\n",
    "FireplaceQu      48.713551  catagorical\n",
    "LotFrontage      16.672384   continuous\n",
    "GarageFinish      5.454545  catagorical\n",
    "GarageYrBlt       5.454545   continuous\n",
    "GarageQual        5.454545  catagorical\n",
    "GarageCond        5.454545  catagorical\n",
    "GarageType        5.385935  catagorical\n",
    "BsmtExposure      2.813036  catagorical\n",
    "BsmtCond          2.813036  catagorical\n",
    "BsmtQual          2.778731  catagorical\n",
    "BsmtFinType2      2.744425  catagorical\n",
    "BsmtFinType1      2.710120  catagorical\n",
    "MasVnrType        0.823328  catagorical\n",
    "MasVnrArea        0.789022   continuous\n",
    "MSZoning          0.137221  catagorical\n",
    "'''\n",
    "'''\n",
    "smtFullBath      0.068611     discrete\n",
    "BsmtHalfBath      0.068611     discrete\n",
    "Utilities         0.068611  catagorical\n",
    "Functional        0.068611  catagorical\n",
    "Exterior2nd       0.034305  catagorical\n",
    "Exterior1st       0.034305  catagorical\n",
    "SaleType          0.034305  catagorical\n",
    "BsmtFinSF1        0.034305   continuous\n",
    "BsmtFinSF2        0.034305   continuous\n",
    "BsmtUnfSF         0.034305   continuous\n",
    "Electrical        0.034305  catagorical\n",
    "KitchenQual       0.034305  catagorical\n",
    "GarageCars        0.034305     discrete\n",
    "GarageArea        0.034305   continuous\n",
    "TotalBsmtSF       0.034305   continuous\n",
    "'''\n",
    "def handle_missing_values_new(data,m_cat_cols,m_con_cols,m_dis_cols):\n",
    "    mode_cols=['MSZoning','Electrical','KitchenQual','Exterior1st','Exterior2nd','SaleType']\n",
    "    \n",
    "    for col in mode_cols:\n",
    "        data[col] = data[col].fillna(data[col].mode()[0])\n",
    "\n",
    "    #group by Neigborhood and fill missing value with median Lot frontage of all the neighboorhood\n",
    "    data[\"LotFrontage\"] = data.groupby(\"Neighborhood\")[\"LotFrontage\"].transform(lambda x: x.fillna(x.median()))\n",
    "    data['GarageYrBlt_NA'] =np.array(data['GarageYrBlt']>0)\n",
    "\n",
    "    #add total surface area as TotalSf = basement + firstflr + secondflr\n",
    "    zero_cols=['TotalBsmtSF','1stFlrSF','2ndFlrSF']\n",
    "    for col in zero_cols:\n",
    "        data[col] = data[col].fillna(0)\n",
    "    data['TotalSF'] = data['TotalBsmtSF'] + data['1stFlrSF'] + data['2ndFlrSF']\n",
    "    \n",
    "    for col in m_cat_cols:\n",
    "        data[col] = data[col].fillna('None')\n",
    "    for col in m_con_cols:\n",
    "        data[col] = data[col].fillna(0)\n",
    "    for col in m_dis_cols:\n",
    "        data[col]=data[col].fillna(0)\n",
    "    print('Missing values handling done ...')\n",
    "    return data"
   ]
  },
  {
   "cell_type": "code",
   "execution_count": 14,
   "metadata": {},
   "outputs": [],
   "source": [
    "def impute_rare(all_data,cols,min_occ):\n",
    "    data=all_data.copy()\n",
    "    for feat in cols:\n",
    "        temp = data.groupby([feat])\n",
    "        denom=np.float(len(data))#/len(data[feat].unique())\n",
    "        temp=temp[feat].count()#/(denom)\n",
    "        frequent_cat = [x for x in temp.loc[temp>=min_occ].index.values]\n",
    "        data[feat] = np.where(data[feat].isin(frequent_cat), data[feat], 'Rare')\n",
    "    return data"
   ]
  },
  {
   "cell_type": "code",
   "execution_count": 15,
   "metadata": {},
   "outputs": [],
   "source": [
    "def get_skewness(all_data,feat):\n",
    "    skewed_features = all_data[feat].apply(lambda x : skew (x.dropna())).sort_values(ascending=False)\n",
    "    print (\"Skewness : \\n\")\n",
    "    skewness = pd.DataFrame({'Skew' :skewed_features})   \n",
    "    skewness.head(5)    \n",
    "    return skewness\n",
    "def unscew_features(skewness,all_data,thr=.75):\n",
    "    skewness = skewness[abs(skewness) > 0.75]\n",
    "    print (\"There are {} skewed numerical features to box cox transform\".format(skewness.shape[0]))\n",
    "\n",
    "    from scipy.special import boxcox1p \n",
    "    skewed_features = skewness.index\n",
    "    lam = 0.15\n",
    "    for feat in skewed_features:\n",
    "        all_data[feat] = boxcox1p(all_data[feat], lam)\n",
    "    #all_data.drop(['Exterior2nd'],axis=1,inplace=True)\n",
    "    return all_data"
   ]
  },
  {
   "cell_type": "code",
   "execution_count": 16,
   "metadata": {},
   "outputs": [
    {
     "name": "stdout",
     "output_type": "stream",
     "text": [
      "reading data done...\n",
      "removing oulier done...\n",
      "all_data size is: (2915, 79) \n",
      "Concating data done ...\n",
      "catagorical feat 43\n",
      "numeric feat 36\n",
      "continuous feat 21\n",
      "discrete feat 15\n",
      "varr features 1\n",
      "catagorical feat 43\n",
      "numeric feat 36\n",
      "continuous feat 21\n",
      "discrete feat 15\n",
      "catagorical feat 43\n",
      "numeric feat 36\n",
      "continuous feat 21\n",
      "discrete feat 15\n",
      "Missing values handling done ...\n"
     ]
    }
   ],
   "source": [
    "\n",
    "#map_values()\n",
    "#all_data['SaleCondition'].dtypes\n",
    "train,test=read_data()\n",
    "train=remove_outlier(train,norm_target=True)\n",
    "all_data=concate_data(train,test)\n",
    "\n",
    "\n",
    "\n",
    "num_feat,cat_feat,con_feat,dis_feat=get_feat_count(all_data)\n",
    "\n",
    "varr_feat=[]\n",
    "for col in cat_feat:\n",
    "    lbl_count=len(all_data[col].unique())#.count()\n",
    "    if lbl_count>=20:\n",
    "        varr_feat.append(col)\n",
    "print('varr features',len(varr_feat))\n",
    "#all_data=ordinal_encode(all_data,varr_feat)\n",
    "\n",
    "num_feat,cat_feat,con_feat,dis_feat=get_feat_count(all_data)\n",
    "miss_data,m_cat_cols,m_con_cols,m_dis_cols=missing_count(all_data)\n",
    "#print(miss_data)\n",
    "all_data=handle_missing_values_new(all_data,m_cat_cols,m_con_cols,m_dis_cols)\n",
    "#all_data=impute_rare(all_data,cat_feat,min_occ=5)\n",
    "#all_data=ordinal_encode(all_data,cat_feat)\n",
    "#all_data=handle_missing_values(all_data)\n",
    "#cm,corr_feat=get_corr_list(all_data,con_feat+dis_feat,thr=0.6,enc='_enc')\n",
    "#all_data=ordinal_encode(all_data,corr_feat)\n",
    "#all_data=label_encode(all_data,corr_feat)\n",
    "#len(all_data[num_feat[1]].unique())"
   ]
  },
  {
   "cell_type": "code",
   "execution_count": 17,
   "metadata": {},
   "outputs": [],
   "source": [
    "def plot_scewness(all_data):\n",
    "    for feat in con_feat:\n",
    "        plt.figure(figsize=(15,6))\n",
    "        plt.subplot(1, 2, 1)\n",
    "        fig = sns.boxplot(y=all_data[feat])\n",
    "        fig.set_title('')\n",
    "        fig.set_ylabel(feat)\n",
    "\n",
    "        plt.subplot(1, 2, 2)\n",
    "        fig = sns.distplot(all_data[feat])#.dropna())\n",
    "        fig.set_ylabel('Number of houses')\n",
    "        fig.set_xlabel(feat)\n",
    "\n",
    "        plt.show()\n"
   ]
  },
  {
   "cell_type": "code",
   "execution_count": 18,
   "metadata": {},
   "outputs": [
    {
     "name": "stdout",
     "output_type": "stream",
     "text": [
      "catagorical feat 43\n",
      "numeric feat 38\n",
      "continuous feat 22\n",
      "discrete feat 16\n",
      "Skewness : \n",
      "\n",
      "There are 38 skewed numerical features to box cox transform\n",
      "(2915, 305)\n"
     ]
    }
   ],
   "source": [
    "num_feat,cat_feat,con_feat,dis_feat=get_feat_count(all_data)\n",
    "skewness=get_skewness(all_data,num_feat)\n",
    "all_data=unscew_features(skewness,all_data,thr=.75)\n",
    "\n",
    "all_data = pd.get_dummies(all_data)\n",
    "print(all_data.shape)\n",
    "\n",
    "all_data.replace(np.nan,0,inplace=True)\n",
    "all_data.replace(np.inf,0,inplace=True)\n",
    "all_data=all_data.fillna(0)\n",
    "    \n",
    "robust_scaler = RobustScaler()\n",
    "_all_data = robust_scaler.fit(all_data).transform(all_data)"
   ]
  },
  {
   "cell_type": "code",
   "execution_count": 19,
   "metadata": {},
   "outputs": [],
   "source": [
    "ntrain = train.shape[0]\n",
    "ntest = test.shape[0]\n",
    "y_train= train.SalePrice.values\n",
    "_train = pd.DataFrame(_all_data[:ntrain])\n",
    "_test = pd.DataFrame(_all_data[ntrain:])"
   ]
  },
  {
   "cell_type": "code",
   "execution_count": 20,
   "metadata": {},
   "outputs": [],
   "source": [
    "# Create linear regression object\n",
    "from sklearn import datasets, linear_model\n",
    "from sklearn.model_selection import cross_val_score,GridSearchCV\n",
    "from sklearn.metrics import mean_squared_error, r2_score\n",
    "#regr = linear_model.LinearRegression()\n",
    "regr=linear_model.Ridge(alpha=8)\n",
    "regr.fit(_train.values,y_train)\n",
    "#test.loc[133,cols[160:170]]=test.loc[134,cols[160:170]]\n",
    "res=regr.predict(np.array(_test.values))\n"
   ]
  },
  {
   "cell_type": "code",
   "execution_count": 21,
   "metadata": {},
   "outputs": [
    {
     "name": "stdout",
     "output_type": "stream",
     "text": [
      "-0.012313903066315813 0.003235203354700795\n",
      "0.9216997086256249 0.003235203354700795\n"
     ]
    }
   ],
   "source": [
    "score1=cross_val_score(regr, _train.values, y_train, scoring=\"neg_mean_squared_error\",cv = 10)\n",
    "score2=cross_val_score(regr, _train.values, y_train, scoring=\"r2\",cv = 10)\n",
    "print(score1.mean(),score1.std())\n",
    "print(score2.mean(),score1.std())\n",
    "\n",
    "#-0.012369057618423041 0.0032126410083447177\n",
    "#0.9213673151092987 0.0032126410083447177\n",
    "#missing value\n",
    "#-0.012313903066315813 0.003235203354700795\n",
    "#0.9216997086256249 0.003235203354700795\n",
    "# no_missing+no_scew\n",
    "#-0.012893640537486937 0.0033568391846368604\n",
    "#0.9181741085106214 0.0033568391846368604\n",
    "# no_scew\n",
    "#-0.012860057976691939 0.003367599186540071\n",
    "#0.9183571335967585 0.003367599186540071\n",
    "#all_done\n",
    "#-0.012313903066315813 0.003235203354700795\n",
    "#0.9216997086256249 0.003235203354700795\n",
    "#no_robust_scaling\n",
    "#-0.012664039962787466 0.0032548345260856437\n",
    "#0.9194309845515554 0.0032548345260856437\n"
   ]
  },
  {
   "cell_type": "code",
   "execution_count": 22,
   "metadata": {},
   "outputs": [
    {
     "data": {
      "text/plain": [
       "'\\n-0.012921073887923098 0.003337743599841044\\n0.9179613688980304 0.003337743599841044\\n#missin_value\\n-0.012885682366430447 0.0033508592812045877\\n0.918160340886842 0.0033508592812045877\\n#scewing\\n-0.012664039962787466 0.0032548345260856437\\n0.9194309845515554 0.0032548345260856437\\n#robust_scaling\\n-0.012313903066315813 0.003235203354700795\\n0.9216997086256249 0.003235203354700795\\n'"
      ]
     },
     "execution_count": 22,
     "metadata": {},
     "output_type": "execute_result"
    }
   ],
   "source": [
    "'''\n",
    "-0.012921073887923098 0.003337743599841044\n",
    "0.9179613688980304 0.003337743599841044\n",
    "#missin_value\n",
    "-0.012885682366430447 0.0033508592812045877\n",
    "0.918160340886842 0.0033508592812045877\n",
    "#scewing\n",
    "-0.012664039962787466 0.0032548345260856437\n",
    "0.9194309845515554 0.0032548345260856437\n",
    "#robust_scaling\n",
    "-0.012313903066315813 0.003235203354700795\n",
    "0.9216997086256249 0.003235203354700795\n",
    "'''"
   ]
  },
  {
   "cell_type": "code",
   "execution_count": 23,
   "metadata": {},
   "outputs": [
    {
     "name": "stdout",
     "output_type": "stream",
     "text": [
      "1459\n"
     ]
    }
   ],
   "source": [
    "rres_exp=np.exp(res)\n",
    "print(len(rres_exp))\n",
    "data='Id,SalePrice\\n'\n",
    "Id=1461\n",
    "for row in rres_exp:\n",
    "    data+=str(Id)+','+str(row)+'\\n'\n",
    "    Id+=1\n",
    "file=open('sub14_Linear Regression_one_hot_ridge V-7.0.csv','w')\n",
    "file.write(data)\n",
    "file.close()"
   ]
  },
  {
   "cell_type": "code",
   "execution_count": 24,
   "metadata": {},
   "outputs": [
    {
     "data": {
      "image/png": "[encoded data removed]",
      "text/plain": [
       "<Figure size 432x288 with 1 Axes>"
      ]
     },
     "metadata": {
      "needs_background": "light"
     },
     "output_type": "display_data"
    },
    {
     "data": {
      "image/png": "[encoded data removed]",
      "text/plain": [
       "<Figure size 432x288 with 1 Axes>"
      ]
     },
     "metadata": {
      "needs_background": "light"
     },
     "output_type": "display_data"
    },
    {
     "data": {
      "image/png": "[encoded data removed]",
      "text/plain": [
       "<Figure size 432x288 with 1 Axes>"
      ]
     },
     "metadata": {
      "needs_background": "light"
     },
     "output_type": "display_data"
    },
    {
     "name": "stdout",
     "output_type": "stream",
     "text": [
      "0.0015237401456063592\n"
     ]
    }
   ],
   "source": [
    "test_check=pd.read_csv('submission.csv')\n",
    "c_res=test_check['SalePrice']\n",
    "plt.plot(c_res)\n",
    "plt.show()\n",
    "plt.plot(rres_exp)\n",
    "plt.show()\n",
    "plt.plot(rres_exp-c_res)\n",
    "plt.show()\n",
    "er=mean_squared_error(np.log(rres_exp),np.log(c_res))\n",
    "print(er)"
   ]
  },
  {
   "cell_type": "code",
   "execution_count": 25,
   "metadata": {},
   "outputs": [
    {
     "data": {
      "text/plain": [
       "'\\nSalePrice        1.000000\\nNeighborhood     0.742644\\nExterQual        0.680947\\nKitchenQual      0.667174\\nBsmtQual         0.647231\\nGarageFinish     0.604917\\nGarageType       0.578402\\nFoundation       0.550950\\nFireplaceQu      0.547226\\nHeatingQC        0.474218\\nMasVnrType       0.435812\\nExterior1st      0.415804\\nMSZoning         0.412798\\nExterior2nd      0.402421\\nBsmtFinType1     0.395803\\nGarageCond       0.379780\\nGarageQual       0.360675\\nCentralAir       0.353707\\nBsmtExposure     0.353555\\n'"
      ]
     },
     "execution_count": 25,
     "metadata": {},
     "output_type": "execute_result"
    }
   ],
   "source": [
    "'''\n",
    "SalePrice        1.000000\n",
    "ExterQual        0.584138\n",
    "BsmtQual         0.574916\n",
    "KitchenQual      0.530470\n",
    "GarageType       0.504519\n",
    "HeatingQC        0.425864\n",
    "GarageFinish     0.414554\n",
    "Foundation       0.412103\n",
    "CentralAir       0.353707\n",
    "GarageCond       0.325360\n",
    "PavedDrive       0.306194\n",
    "BsmtExposure     0.299405\n",
    "Electrical       0.295738\n",
    "GarageQual       0.276776\n",
    "LotShape         0.273934\n",
    "SaleCondition    0.260785\n",
    "HouseStyle       0.211675\n",
    "Neighborhood     0.201530\n",
    "MSZoning         0.190488\n",
    "RoofStyle        0.185602\n",
    "ExterCond        0.148117\n",
    "Fence            0.143320\n",
    "Heating          0.140651\n",
    "Exterior2nd      0.13322\n",
    "'''\n",
    "'''\n",
    "SalePrice        1.000000\n",
    "Neighborhood     0.742644\n",
    "ExterQual        0.680947\n",
    "KitchenQual      0.667174\n",
    "BsmtQual         0.647231\n",
    "GarageFinish     0.604917\n",
    "GarageType       0.578402\n",
    "Foundation       0.550950\n",
    "FireplaceQu      0.547226\n",
    "HeatingQC        0.474218\n",
    "MasVnrType       0.435812\n",
    "Exterior1st      0.415804\n",
    "MSZoning         0.412798\n",
    "Exterior2nd      0.402421\n",
    "BsmtFinType1     0.395803\n",
    "GarageCond       0.379780\n",
    "GarageQual       0.360675\n",
    "CentralAir       0.353707\n",
    "BsmtExposure     0.353555\n",
    "'''\n"
   ]
  },
  {
   "cell_type": "code",
   "execution_count": 26,
   "metadata": {},
   "outputs": [
    {
     "name": "stdout",
     "output_type": "stream",
     "text": [
      "GarageYrBlt\n",
      "GarageArea\n",
      "BsmtFinSF1\n",
      "BsmtFinSF2\n",
      "BsmtUnfSF\n",
      "TotalBsmtSF\n",
      "MasVnrArea\n"
     ]
    }
   ],
   "source": [
    "all_col=m_cat_cols+m_con_cols+m_dis_cols\n",
    "zero_cols=['GarageYrBlt','GarageArea', 'GarageCars','BsmtFinSF1','BsmtFinSF2', 'BsmtUnfSF',\n",
    "               'TotalBsmtSF','BsmtFullBath','BsmtHalfBath','MasVnrArea']\n",
    "mode_cols=['MSZoning','Electrical','KitchenQual','Exterior1st','Exterior2nd','SaleType']\n",
    "for col in zero_cols:\n",
    "    if col in m_con_cols:\n",
    "        print(col)"
   ]
  }
 ],
 "metadata": {
  "kernelspec": {
   "display_name": "Python 3",
   "language": "python",
   "name": "python3"
  },
  "language_info": {
   "codemirror_mode": {
    "name": "ipython",
    "version": 3
   },
   "file_extension": ".py",
   "mimetype": "text/x-python",
   "name": "python",
   "nbconvert_exporter": "python",
   "pygments_lexer": "ipython3",
   "version": "3.6.7"
  }
 },
 "nbformat": 4,
 "nbformat_minor": 2
}
