{
 "cells": [
  {
   "cell_type": "markdown",
   "metadata": {
    "colab_type": "text",
    "id": "g3SobCWoBR-M"
   },
   "source": [
    "# Entrance Challenge: When Will the Sakura Bloom?"
   ]
  },
  {
   "cell_type": "markdown",
   "metadata": {
    "colab_type": "text",
    "id": "aJ20mLKzBR-S"
   },
   "source": [
    "# 0. Basics of the Sakura Bloom-cycle (5pts total)"
   ]
  },
  {
   "cell_type": "code",
   "execution_count": 1,
   "metadata": {},
   "outputs": [],
   "source": [
    "%matplotlib inline\n",
    "names=['serial' ,'year' ,'month' ,'day' ,'local_pressure' ,'sea_pressure' ,\n",
    "    'total_preci' ,'hr1_preci' ,'min10_preci' ,'avg_temp' ,'max_temp' ,'min_temp' ,\n",
    "       'avg_humid' ,'min_humid' ,'sun_hours' ,'bloom']"
   ]
  },
  {
   "cell_type": "markdown",
   "metadata": {
    "colab_type": "text",
    "id": "zM4tyK4pBR-V"
   },
   "source": [
    "In a year, sakura trees basically go through 4 phases: energy production, hibernation, growth, and of course flowering. These phases\n",
    "roughly follow the seasons, but not exactly. <br>\n",
    "\n",
    "   Production phase： Initial development of the buds（Summer-Fall） <br>\n",
    "   Hibernation phase： Bud growth stops while the tree goes into hibernation（Late Fall-Winter） <br>\n",
    "   Growth phase： Buds once again continue to grow when the tree comes out of its winter hibernation（Late Winter-Spring） <br>\n",
    "   Flowering phase： The buds finally bloom in spring (as climate conditions allow), once they have been able to fully develop.（Spring） <br>\n",
    "    \n",
    "Each year, near the end of winter but before the trees finally bloom, the hibernation period ends. The sakura that rested through the winter once gain become metabolically active, and the buds continue to grow (though we may not immediately notice when this happens.) However, the cycle is not simply clockwork- for example, in places where the temperature is above 20℃ year-round, the trees are unable to hibernate sufficiently, and thus cannot blossom.\n",
    "    \n",
    "In this challenge, we have outlined the basic mechanism by which the sakura reach their eventual bloom-date. We consider building a bloom-date prediction model for the case of sakura in Tokyo, with the data split as follows: <br>\n",
    "    \n",
    "Test years： 1966, 1971, 1985, 1994, and 2008 <br>\n",
    "Training years: 1961 to 2017 (Excluding the test years) <br>\n",
    "    \n",
    "You should fit the model to the data from the training years, then use the model to predict the bloom-date for each of the test years. The 3 models to be applied to the data are described below.\n",
    "    \n"
   ]
  },
  {
   "cell_type": "markdown",
   "metadata": {
    "colab_type": "text",
    "id": "ihNJdwkrBR-d"
   },
   "source": [
    "### Problem 0-1: (5pts)\n",
    "Acquire data of sakura blooming date (桜の開花日) for Tokyo from 1961 to 2018 using the Japanese Meteorological Agency website (気象庁)."
   ]
  },
  {
   "cell_type": "code",
   "execution_count": null,
   "metadata": {
    "colab": {},
    "colab_type": "code",
    "id": "77cJLdPoBR-j",
    "inputHidden": false,
    "outputHidden": false
   },
   "outputs": [],
   "source": [
    "\n"
   ]
  },
  {
   "cell_type": "markdown",
   "metadata": {
    "colab_type": "text",
    "id": "5CPYStYEBR-v"
   },
   "source": [
    "***\n",
    "## 1. Prediction using the \"600 Degree Rule\" (15pts total)"
   ]
  },
  {
   "cell_type": "markdown",
   "metadata": {
    "colab_type": "text",
    "id": "BtnIoJLqBR-y"
   },
   "source": [
    "For a rough approximaton of the bloom-date, we start with a simple \"rule-based\" prediction model, called the \"600 Degree Rule\". The rule consists of logging the maximum temperature of each day, starting  on February 1st, and sum these temperatures until the sum surpasses 600$^\\circ$C. The day that this happens is the predicted bloom-date. This 600$^\\circ$C threshold is used to easily predict bloom-date in various locations varies by location. However, for more precise predictions, it should be set differently for every location. In this challenge, we verify the accuracy of the \"600 Degree Rule\" in the case of Tokyo."
   ]
  },
  {
   "cell_type": "markdown",
   "metadata": {
    "colab_type": "text",
    "id": "qai6wBUMBR-z"
   },
   "source": [
    "### Problem 1-1: (5pts)\n",
    "From here-on, we refer to the bloom-date in a given year $j$ as $BD_{j}$. For each year in the training data, calculate the accumulated daily maximum temperature from February 1st to the actual bloom-date $BD_{j}$, and plot this accumulated value over the training period. Then, average this accumulated value as $T_{mean}$, and verify whether we should use 600$^\\circ$C as a rule for Tokyo."
   ]
  },
  {
   "cell_type": "markdown",
   "metadata": {},
   "source": [
    "### Importing Libraries"
   ]
  },
  {
   "cell_type": "code",
   "execution_count": 2,
   "metadata": {},
   "outputs": [],
   "source": [
    "import pandas as pd\n",
    "from matplotlib import pyplot as plt\n",
    "import numpy as np"
   ]
  },
  {
   "cell_type": "markdown",
   "metadata": {},
   "source": [
    "### Getting Data Ready"
   ]
  },
  {
   "cell_type": "code",
   "execution_count": 3,
   "metadata": {},
   "outputs": [],
   "source": [
    "data_df=pd.read_csv('sakura.csv')\n",
    "test_years= [1966, 1971, 1985, 1994,2008]\n",
    "years=data_df['year'].unique()\n",
    "train_years=[]\n",
    "for year in years:\n",
    "    if year not in test_years:\n",
    "        train_years.append(year)\n",
    "\n",
    "def get_yearly_dfs(df,year):\n",
    "    year_gp=data_df.groupby('year')\n",
    "    year_dfs={}\n",
    "    for year in years:\n",
    "        df=year_gp.get_group(year)\n",
    "        df=df.reset_index()\n",
    "        year_dfs[year]=df\n",
    "    return year_dfs"
   ]
  },
  {
   "cell_type": "code",
   "execution_count": 4,
   "metadata": {},
   "outputs": [],
   "source": [
    "def get_day_counts(yearly_dfs):\n",
    "    yr_dfs=yearly_dfs.copy()\n",
    "    for year in years:\n",
    "        df=yr_dfs[year]\n",
    "        ind=df.index.values.copy()\n",
    "        ind+=1\n",
    "        df['days']=ind\n",
    "        yr_dfs[year]=df\n",
    "    return yr_dfs\n",
    "def get_acc_temps(yearly_dfs):\n",
    "    yr_dfs=yearly_dfs.copy()\n",
    "    for year in years:\n",
    "        df=yr_dfs[year]\n",
    "        acc_temp=0\n",
    "        df['acc_temp']=0\n",
    "        for row in range(len(df)):\n",
    "            df_row=df.loc[row].copy()\n",
    "            if df_row['month']>=2 and df_row['month']<=5:\n",
    "                acc_temp+=df_row['max temp']\n",
    "                df_row['acc_temp']=acc_temp\n",
    "                df.loc[row]=df_row\n",
    "        yr_dfs[year]=df\n",
    "    return yr_dfs\n",
    "#yearly_dfs=get_day_counts(yearly_dfs)\n",
    "#yearly_dfs=get_acc_temps(yearly_dfs)"
   ]
  },
  {
   "cell_type": "code",
   "execution_count": 5,
   "metadata": {},
   "outputs": [],
   "source": [
    "yearly_dfs=get_yearly_dfs(data_df,years)\n",
    "yearly_dfs=get_day_counts(yearly_dfs)\n",
    "yearly_dfs=get_acc_temps(yearly_dfs)"
   ]
  },
  {
   "cell_type": "code",
   "execution_count": 6,
   "metadata": {},
   "outputs": [
    {
     "data": {
      "text/html": [
       "<div>\n",
       "<style scoped>\n",
       "    .dataframe tbody tr th:only-of-type {\n",
       "        vertical-align: middle;\n",
       "    }\n",
       "\n",
       "    .dataframe tbody tr th {\n",
       "        vertical-align: top;\n",
       "    }\n",
       "\n",
       "    .dataframe thead th {\n",
       "        text-align: right;\n",
       "    }\n",
       "</style>\n",
       "<table border=\"1\" class=\"dataframe\">\n",
       "  <thead>\n",
       "    <tr style=\"text-align: right;\">\n",
       "      <th></th>\n",
       "      <th>index</th>\n",
       "      <th>serial</th>\n",
       "      <th>year</th>\n",
       "      <th>month</th>\n",
       "      <th>day</th>\n",
       "      <th>local pressure</th>\n",
       "      <th>sea pressure</th>\n",
       "      <th>total preci</th>\n",
       "      <th>hr1 preci</th>\n",
       "      <th>min10 preci</th>\n",
       "      <th>avg temp</th>\n",
       "      <th>max temp</th>\n",
       "      <th>min temp</th>\n",
       "      <th>avg humid</th>\n",
       "      <th>min humid</th>\n",
       "      <th>sun hours</th>\n",
       "      <th>bloom</th>\n",
       "      <th>days</th>\n",
       "      <th>acc_temp</th>\n",
       "    </tr>\n",
       "  </thead>\n",
       "  <tbody>\n",
       "    <tr>\n",
       "      <th>28</th>\n",
       "      <td>393.0</td>\n",
       "      <td>393.0</td>\n",
       "      <td>1962.0</td>\n",
       "      <td>1.0</td>\n",
       "      <td>29.0</td>\n",
       "      <td>1010.3</td>\n",
       "      <td>1011.0</td>\n",
       "      <td>0.0</td>\n",
       "      <td>0.0</td>\n",
       "      <td>0.0</td>\n",
       "      <td>4.4</td>\n",
       "      <td>10.8</td>\n",
       "      <td>-1.2</td>\n",
       "      <td>44.0</td>\n",
       "      <td>23.0</td>\n",
       "      <td>6.3</td>\n",
       "      <td>0.0</td>\n",
       "      <td>29.0</td>\n",
       "      <td>0.0</td>\n",
       "    </tr>\n",
       "    <tr>\n",
       "      <th>29</th>\n",
       "      <td>394.0</td>\n",
       "      <td>394.0</td>\n",
       "      <td>1962.0</td>\n",
       "      <td>1.0</td>\n",
       "      <td>30.0</td>\n",
       "      <td>1009.1</td>\n",
       "      <td>1009.7</td>\n",
       "      <td>0.0</td>\n",
       "      <td>0.0</td>\n",
       "      <td>0.0</td>\n",
       "      <td>4.0</td>\n",
       "      <td>10.0</td>\n",
       "      <td>-1.5</td>\n",
       "      <td>38.0</td>\n",
       "      <td>14.0</td>\n",
       "      <td>9.4</td>\n",
       "      <td>0.0</td>\n",
       "      <td>30.0</td>\n",
       "      <td>0.0</td>\n",
       "    </tr>\n",
       "    <tr>\n",
       "      <th>30</th>\n",
       "      <td>395.0</td>\n",
       "      <td>395.0</td>\n",
       "      <td>1962.0</td>\n",
       "      <td>1.0</td>\n",
       "      <td>31.0</td>\n",
       "      <td>1013.7</td>\n",
       "      <td>1014.4</td>\n",
       "      <td>0.0</td>\n",
       "      <td>0.0</td>\n",
       "      <td>0.0</td>\n",
       "      <td>5.0</td>\n",
       "      <td>11.3</td>\n",
       "      <td>-1.8</td>\n",
       "      <td>37.0</td>\n",
       "      <td>24.0</td>\n",
       "      <td>9.5</td>\n",
       "      <td>0.0</td>\n",
       "      <td>31.0</td>\n",
       "      <td>0.0</td>\n",
       "    </tr>\n",
       "    <tr>\n",
       "      <th>31</th>\n",
       "      <td>396.0</td>\n",
       "      <td>396.0</td>\n",
       "      <td>1962.0</td>\n",
       "      <td>2.0</td>\n",
       "      <td>1.0</td>\n",
       "      <td>1020.8</td>\n",
       "      <td>1021.5</td>\n",
       "      <td>0.0</td>\n",
       "      <td>0.0</td>\n",
       "      <td>0.0</td>\n",
       "      <td>5.4</td>\n",
       "      <td>11.5</td>\n",
       "      <td>0.5</td>\n",
       "      <td>44.0</td>\n",
       "      <td>24.0</td>\n",
       "      <td>9.0</td>\n",
       "      <td>0.0</td>\n",
       "      <td>32.0</td>\n",
       "      <td>11.5</td>\n",
       "    </tr>\n",
       "    <tr>\n",
       "      <th>32</th>\n",
       "      <td>397.0</td>\n",
       "      <td>397.0</td>\n",
       "      <td>1962.0</td>\n",
       "      <td>2.0</td>\n",
       "      <td>2.0</td>\n",
       "      <td>1022.4</td>\n",
       "      <td>1023.1</td>\n",
       "      <td>0.0</td>\n",
       "      <td>0.0</td>\n",
       "      <td>0.0</td>\n",
       "      <td>5.3</td>\n",
       "      <td>11.2</td>\n",
       "      <td>-0.1</td>\n",
       "      <td>44.0</td>\n",
       "      <td>24.0</td>\n",
       "      <td>9.4</td>\n",
       "      <td>0.0</td>\n",
       "      <td>33.0</td>\n",
       "      <td>22.7</td>\n",
       "    </tr>\n",
       "    <tr>\n",
       "      <th>33</th>\n",
       "      <td>398.0</td>\n",
       "      <td>398.0</td>\n",
       "      <td>1962.0</td>\n",
       "      <td>2.0</td>\n",
       "      <td>3.0</td>\n",
       "      <td>1021.0</td>\n",
       "      <td>1021.7</td>\n",
       "      <td>0.0</td>\n",
       "      <td>0.0</td>\n",
       "      <td>0.0</td>\n",
       "      <td>4.5</td>\n",
       "      <td>10.0</td>\n",
       "      <td>-0.3</td>\n",
       "      <td>47.0</td>\n",
       "      <td>29.0</td>\n",
       "      <td>8.7</td>\n",
       "      <td>0.0</td>\n",
       "      <td>34.0</td>\n",
       "      <td>32.7</td>\n",
       "    </tr>\n",
       "    <tr>\n",
       "      <th>34</th>\n",
       "      <td>399.0</td>\n",
       "      <td>399.0</td>\n",
       "      <td>1962.0</td>\n",
       "      <td>2.0</td>\n",
       "      <td>4.0</td>\n",
       "      <td>1022.8</td>\n",
       "      <td>1023.5</td>\n",
       "      <td>0.0</td>\n",
       "      <td>0.0</td>\n",
       "      <td>0.0</td>\n",
       "      <td>4.6</td>\n",
       "      <td>10.9</td>\n",
       "      <td>-1.1</td>\n",
       "      <td>48.0</td>\n",
       "      <td>26.0</td>\n",
       "      <td>9.1</td>\n",
       "      <td>0.0</td>\n",
       "      <td>35.0</td>\n",
       "      <td>43.6</td>\n",
       "    </tr>\n",
       "    <tr>\n",
       "      <th>35</th>\n",
       "      <td>400.0</td>\n",
       "      <td>400.0</td>\n",
       "      <td>1962.0</td>\n",
       "      <td>2.0</td>\n",
       "      <td>5.0</td>\n",
       "      <td>1020.5</td>\n",
       "      <td>1021.3</td>\n",
       "      <td>0.0</td>\n",
       "      <td>0.0</td>\n",
       "      <td>0.0</td>\n",
       "      <td>5.2</td>\n",
       "      <td>10.9</td>\n",
       "      <td>0.0</td>\n",
       "      <td>56.0</td>\n",
       "      <td>31.0</td>\n",
       "      <td>6.4</td>\n",
       "      <td>0.0</td>\n",
       "      <td>36.0</td>\n",
       "      <td>54.5</td>\n",
       "    </tr>\n",
       "  </tbody>\n",
       "</table>\n",
       "</div>"
      ],
      "text/plain": [
       "    index  serial    year  month   day  local pressure  sea pressure  \\\n",
       "28  393.0   393.0  1962.0    1.0  29.0          1010.3        1011.0   \n",
       "29  394.0   394.0  1962.0    1.0  30.0          1009.1        1009.7   \n",
       "30  395.0   395.0  1962.0    1.0  31.0          1013.7        1014.4   \n",
       "31  396.0   396.0  1962.0    2.0   1.0          1020.8        1021.5   \n",
       "32  397.0   397.0  1962.0    2.0   2.0          1022.4        1023.1   \n",
       "33  398.0   398.0  1962.0    2.0   3.0          1021.0        1021.7   \n",
       "34  399.0   399.0  1962.0    2.0   4.0          1022.8        1023.5   \n",
       "35  400.0   400.0  1962.0    2.0   5.0          1020.5        1021.3   \n",
       "\n",
       "    total preci  hr1 preci  min10 preci  avg temp  max temp  min temp  \\\n",
       "28          0.0        0.0          0.0       4.4      10.8      -1.2   \n",
       "29          0.0        0.0          0.0       4.0      10.0      -1.5   \n",
       "30          0.0        0.0          0.0       5.0      11.3      -1.8   \n",
       "31          0.0        0.0          0.0       5.4      11.5       0.5   \n",
       "32          0.0        0.0          0.0       5.3      11.2      -0.1   \n",
       "33          0.0        0.0          0.0       4.5      10.0      -0.3   \n",
       "34          0.0        0.0          0.0       4.6      10.9      -1.1   \n",
       "35          0.0        0.0          0.0       5.2      10.9       0.0   \n",
       "\n",
       "    avg humid  min humid  sun hours  bloom  days  acc_temp  \n",
       "28       44.0       23.0        6.3    0.0  29.0       0.0  \n",
       "29       38.0       14.0        9.4    0.0  30.0       0.0  \n",
       "30       37.0       24.0        9.5    0.0  31.0       0.0  \n",
       "31       44.0       24.0        9.0    0.0  32.0      11.5  \n",
       "32       44.0       24.0        9.4    0.0  33.0      22.7  \n",
       "33       47.0       29.0        8.7    0.0  34.0      32.7  \n",
       "34       48.0       26.0        9.1    0.0  35.0      43.6  \n",
       "35       56.0       31.0        6.4    0.0  36.0      54.5  "
      ]
     },
     "execution_count": 6,
     "metadata": {},
     "output_type": "execute_result"
    }
   ],
   "source": [
    "yearly_dfs[1962].loc[28:35]"
   ]
  },
  {
   "cell_type": "markdown",
   "metadata": {
    "colab_type": "text",
    "id": "PDaMRjDkBR_D"
   },
   "source": [
    "### Problem 1-2: (10pts)\n",
    "\n",
    "Use the average accumulated value $T_{mean}$ calculated in 1-1 to predict $BD_{j}$ for each test year, and show the error from the actual $BD_{j}$. Compare to the prediction results when 600$^\\circ$C is used a threshold value, and evaluate both models using the coefficient of determination ($R^2$ score)."
   ]
  },
  {
   "cell_type": "code",
   "execution_count": 7,
   "metadata": {
    "colab": {},
    "colab_type": "code",
    "id": "PatHI-PrBR-4"
   },
   "outputs": [
    {
     "name": "stdout",
     "output_type": "stream",
     "text": [
      "Mean accumulated temperature\n",
      " temp    638.355769\n",
      "dtype: float64 \n",
      "\n"
     ]
    }
   ],
   "source": [
    "def get_true_label(year_dfs,yrs):\n",
    "    true_lb=[]\n",
    "    acc_df=[]\n",
    "    for year in yrs:\n",
    "        df=year_dfs[year].copy()\n",
    "        ind= (df['bloom']==1)\n",
    "        ind=np.argmax(np.array(ind))\n",
    "        acc_df.append(df.loc[ind,'acc_temp'])\n",
    "        true_lb.append(df.loc[ind,'days'])              \n",
    "        \n",
    "    acc_df =pd.DataFrame(acc_df,index=yrs,columns=['temp'])\n",
    "    true_lb=pd.DataFrame(true_lb,index=yrs,columns=['true_days'])\n",
    "    return acc_df,true_lb\n",
    "\n",
    "\n",
    "acc_df,_=get_true_label(yearly_dfs,train_years)\n",
    "print('Mean accumulated temperature\\n',acc_df.mean(),'\\n')\n",
    "thr_temp=acc_df.mean()\n",
    "# temp    615.776923\n",
    "#dtype: float64 \n",
    "#days    85.711538"
   ]
  },
  {
   "cell_type": "code",
   "execution_count": 8,
   "metadata": {},
   "outputs": [],
   "source": [
    "def predict(yearly_dfs,yrs,thr_temp):\n",
    "    \n",
    "    pred_lb=[]\n",
    "    for year in yrs:\n",
    "        _df=yearly_dfs[year]\n",
    "        for i in range(len(_df)):\n",
    "            if (_df.loc[i,'acc_temp']>thr_temp):\n",
    "                pred_lb.append(_df.loc[i,'days'])\n",
    "                break\n",
    "    pred_lb=pd.DataFrame(pred_lb,index=yrs,columns=['pred_days'])\n",
    "    return pred_lb       \n",
    "_,true_lb=get_true_label(yearly_dfs,test_years)     \n",
    "pred_lb_mean=predict(yearly_dfs,test_years,float(thr_temp))\n",
    "pred_lb_600=predict(yearly_dfs,test_years,float(600))\n"
   ]
  },
  {
   "cell_type": "code",
   "execution_count": 9,
   "metadata": {},
   "outputs": [
    {
     "name": "stdout",
     "output_type": "stream",
     "text": [
      "error_mean 4.6 \n",
      "error_600 8.8\n",
      "r2_score\n",
      " 0.8323615160349854 \n",
      " 0.6793002915451896\n"
     ]
    }
   ],
   "source": [
    "import numpy as np\n",
    "from sklearn.metrics import r2_score\n",
    "#lbs=pd.concat([true_lb,pred_lb],axis=1)\n",
    "true_lb=np.array(true_lb)\n",
    "pred_lb_mean=np.array(pred_lb_mean)\n",
    "pred_lb_600=np.array(pred_lb_600)\n",
    "err_mean=np.square(np.array(true_lb)-np.array(pred_lb_mean))\n",
    "err_600=np.square(np.array(true_lb)-np.array(pred_lb_600))\n",
    "r2_1=r2_score(true_lb,pred_lb_mean)\n",
    "r2_2=r2_score(true_lb,pred_lb_600)\n",
    "print('error_mean',np.mean(err_mean),'\\nerror_600',np.mean(err_600))\n",
    "print('r2_score\\n',r2_1,'\\n',r2_2)\n",
    "#error_mean 2.923076923076923 \n",
    "#error_600 3.269230769230769\n",
    "#error_mean 2.2 \n",
    "#error_600 2.4"
   ]
  },
  {
   "cell_type": "markdown",
   "metadata": {
    "colab_type": "text",
    "id": "UUAuJWUWBR_T"
   },
   "source": [
    "***\n",
    "## 2. Linear Regression Model: Transform to Standard Temperature (30pts total)"
   ]
  },
  {
   "cell_type": "markdown",
   "metadata": {
    "colab_type": "text",
    "id": "9ypgwVGFBR_X"
   },
   "source": [
    "The year to year fluctuation of the bloom-date depends heavily upon the actual temperature fluctuation (not just the accumulated maximum). In order to get to a more physiologically realistic metric,  Sugihara et al. (1986) considered the actual effect of temperature on biochemical activity. They introduced a method of \"standardizing\" the temperatures measured, according to the fluctuation relative to a standard temperature.\n",
    "\n",
    "In order to make such a standardization, we apply two major assumptions, outlined below.\n",
    "\n",
    "#### 1) The Arrhenius equation: <br>\n",
    "\n",
    "The first assumption, also known in thermodynamics as the \"Arrhenius equation\", deals with chemical reaction rates and can be written as follows:\n",
    "\n",
    "$$\n",
    "k = A \\exp{ \\Bigl(- \\frac{E_{a}}{RT}} \\Bigr)\n",
    "$$ <br>\n",
    "\n",
    "Basically, it says that each reaction has an activation energy, $E_{a}$ and a pre-exponential factor $A$. Knowing these values for the particular equation, we can find the rate constant $k$ if we know the temperature, $T$, and applying the universal gas constant, $R = 8.314 \\rm [J/K・mol]$.\n",
    "\n",
    "#### 2) Constant output at constant temperature: <br>\n",
    "\n",
    "The second assumption, is simply that the output of a reaction is a simple product of the duration and the rate constant $k$, and that product is constant even at different temperatures.\n",
    "    \n",
    "$$\n",
    "tk = t'k' = t''k'' = \\cdots = \\rm{const}\n",
    "$$ <br>\n",
    "\n",
    "\n",
    "Making the assumptions above, we can determine a \"standard reaction time\", $t_{s}$ required for the bloom-date to occur. We can do so in the following way:\n",
    "\n",
    "<br>\n",
    "$$\n",
    "t_{s} = \\exp \\Bigl( \\frac{E_{a}(T_{i, j} - T_{s})}{RT_{i, j}T_{s}}\\Bigr)\n",
    "$$ <br>\n",
    "\n",
    "We define $T_{i, j}$ as the daily average temperature, and use a standard temperature of $T_{s} = 17^\\circ\\rm{C}$. For a given year $j$, with the last day of the hibernation phase set as $D_ {j}$, we define the number of \"transformed temperature days\",  $DTS_{ J}$,  needed to reach from $D_ {j}$ to the bloom-date $BD_{j}$ with the following equation:\n",
    "\n",
    "\n",
    "<br>\n",
    "$$\n",
    "DTS_{j} = \\sum_{i=D_{j}}^{BD_{j}} t_{s} = \\sum_{i=D_{j}}^{BD_{j}} \\exp \\Bigl( \\frac{E_{a}(T_{i, j} - T_{s})}{RT_{i, j}T_{s}}\\Bigr)\n",
    "$$ <br>\n",
    "\n",
    "\n",
    "\n",
    "From that equation, we can find the average $DTS$ for $x$ number of years ($DTS_{ mean}$) as follows: \n",
    "\n",
    "<br>\n",
    "$$\n",
    "\\begin{align}\n",
    "DTS_{\\rm{mean}} &= \\frac{1}{x} \\sum_{j}^{x} DTS_{j} \\\\\n",
    "&= \\frac{1}{x} \\sum_{j}^{x} \\sum_{i=D_{j}}^{BD_{j}} \\exp \\Bigl( \\frac{E_{a}(T_{i, j} - T_{s})}{RT_{i, j}T_{s}}\\Bigr)\n",
    "\\end{align}\n",
    "$$ <br> <br>\n",
    "\n",
    "In this exercise, we assume that $DTS_{ mean}$ and $E_{ a}$ are constant values, and we use the data from the training years to fit these 2 constants. The exercise consists of 4 steps:\n",
    "1. Calculate the last day of the hibernation phase $D_ {j}$ for every year $j$.\n",
    "2. For every year $j$, calculate $DTS_{ j}$ as a function of $E_{ a}$, then calculate the average (over training years) $DTS_{ mean}$ also as a function of $E_{ a}$.\n",
    "3. For every year $j$, and for every value of $E_{ a}$, accumulate $t_{s}$ from $D_ {j}$ and predict the bloom date $BD_{j}^{\\rm{pred}}$ as the day the accumulated value surpasses $DTS_{ mean}$. Calculate the bloom date prediction error as a function of $E_{ a}$, and find the optimal $E_{ a}$ value that minimizes that error.\n",
    "4. Use the previously calculated values of $D_ {j}$, $DTS_{ mean}$, and $E_{ a}$ to predict bloom-day on years from the test set.\n"
   ]
  },
  {
   "cell_type": "markdown",
   "metadata": {
    "colab_type": "text",
    "id": "BRF4HaMjBR_Z"
   },
   "source": [
    "### Problem 2-1: (5pts)\n",
    "According to Hayashi et al. (2012), the day on which the sakura will awaken from their hibernation phase, $D_{j}$, for a given location, can be approximated by the following equation:\n",
    "<br> <br>\n",
    "$$\n",
    "D_{j} = 136.75 - 7.689 \\phi + 0.133 \\phi^{2} -1.307\\ln L + 0.144T_{F} + 0.285T_{F}^2\n",
    "$$ <br>\n",
    "\n",
    "where $\\phi$ is the latitude [°N], $L$ is the distance from the nearest coastline [km], and $T_{F}$ is that location's average temperature [°C] over the first 3 months of a given year. In the case of Tokyo, $\\phi = 35°40'$ and $L=4\\rm{km}$.\n",
    "\n",
    "Find the $D_{j}$ value for every year $j$ from 1961 to 2017 (including the test years), and plot this value on a graph. \n",
    "\n",
    "(In Problem 1, we had assumed a $D_j$ of February 1st.)"
   ]
  },
  {
   "cell_type": "code",
   "execution_count": 10,
   "metadata": {
    "colab": {},
    "colab_type": "code",
    "id": "CfeHm12MBR_d"
   },
   "outputs": [
    {
     "data": {
      "image/png": "[encoded data removed]",
      "text/plain": [
       "<Figure size 1440x360 with 1 Axes>"
      ]
     },
     "metadata": {
      "needs_background": "light"
     },
     "output_type": "display_data"
    }
   ],
   "source": [
    "def get_Djs(yerly_dfs,years):\n",
    "    Fi=35.67\n",
    "    L=4\n",
    "    Djs=[]\n",
    "    for year in years:\n",
    "        _df=yearly_dfs[year]\n",
    "        Tf=_df[_df['month']<=3]['avg temp'].mean()\n",
    "        𝐷j=136.75- 7.689*Fi+ 0.133*(Fi**2)- 1.307*np.log(L)+ 0.144*Tf+ 0.285*(Tf**2)\n",
    "        Djs.append(int(Dj))\n",
    "        \n",
    "    Dj_df=pd.DataFrame(Djs,index=years,columns=['Dj'])\n",
    "    return Dj_df\n",
    "fig, axes = plt.subplots(nrows=1, ncols=1,figsize=(20,5))\n",
    "Dj_df=get_Djs(yearly_dfs,years)\n",
    "Dj_df.plot.bar(ax=axes)\n",
    "#Dj_df.plot(ax=axes)\n",
    "plt.show()"
   ]
  },
  {
   "cell_type": "markdown",
   "metadata": {
    "colab_type": "text",
    "id": "vSY5y6dlBR_o"
   },
   "source": [
    "### Problem 2-2: (10pts)\n",
    "Calcluate $DTS_j$ for each year $j$ in the training set for discrete values of $E_{a}$, varying from 5 to 40kcal ($E_{a} = 5, 6, 7, \\cdots, 40 \\,\\rm{kcal}$), and plot this $DTS_j$ against $E_{a}$. Also calculate the average of $DTS_{j}$ over the training period, and indicate it on the plot as $DTS_{mean}$. Pay attention to the units of **every parameter** ($T_{i,j}$, $E_{a}$, ...) in the equation for $t_{s}$. \n"
   ]
  },
  {
   "cell_type": "code",
   "execution_count": 11,
   "metadata": {
    "colab": {},
    "colab_type": "code",
    "id": "PtWem_WhBR_s"
   },
   "outputs": [],
   "source": [
    "def get_ts(Ea,Tj):\n",
    "        R=8.314\n",
    "        Ts=17\n",
    "        A=Ea*(Tj-Ts)*4184\n",
    "        B=R*(Tj+273)*(Ts+273)\n",
    "        C=A/B\n",
    "        return np.exp(C)\n",
    "\n",
    "_,Bdj_df=get_true_label(yearly_dfs,years)\n",
    "\n",
    "def get_dts(yearly_dfs,Ea,yrs):\n",
    "    DTS_df=[]\n",
    "    for year in yrs:\n",
    "        _df=yearly_dfs[year]\n",
    "        \n",
    "        Dj=Dj_df.loc[year,'Dj']\n",
    "        Bdj=Bdj_df.loc[year,'true_days']\n",
    "        \n",
    "        indx=_df['days']>=int(Dj) \n",
    "        indx&=_df['days']<=int(Bdj)\n",
    "        Tjs=_df[indx]['avg temp']\n",
    "        \n",
    "        DTS=0\n",
    "        for Tj in Tjs:\n",
    "            DTS+=get_ts(Ea,Tj)\n",
    "        DTS_df.append(DTS)\n",
    "    DTS_df=pd.DataFrame(DTS_df,index=yrs,columns=['Ea_'+str(Ea)])\n",
    "    return DTS_df\n",
    "\n",
    "DTS_df=get_dts(yearly_dfs,5,train_years)\n",
    "#Eas=list([0.001,0.002,0.003])\n",
    "Eas=list(range(6,41))\n",
    "for Ea in Eas:\n",
    "    DTS_df=pd.concat([DTS_df,get_dts(yearly_dfs,Ea,train_years)],axis=1)"
   ]
  },
  {
   "cell_type": "code",
   "execution_count": 12,
   "metadata": {
    "colab": {},
    "colab_type": "code",
    "id": "N3pmi4DOBSAB"
   },
   "outputs": [
    {
     "data": {
      "image/png": "[encoded data removed]",
      "text/plain": [
       "<Figure size 432x288 with 1 Axes>"
      ]
     },
     "metadata": {
      "needs_background": "light"
     },
     "output_type": "display_data"
    },
    {
     "data": {
      "image/png": "[encoded data removed]",
      "text/plain": [
       "<Figure size 432x288 with 1 Axes>"
      ]
     },
     "metadata": {
      "needs_background": "light"
     },
     "output_type": "display_data"
    },
    {
     "data": {
      "text/plain": [
       "Ea_5     32.207353\n",
       "Ea_6     30.487368\n",
       "Ea_7     28.871963\n",
       "Ea_8     27.354288\n",
       "Ea_9     25.927966\n",
       "Ea_10    24.587061\n",
       "Ea_11    23.326045\n",
       "Ea_12    22.139768\n",
       "Ea_13    21.023433\n",
       "Ea_14    19.972567\n",
       "Ea_15    18.983002\n",
       "Ea_16    18.050851\n",
       "Ea_17    17.172491\n",
       "Ea_18    16.344539\n",
       "Ea_19    15.563839\n",
       "Ea_20    14.827447\n",
       "Ea_21    14.132613\n",
       "Ea_22    13.476768\n",
       "Ea_23    12.857516\n",
       "Ea_24    12.272614\n",
       "Ea_25    11.719968\n",
       "Ea_26    11.197622\n",
       "Ea_27    10.703743\n",
       "Ea_28    10.236621\n",
       "Ea_29     9.794654\n",
       "Ea_30     9.376342\n",
       "Ea_31     8.980284\n",
       "Ea_32     8.605165\n",
       "Ea_33     8.249756\n",
       "Ea_34     7.912905\n",
       "Ea_35     7.593532\n",
       "Ea_36     7.290625\n",
       "Ea_37     7.003235\n",
       "Ea_38     6.730474\n",
       "Ea_39     6.471507\n",
       "Ea_40     6.225551\n",
       "dtype: float64"
      ]
     },
     "execution_count": 12,
     "metadata": {},
     "output_type": "execute_result"
    }
   ],
   "source": [
    "DTS_df.plot()\n",
    "plt.show()\n",
    "DTS_df.mean().plot.bar()\n",
    "plt.show()\n",
    "DTS_df.mean()"
   ]
  },
  {
   "cell_type": "code",
   "execution_count": 13,
   "metadata": {},
   "outputs": [],
   "source": [
    "def predict_ts(yearly_dfs,Ea,yrs,DTS_mean):\n",
    "    pred_df=[]\n",
    "    for year in yrs: \n",
    "        _df=yearly_dfs[year]\n",
    "        \n",
    "        Dj=Dj_df.loc[year,'Dj']\n",
    "        indx=_df['days']>=int(Dj) \n",
    "        Tjs=_df[indx]['avg temp']\n",
    "    \n",
    "        DTS=0\n",
    "        ind=Dj-1\n",
    "        for Tj in Tjs:\n",
    "            DTS+=get_ts(Ea,Tj)\n",
    "            if DTS>=DTS_mean['Ea_'+str(Ea)] or ind>=(len(_df)-1):\n",
    "                pred_Bdj=_df.loc[ind,'days']\n",
    "                break\n",
    "            ind+=1\n",
    "            \n",
    "                \n",
    "        pred_df.append(pred_Bdj)\n",
    "    pred_df=pd.DataFrame(pred_df,index=yrs,columns=['Ea_'+str(Ea)])\n",
    "    return pred_df"
   ]
  },
  {
   "cell_type": "code",
   "execution_count": 14,
   "metadata": {},
   "outputs": [],
   "source": [
    "pred_df=predict_ts(yearly_dfs,5,train_years,DTS_df.mean())\n",
    "#Eas=list([0.001,0.002,0.003])\n",
    "Eas=list(range(6,40))\n",
    "for Ea in Eas:\n",
    "    pred_df=pd.concat([pred_df,predict_ts(yearly_dfs,Ea,train_years,DTS_df.mean())],axis=1)\n"
   ]
  },
  {
   "cell_type": "markdown",
   "metadata": {
    "colab_type": "text",
    "id": "1oM-rkYcBR_3"
   },
   "source": [
    "### Problem 2-3: (11pts)\n",
    "Using the same $E_{a}$ values and calculated $DTS_{mean}$ from 2-2, predict the bloom date $BD_{j}$ for each of the training years. Find the mean squared error relative to the actual $BD$ and plot it against $E_{a}$. Find the optimal $E_{a}^{*}$ that minimizes that error on the training data."
   ]
  },
  {
   "cell_type": "code",
   "execution_count": 15,
   "metadata": {},
   "outputs": [
    {
     "name": "stdout",
     "output_type": "stream",
     "text": [
      "6 6.019230769230769\n",
      "7 5.75\n",
      "8 5.461538461538462\n",
      "9 5.173076923076923\n",
      "10 4.9423076923076925\n",
      "11 4.673076923076923\n",
      "12 4.423076923076923\n",
      "13 4.173076923076923\n",
      "14 3.9423076923076925\n",
      "15 3.75\n",
      "16 3.480769230769231\n",
      "17 3.326923076923077\n",
      "18 3.1153846153846154\n",
      "19 2.9615384615384617\n",
      "20 2.8076923076923075\n",
      "21 2.8076923076923075\n",
      "22 2.6153846153846154\n",
      "23 2.5384615384615383\n",
      "24 2.4423076923076925\n",
      "25 2.4615384615384617\n",
      "26 2.3653846153846154\n",
      "27 2.269230769230769\n",
      "28 2.25\n",
      "29 2.3076923076923075\n",
      "30 2.230769230769231\n",
      "31 2.230769230769231\n",
      "32 2.25\n",
      "33 2.230769230769231\n",
      "34 2.3461538461538463\n",
      "35 2.3653846153846154\n",
      "36 2.4423076923076925\n",
      "37 2.5384615384615383\n",
      "38 2.5384615384615383\n",
      "39 2.5576923076923075\n"
     ]
    },
    {
     "data": {
      "text/plain": [
       "<matplotlib.axes._subplots.AxesSubplot at 0x7f18fd041b38>"
      ]
     },
     "execution_count": 15,
     "metadata": {},
     "output_type": "execute_result"
    },
    {
     "data": {
      "image/png": "[encoded data removed]",
      "text/plain": [
       "<Figure size 432x288 with 1 Axes>"
      ]
     },
     "metadata": {
      "needs_background": "light"
     },
     "output_type": "display_data"
    }
   ],
   "source": [
    "_,Bdj_df=get_true_label(yearly_dfs,train_years)\n",
    "err_df=[]\n",
    "#Eas=list(range(30,31))\n",
    "#Eas=[0.001,0.002,0.003]\n",
    "for Ea in Eas:\n",
    "    \n",
    "    err=0\n",
    "    DTS=DTS_df.mean()['Ea_'+str(Ea)]\n",
    "    for year in train_years:\n",
    "        #DTS=DTS_df.loc[year,'Ea_'+str(Ea)]\n",
    "        Dj=int(Dj_df.loc[year,'Dj'])\n",
    "        pred_Bdj=pred_df.loc[year,'Ea_'+str(Ea)]\n",
    "        true_Bdj=Bdj_df.loc[year,'true_days']\n",
    "        #print(year,pred_Bdj)\n",
    "        err+=np.abs(true_Bdj-pred_Bdj)\n",
    "    err/=len(train_years)\n",
    "    print(Ea,err)\n",
    "    err_df.append(err)\n",
    "        \n",
    "err_df=pd.DataFrame(err_df,index=Eas)\n",
    "err_df.plot.bar()"
   ]
  },
  {
   "cell_type": "markdown",
   "metadata": {
    "colab_type": "text",
    "id": "nFGNKC5gBR_8"
   },
   "source": [
    "### Problem 2-4: (4pts)\n",
    "\n",
    "Using the $D_j$ dates from problem 2-1, the average $DTS_{mean}$ from 2-2, and the best-fit $E_{a}^{*}$ from 2-3, predict the bloom-dates $BD_j$ for the years in the test set. Determine the error between your predicted $BD_j$ values and the actual values, and evaluate this model using the coefficient of determination ($R^2$ score)."
   ]
  },
  {
   "cell_type": "code",
   "execution_count": 16,
   "metadata": {},
   "outputs": [
    {
     "name": "stdout",
     "output_type": "stream",
     "text": [
      "30 0.8 0.9708454810495627\n"
     ]
    }
   ],
   "source": [
    "  \n",
    "pred_df=predict_ts(yearly_dfs,30,test_years,DTS_df.mean())\n",
    "_,Bdj_df=get_true_label(yearly_dfs,test_years)\n",
    "err_df=[]\n",
    "Ea=30\n",
    "err=0\n",
    "\n",
    "Bdj_df=np.array(Bdj_df)\n",
    "pred_df=np.array(pred_df)\n",
    "err=np.square(Bdj_df-pred_df)\n",
    "err=np.mean(err)\n",
    "r2_err=r2_score(Bdj_df,pred_df)\n",
    "        \n",
    "#err/=len(train_years)\n",
    "print(Ea,err,r2_err)"
   ]
  },
  {
   "cell_type": "markdown",
   "metadata": {
    "colab_type": "text",
    "id": "m6ZY7JaMBSAM"
   },
   "source": [
    "### Problem 2-5: (extra 10pts)\n",
    "Discuss any improvements you could make to the model outlined above. If you have a suggestion in particular, describe it. How much do you think the accuracy would be improved?"
   ]
  },
  {
   "cell_type": "markdown",
   "metadata": {
    "colab_type": "text",
    "collapsed": true,
    "id": "u2gz4xQ3BSAO"
   },
   "source": [
    "1.According to the mentioned model and datasets, there is an assumption that the average temperature of a single day is sustained throughout the day. This is not the case in real life as the temperature can flactuate even from hour to hour. So if the fluctuations of the temperature could be added, the accuracy and could possibly be improved.\n",
    "\n",
    "\n",
    "\n",
    "2.There are different species of cherry trees from the Prunus genus. Different species of trees might have different type if implecations to different changes of variables. We did not take that into account. If we can take those things into consideration, accuracy might be improved."
   ]
  },
  {
   "cell_type": "markdown",
   "metadata": {
    "colab_type": "text",
    "id": "5DvFWiJuBSAR"
   },
   "source": [
    "***\n",
    "## 3. Predicting Bloom-date via Neural Network (30pts total)"
   ]
  },
  {
   "cell_type": "markdown",
   "metadata": {
    "colab_type": "text",
    "id": "o_NoKxggBSAW"
   },
   "source": [
    "### Problem 3-1: (20pts)\n",
    "\n",
    "Build a neural network and train it on the data from the training years. Use this model to predict the bloom-dates for each year in the test set. Evaluate the error between predicted dates and actual dates using the coefficient of determination (R2 score). Only use the weather data given in `tokyo.csv` and the sakura data acquired in problem 0-1.</br>\n",
    "You may use whichever framework or strategy that you like to construct the network. "
   ]
  },
  {
   "cell_type": "code",
   "execution_count": 17,
   "metadata": {
    "colab": {},
    "colab_type": "code",
    "id": "B0P8v5IdBSAY"
   },
   "outputs": [
    {
     "name": "stdout",
     "output_type": "stream",
     "text": [
      "1961\n",
      "1962\n",
      "1963\n",
      "1964\n",
      "1965\n",
      "1966\n",
      "1967\n",
      "1968\n",
      "1969\n",
      "1970\n",
      "1971\n",
      "1972\n",
      "1973\n",
      "1974\n",
      "1975\n",
      "1976\n",
      "1977\n",
      "1978\n",
      "1979\n",
      "1980\n",
      "1981\n",
      "1982\n",
      "1983\n",
      "1984\n",
      "1985\n",
      "1986\n",
      "1987\n",
      "1988\n",
      "1989\n",
      "1990\n",
      "1991\n",
      "1992\n",
      "1993\n",
      "1994\n",
      "1995\n",
      "1996\n",
      "1997\n",
      "1998\n",
      "1999\n",
      "2000\n",
      "2001\n",
      "2002\n",
      "2003\n",
      "2004\n",
      "2005\n",
      "2006\n",
      "2007\n",
      "2008\n",
      "2009\n",
      "2010\n",
      "2011\n",
      "2012\n",
      "2013\n",
      "2014\n",
      "2015\n",
      "2016\n",
      "2017\n"
     ]
    }
   ],
   "source": [
    "DTS_mean=DTS_df.mean()['Ea_'+str(30)]\n",
    "Ea=30\n",
    "def add_dts(yearly_dfs,Ea,yrs,DTS_mean):\n",
    "\n",
    "    for year in yrs: \n",
    "        _df=yearly_dfs[year]\n",
    "        \n",
    "        Dj=Dj_df.loc[year,'Dj']\n",
    "        indx=_df['days']>=int(Dj) \n",
    "        Tjs=_df[indx]['avg temp']\n",
    "        _df['dts']=0\n",
    "        _df['ts']=0\n",
    "        _df['dj']=0\n",
    "        DTS=0\n",
    "        ind=int(Dj-1)\n",
    "        print(year)\n",
    "        \n",
    "        for Tj in Tjs:\n",
    "            df_row=_df.loc[ind].copy()\n",
    "            TS=get_ts(Ea,Tj)\n",
    "            DTS+=TS\n",
    "            df_row['dts']=DTS\n",
    "            df_row['dj']=Dj\n",
    "            df_row['ts']=TS\n",
    "            _df.loc[ind]=df_row\n",
    "            if ind>=(len(_df)-1):\n",
    "                break\n",
    "            ind+=1\n",
    "        yearly_dfs[year]=_df\n",
    "    return yearly_dfs\n",
    "yearly_dfs=add_dts(yearly_dfs,Ea,years,DTS_mean)"
   ]
  },
  {
   "cell_type": "markdown",
   "metadata": {
    "colab_type": "text",
    "id": "XXENGX8IBSAh"
   },
   "source": [
    "### Problem 3-2: (10pts)\n",
    "Compare the performance (via $R^2$ score) of the 3 implementations above: the 600 Degree Rule, the DTS method, and the neural network approach. For all methods, and each test year, plot the predicted date vs. the actual date. Discuss the accuracy and differences of these 3 models."
   ]
  },
  {
   "cell_type": "code",
   "execution_count": 18,
   "metadata": {},
   "outputs": [],
   "source": [
    "#Ind_2=predict(yearly_dfs,years,float(thr_temp))\n",
    "#Ind_2=predict_ts(yearly_dfs,30,years,DTS_df.mean())\n",
    "def get_nn_dfs(yearly_dfs,yrs):\n",
    "    nn_dfs={}\n",
    "    for year in yrs:\n",
    "        _df=yearly_dfs[year].copy()\n",
    "        Dj=Dj_df.loc[year,'Dj']\n",
    "        ind1=int(Dj-1)\n",
    "        ind2=ind1+60#Ind_2.loc[year].values[0]-1\n",
    "        df=_df.loc[ind1:ind2,:].copy()\n",
    "        nn_dfs[year]=df\n",
    "    return nn_dfs\n",
    "nn_dfs=get_nn_dfs(yearly_dfs,years)"
   ]
  },
  {
   "cell_type": "code",
   "execution_count": 19,
   "metadata": {},
   "outputs": [
    {
     "data": {
      "image/png": "[encoded data removed]",
      "text/plain": [
       "<Figure size 432x288 with 1 Axes>"
      ]
     },
     "metadata": {
      "needs_background": "light"
     },
     "output_type": "display_data"
    },
    {
     "data": {
      "image/png": "[encoded data removed]",
      "text/plain": [
       "<Figure size 432x288 with 1 Axes>"
      ]
     },
     "metadata": {
      "needs_background": "light"
     },
     "output_type": "display_data"
    }
   ],
   "source": [
    "DTS_df['Ea_30'].plot()\n",
    "plt.show()\n",
    "_,Bdj_df=get_true_label(yearly_dfs,years)\n",
    "Bdj_df.plot()\n",
    "plt.show()"
   ]
  },
  {
   "cell_type": "code",
   "execution_count": 20,
   "metadata": {},
   "outputs": [],
   "source": [
    "from sklearn.preprocessing import MinMaxScaler,RobustScaler\n",
    "\n",
    "_,Bdj_df=get_true_label(yearly_dfs,train_years)\n",
    "trainX=[]\n",
    "trainY=[]\n",
    "feats= [ \n",
    "'year','local pressure','sea pressure',\n",
    "'total preci','hr1 preci','min10 preci',\n",
    "'avg temp','max temp','min temp','avg humid',\n",
    "'min humid','sun hours','dts','acc_temp'\n",
    "]\n",
    "feats=['avg temp', 'min temp', 'acc_temp', 'dts', 'max temp', 'hr1 preci',\n",
    "       'year', 'min10 preci', 'total preci', 'sun hours', 'local pressure',\n",
    "       'sea pressure', 'avg humid', 'min humid']\n",
    "feats=['avg temp', 'dts','hr1 preci','min10 preci', 'total preci',\n",
    "       'sun hours', 'local pressure','sea pressure', 'avg humid', 'min humid']\n",
    "feats=['dts','hr1 preci','sun hours','year','local pressure','avg humid']#,'year']\n",
    "for year in train_years:\n",
    "    df=nn_dfs[year]\n",
    "    trainX.append(df[feats].mean())\n",
    "    trainY.append(Bdj_df.loc[year])\n",
    "trainX=np.array(trainX)\n",
    "trainY=np.array(trainY)#-Dj_df.loc[year,'Dj'])\n",
    "\n",
    "scalar= RobustScaler()\n",
    "#scalar= MinMaxScaler()\n",
    "\n",
    "trainX=scalar.fit(trainX).transform(trainX)\n",
    "train_df=pd.DataFrame(trainX,columns=feats)\n",
    "train_df['days']=trainY"
   ]
  },
  {
   "cell_type": "code",
   "execution_count": 21,
   "metadata": {},
   "outputs": [
    {
     "data": {
      "text/html": [
       "<div>\n",
       "<style scoped>\n",
       "    .dataframe tbody tr th:only-of-type {\n",
       "        vertical-align: middle;\n",
       "    }\n",
       "\n",
       "    .dataframe tbody tr th {\n",
       "        vertical-align: top;\n",
       "    }\n",
       "\n",
       "    .dataframe thead th {\n",
       "        text-align: right;\n",
       "    }\n",
       "</style>\n",
       "<table border=\"1\" class=\"dataframe\">\n",
       "  <thead>\n",
       "    <tr style=\"text-align: right;\">\n",
       "      <th></th>\n",
       "      <th>dts</th>\n",
       "      <th>hr1 preci</th>\n",
       "      <th>sun hours</th>\n",
       "      <th>year</th>\n",
       "      <th>local pressure</th>\n",
       "      <th>avg humid</th>\n",
       "      <th>days</th>\n",
       "    </tr>\n",
       "  </thead>\n",
       "  <tbody>\n",
       "    <tr>\n",
       "      <th>37</th>\n",
       "      <td>2.708366</td>\n",
       "      <td>-0.393305</td>\n",
       "      <td>-0.204126</td>\n",
       "      <td>0.454545</td>\n",
       "      <td>-0.514170</td>\n",
       "      <td>-0.371765</td>\n",
       "      <td>75.0</td>\n",
       "    </tr>\n",
       "    <tr>\n",
       "      <th>38</th>\n",
       "      <td>-0.162710</td>\n",
       "      <td>0.861925</td>\n",
       "      <td>0.375329</td>\n",
       "      <td>0.490909</td>\n",
       "      <td>0.042326</td>\n",
       "      <td>-0.691765</td>\n",
       "      <td>86.0</td>\n",
       "    </tr>\n",
       "    <tr>\n",
       "      <th>39</th>\n",
       "      <td>1.404401</td>\n",
       "      <td>0.527197</td>\n",
       "      <td>0.793458</td>\n",
       "      <td>0.527273</td>\n",
       "      <td>-0.092381</td>\n",
       "      <td>-0.469020</td>\n",
       "      <td>78.0</td>\n",
       "    </tr>\n",
       "    <tr>\n",
       "      <th>40</th>\n",
       "      <td>0.106406</td>\n",
       "      <td>-0.192469</td>\n",
       "      <td>-0.070786</td>\n",
       "      <td>0.563636</td>\n",
       "      <td>-0.527420</td>\n",
       "      <td>-0.901961</td>\n",
       "      <td>90.0</td>\n",
       "    </tr>\n",
       "    <tr>\n",
       "      <th>41</th>\n",
       "      <td>0.454014</td>\n",
       "      <td>0.912134</td>\n",
       "      <td>-0.967953</td>\n",
       "      <td>0.600000</td>\n",
       "      <td>-0.723960</td>\n",
       "      <td>-0.381176</td>\n",
       "      <td>80.0</td>\n",
       "    </tr>\n",
       "    <tr>\n",
       "      <th>42</th>\n",
       "      <td>1.357858</td>\n",
       "      <td>1.297071</td>\n",
       "      <td>-0.087247</td>\n",
       "      <td>0.636364</td>\n",
       "      <td>-0.317630</td>\n",
       "      <td>-0.945882</td>\n",
       "      <td>79.0</td>\n",
       "    </tr>\n",
       "    <tr>\n",
       "      <th>43</th>\n",
       "      <td>0.869449</td>\n",
       "      <td>1.347280</td>\n",
       "      <td>-0.095478</td>\n",
       "      <td>0.709091</td>\n",
       "      <td>-0.122562</td>\n",
       "      <td>-0.550588</td>\n",
       "      <td>80.0</td>\n",
       "    </tr>\n",
       "    <tr>\n",
       "      <th>44</th>\n",
       "      <td>0.675180</td>\n",
       "      <td>0.995816</td>\n",
       "      <td>-1.557285</td>\n",
       "      <td>0.745455</td>\n",
       "      <td>0.793890</td>\n",
       "      <td>1.184314</td>\n",
       "      <td>81.0</td>\n",
       "    </tr>\n",
       "    <tr>\n",
       "      <th>45</th>\n",
       "      <td>-0.072827</td>\n",
       "      <td>-0.175732</td>\n",
       "      <td>0.749011</td>\n",
       "      <td>0.781818</td>\n",
       "      <td>0.579683</td>\n",
       "      <td>-1.306667</td>\n",
       "      <td>87.0</td>\n",
       "    </tr>\n",
       "    <tr>\n",
       "      <th>46</th>\n",
       "      <td>-0.349223</td>\n",
       "      <td>-0.008368</td>\n",
       "      <td>-0.302897</td>\n",
       "      <td>0.818182</td>\n",
       "      <td>-0.151270</td>\n",
       "      <td>-0.142745</td>\n",
       "      <td>91.0</td>\n",
       "    </tr>\n",
       "    <tr>\n",
       "      <th>47</th>\n",
       "      <td>1.729638</td>\n",
       "      <td>2.234310</td>\n",
       "      <td>0.615671</td>\n",
       "      <td>0.854545</td>\n",
       "      <td>-1.342289</td>\n",
       "      <td>-0.321569</td>\n",
       "      <td>75.0</td>\n",
       "    </tr>\n",
       "    <tr>\n",
       "      <th>48</th>\n",
       "      <td>0.664269</td>\n",
       "      <td>0.644351</td>\n",
       "      <td>1.473330</td>\n",
       "      <td>0.890909</td>\n",
       "      <td>0.106367</td>\n",
       "      <td>-1.027451</td>\n",
       "      <td>84.0</td>\n",
       "    </tr>\n",
       "    <tr>\n",
       "      <th>49</th>\n",
       "      <td>0.339162</td>\n",
       "      <td>0.376569</td>\n",
       "      <td>-0.482330</td>\n",
       "      <td>0.927273</td>\n",
       "      <td>1.136180</td>\n",
       "      <td>1.645490</td>\n",
       "      <td>82.0</td>\n",
       "    </tr>\n",
       "    <tr>\n",
       "      <th>50</th>\n",
       "      <td>0.636496</td>\n",
       "      <td>0.108787</td>\n",
       "      <td>-0.925153</td>\n",
       "      <td>0.963636</td>\n",
       "      <td>1.837689</td>\n",
       "      <td>1.275294</td>\n",
       "      <td>81.0</td>\n",
       "    </tr>\n",
       "    <tr>\n",
       "      <th>51</th>\n",
       "      <td>-0.574695</td>\n",
       "      <td>-0.896125</td>\n",
       "      <td>0.605579</td>\n",
       "      <td>1.000000</td>\n",
       "      <td>0.447168</td>\n",
       "      <td>0.371560</td>\n",
       "      <td>80.0</td>\n",
       "    </tr>\n",
       "  </tbody>\n",
       "</table>\n",
       "</div>"
      ],
      "text/plain": [
       "         dts  hr1 preci  sun hours      year  local pressure  avg humid  days\n",
       "37  2.708366  -0.393305  -0.204126  0.454545       -0.514170  -0.371765  75.0\n",
       "38 -0.162710   0.861925   0.375329  0.490909        0.042326  -0.691765  86.0\n",
       "39  1.404401   0.527197   0.793458  0.527273       -0.092381  -0.469020  78.0\n",
       "40  0.106406  -0.192469  -0.070786  0.563636       -0.527420  -0.901961  90.0\n",
       "41  0.454014   0.912134  -0.967953  0.600000       -0.723960  -0.381176  80.0\n",
       "42  1.357858   1.297071  -0.087247  0.636364       -0.317630  -0.945882  79.0\n",
       "43  0.869449   1.347280  -0.095478  0.709091       -0.122562  -0.550588  80.0\n",
       "44  0.675180   0.995816  -1.557285  0.745455        0.793890   1.184314  81.0\n",
       "45 -0.072827  -0.175732   0.749011  0.781818        0.579683  -1.306667  87.0\n",
       "46 -0.349223  -0.008368  -0.302897  0.818182       -0.151270  -0.142745  91.0\n",
       "47  1.729638   2.234310   0.615671  0.854545       -1.342289  -0.321569  75.0\n",
       "48  0.664269   0.644351   1.473330  0.890909        0.106367  -1.027451  84.0\n",
       "49  0.339162   0.376569  -0.482330  0.927273        1.136180   1.645490  82.0\n",
       "50  0.636496   0.108787  -0.925153  0.963636        1.837689   1.275294  81.0\n",
       "51 -0.574695  -0.896125   0.605579  1.000000        0.447168   0.371560  80.0"
      ]
     },
     "execution_count": 21,
     "metadata": {},
     "output_type": "execute_result"
    }
   ],
   "source": [
    "train_df.tail(15)"
   ]
  },
  {
   "cell_type": "code",
   "execution_count": 22,
   "metadata": {},
   "outputs": [
    {
     "name": "stdout",
     "output_type": "stream",
     "text": [
      "['dts', 'year', 'hr1 preci', 'sun hours', 'local pressure', 'avg humid']\n"
     ]
    },
    {
     "data": {
      "text/html": [
       "<div>\n",
       "<style scoped>\n",
       "    .dataframe tbody tr th:only-of-type {\n",
       "        vertical-align: middle;\n",
       "    }\n",
       "\n",
       "    .dataframe tbody tr th {\n",
       "        vertical-align: top;\n",
       "    }\n",
       "\n",
       "    .dataframe thead th {\n",
       "        text-align: right;\n",
       "    }\n",
       "</style>\n",
       "<table border=\"1\" class=\"dataframe\">\n",
       "  <thead>\n",
       "    <tr style=\"text-align: right;\">\n",
       "      <th></th>\n",
       "      <th>corr_value</th>\n",
       "    </tr>\n",
       "  </thead>\n",
       "  <tbody>\n",
       "    <tr>\n",
       "      <th>days</th>\n",
       "      <td>1.000000</td>\n",
       "    </tr>\n",
       "    <tr>\n",
       "      <th>dts</th>\n",
       "      <td>0.824989</td>\n",
       "    </tr>\n",
       "    <tr>\n",
       "      <th>year</th>\n",
       "      <td>0.556497</td>\n",
       "    </tr>\n",
       "    <tr>\n",
       "      <th>hr1 preci</th>\n",
       "      <td>0.534399</td>\n",
       "    </tr>\n",
       "    <tr>\n",
       "      <th>sun hours</th>\n",
       "      <td>0.152567</td>\n",
       "    </tr>\n",
       "    <tr>\n",
       "      <th>local pressure</th>\n",
       "      <td>0.144883</td>\n",
       "    </tr>\n",
       "    <tr>\n",
       "      <th>avg humid</th>\n",
       "      <td>0.088444</td>\n",
       "    </tr>\n",
       "  </tbody>\n",
       "</table>\n",
       "</div>"
      ],
      "text/plain": [
       "                corr_value\n",
       "days              1.000000\n",
       "dts               0.824989\n",
       "year              0.556497\n",
       "hr1 preci         0.534399\n",
       "sun hours         0.152567\n",
       "local pressure    0.144883\n",
       "avg humid         0.088444"
      ]
     },
     "execution_count": 22,
     "metadata": {},
     "output_type": "execute_result"
    },
    {
     "data": {
      "image/png": "[encoded data removed]",
      "text/plain": [
       "<Figure size 432x288 with 2 Axes>"
      ]
     },
     "metadata": {
      "needs_background": "light"
     },
     "output_type": "display_data"
    }
   ],
   "source": [
    "import seaborn as sns\n",
    "corrmat = train_df.corr()\n",
    "sns.heatmap(corrmat)\n",
    "corrmat['corr_value']=corrmat['days'].abs()\n",
    "corrmat1=corrmat.sort_values( by=['corr_value'],ascending=False)\n",
    "cm=(corrmat1['corr_value'].abs())\n",
    "cm=pd.DataFrame(cm)\n",
    "corr_cols=list(cm.index)\n",
    "#corr_cols=corr_cols[1:]\n",
    "print(corr_cols[1:])\n",
    "cm"
   ]
  },
  {
   "cell_type": "code",
   "execution_count": 26,
   "metadata": {},
   "outputs": [
    {
     "name": "stdout",
     "output_type": "stream",
     "text": [
      "dts\n"
     ]
    },
    {
     "data": {
      "image/png": "[encoded data removed]",
      "text/plain": [
       "<Figure size 432x288 with 1 Axes>"
      ]
     },
     "metadata": {
      "needs_background": "light"
     },
     "output_type": "display_data"
    },
    {
     "name": "stdout",
     "output_type": "stream",
     "text": [
      "hr1 preci\n"
     ]
    },
    {
     "data": {
      "image/png": "[encoded data removed]",
      "text/plain": [
       "<Figure size 432x288 with 1 Axes>"
      ]
     },
     "metadata": {
      "needs_background": "light"
     },
     "output_type": "display_data"
    },
    {
     "name": "stdout",
     "output_type": "stream",
     "text": [
      "sun hours\n"
     ]
    },
    {
     "data": {
      "image/png": "[encoded data removed]",
      "text/plain": [
       "<Figure size 432x288 with 1 Axes>"
      ]
     },
     "metadata": {
      "needs_background": "light"
     },
     "output_type": "display_data"
    },
    {
     "name": "stdout",
     "output_type": "stream",
     "text": [
      "year\n"
     ]
    },
    {
     "data": {
      "image/png": "[encoded data removed]",
      "text/plain": [
       "<Figure size 432x288 with 1 Axes>"
      ]
     },
     "metadata": {
      "needs_background": "light"
     },
     "output_type": "display_data"
    },
    {
     "name": "stdout",
     "output_type": "stream",
     "text": [
      "local pressure\n"
     ]
    },
    {
     "data": {
      "image/png": "[encoded data removed]",
      "text/plain": [
       "<Figure size 432x288 with 1 Axes>"
      ]
     },
     "metadata": {
      "needs_background": "light"
     },
     "output_type": "display_data"
    },
    {
     "name": "stdout",
     "output_type": "stream",
     "text": [
      "avg humid\n"
     ]
    },
    {
     "data": {
      "image/png": "[encoded data removed]",
      "text/plain": [
       "<Figure size 432x288 with 1 Axes>"
      ]
     },
     "metadata": {
      "needs_background": "light"
     },
     "output_type": "display_data"
    }
   ],
   "source": [
    "%matplotlib inline\n",
    "#trainX[trainX[:,0]>2.0]=1.7\n",
    "train_df=pd.DataFrame(trainX,columns=feats)\n",
    "train_df['days']=trainY\n",
    "for i in range(len(feats)):\n",
    "    print(feats[i])\n",
    "    plt.scatter(train_df.loc[0:40,feats[i]],train_df.loc[0:40,'days'])\n",
    "    plt.show()\n",
    "    "
   ]
  },
  {
   "cell_type": "code",
   "execution_count": 27,
   "metadata": {},
   "outputs": [],
   "source": [
    "_,Bdj_df=get_true_label(yearly_dfs,test_years)\n",
    "valX=[]\n",
    "valY=[]\n",
    "for year in test_years:\n",
    "    df=nn_dfs[year]\n",
    "    valX.append(np.array(df[feats].mean()))\n",
    "    valY.append(Bdj_df.loc[year])#-Dj_df.loc[year,'Dj'])\n",
    "valX=np.array(valX)\n",
    "valY=np.array(valY)\n",
    "scalar= RobustScaler()\n",
    "#scalar=MinMaxScaler()\n",
    "valX=scalar.fit(valX).transform(valX)\n",
    "val_df=pd.DataFrame(valX,columns=feats)\n",
    "val_df['days']=valY"
   ]
  },
  {
   "cell_type": "code",
   "execution_count": 28,
   "metadata": {},
   "outputs": [
    {
     "name": "stderr",
     "output_type": "stream",
     "text": [
      "Using TensorFlow backend.\n"
     ]
    },
    {
     "name": "stdout",
     "output_type": "stream",
     "text": [
      "6 9\n",
      "(52, 6) (52, 1)\n"
     ]
    }
   ],
   "source": [
    "import keras\n",
    "n1=len(feats)\n",
    "n2=int(len(feats)*1.5)\n",
    "print(n1,n2)\n",
    "print(trainX.shape,trainY.shape)"
   ]
  },
  {
   "cell_type": "code",
   "execution_count": 29,
   "metadata": {},
   "outputs": [
    {
     "data": {
      "image/png": "[encoded data removed]",
      "text/plain": [
       "<Figure size 432x288 with 1 Axes>"
      ]
     },
     "metadata": {
      "needs_background": "light"
     },
     "output_type": "display_data"
    }
   ],
   "source": [
    "%matplotlib inline\n",
    "n=51\n",
    "outliers=(train_df['dts']<-0.5) & (train_df['days']<85)\n",
    "#outliers|=(train_df['dts']>2.5)\n",
    "#outliers*1\n",
    "\n",
    "plt.scatter(train_df.loc[:,feats[0]],train_df.loc[:,'days'],marker='*',color='b')\n",
    "#plt.scatter(train_df.loc[45:,feats[0]],train_df.loc[45:,'days'],marker='*',color='g')\n",
    "plt.scatter(val_df.loc[:,feats[0]],val_df.loc[:,'days'],marker='*',color='c')\n",
    "#plt.show()\n",
    "plt.scatter(train_df.loc[outliers,feats[0]],train_df.loc[outliers,'days'],marker='*',color='r')\n",
    "plt.show()\n",
    "\n",
    "#n_train_df=train_df.copy()\n",
    "#n_train_df.loc[outliers,'dts']=train_df['dts'].mean()\n",
    "#plt.scatter(n_train_df.loc[:,feats[0]],n_train_df.loc[:,'days'],marker='*',color='g')\n",
    "#plt.show()"
   ]
  },
  {
   "cell_type": "code",
   "execution_count": 30,
   "metadata": {},
   "outputs": [
    {
     "data": {
      "image/png": "[encoded data removed]",
      "text/plain": [
       "<Figure size 432x288 with 1 Axes>"
      ]
     },
     "metadata": {
      "needs_background": "light"
     },
     "output_type": "display_data"
    }
   ],
   "source": [
    "%matplotlib inline\n",
    "n=51\n",
    "#outliers=(train_df['dts']<-0.5) & (train_df['days']<85)\n",
    "#outliers|=(train_df['hr1 preci']<-0.5) & (train_df['days']<85)\n",
    "outliers1=(train_df['hr1 preci']<0.0) & (train_df['days']<77)\n",
    "#outliers|=(train_df['dts']>2.5)\n",
    "#outliers*1\n",
    "plt.scatter(train_df.loc[:,feats[1]],train_df.loc[:,'days'],marker='*',color='b')\n",
    "#plt.scatter(train_df.loc[45:,feats[0]],train_df.loc[45:,'days'],marker='*',color='g')\n",
    "plt.scatter(val_df.loc[:,feats[1]],val_df.loc[:,'days'],marker='*',color='c')\n",
    "#plt.show()\n",
    "plt.scatter(train_df.loc[outliers1,feats[1]],train_df.loc[outliers1,'days'],marker='*',color='r')\n",
    "plt.show()\n",
    "#n_train_df=train_df.copy()\n",
    "#n_train_df.loc[outliers,'dts']=train_df['dts'].mean()\n",
    "#plt.scatter(n_train_df.loc[:,feats[0]],n_train_df.loc[:,'days'],marker='*',color='g')\n",
    "#plt.show()\n"
   ]
  },
  {
   "cell_type": "code",
   "execution_count": 31,
   "metadata": {},
   "outputs": [],
   "source": [
    "from keras import models\n",
    "from keras import layers\n",
    "from keras import optimizers\n",
    "def build_model():\n",
    "    model = models.Sequential()\n",
    "    model.add(layers.Dense(9,activation='relu', input_shape=(n1,)))\n",
    "    #model.add(layers.Dense(9, activation='relu'))\n",
    "    model.add(layers.Dense(1))\n",
    "    return model"
   ]
  },
  {
   "cell_type": "code",
   "execution_count": 32,
   "metadata": {},
   "outputs": [
    {
     "data": {
      "text/plain": [
       "(array([51]),)"
      ]
     },
     "execution_count": 32,
     "metadata": {},
     "output_type": "execute_result"
    }
   ],
   "source": [
    "otl=np.where(list(outliers|outliers))\n",
    "otl"
   ]
  },
  {
   "cell_type": "code",
   "execution_count": 33,
   "metadata": {},
   "outputs": [],
   "source": [
    "ot_trainX=np.delete(trainX,otl,0)\n",
    "ot_trainY=np.delete(trainY,otl,0)"
   ]
  },
  {
   "cell_type": "code",
   "execution_count": 34,
   "metadata": {},
   "outputs": [
    {
     "data": {
      "text/plain": [
       "(51, 1)"
      ]
     },
     "execution_count": 34,
     "metadata": {},
     "output_type": "execute_result"
    }
   ],
   "source": [
    "ot_trainX.shape\n",
    "ot_trainY.shape"
   ]
  },
  {
   "cell_type": "code",
   "execution_count": null,
   "metadata": {},
   "outputs": [],
   "source": [
    "n=40\n",
    "_trainX=ot_trainX[:n,:]\n",
    "_trainY=ot_trainY[:n]\n",
    "_valX=np.concatenate((ot_trainX[n:,:],valX),axis=0)\n",
    "_valY=np.concatenate((ot_trainY[n:],valY),axis=0)\n",
    "print(_trainX.shape,_trainY.shape)\n",
    "print(_valX.shape,_valY.shape)"
   ]
  },
  {
   "cell_type": "markdown",
   "metadata": {
    "colab_type": "text",
    "id": "KwFB9nUpBSAq"
   },
   "source": [
    "***\n",
    "## 4. Trends of the Sakura blooming phenomenon (20pts total)"
   ]
  },
  {
   "cell_type": "code",
   "execution_count": null,
   "metadata": {},
   "outputs": [],
   "source": [
    "model=build_model()\n",
    "model.summary()\n",
    "opt = optimizers.Adam(lr=0.01)\n",
    "model.compile(optimizer=opt,loss='mse',metrics=['accuracy'])\n",
    "\n",
    "history = model.fit(_trainX,_trainY,\n",
    "epochs=1000,\n",
    "batch_size=10,\n",
    "validation_data=(_valX,_valY))"
   ]
  },
  {
   "cell_type": "code",
   "execution_count": null,
   "metadata": {},
   "outputs": [],
   "source": [
    "pred_valY=model.predict(valX)\n",
    "pred_trainY=model.predict(_trainX)"
   ]
  },
  {
   "cell_type": "code",
   "execution_count": null,
   "metadata": {},
   "outputs": [],
   "source": [
    "%matplotlib tk\n",
    "hst=history.history\n",
    "hst_df=pd.DataFrame(hst)\n",
    "hst_df.loc[100:,['loss','val_loss']].plot()\n",
    "plt.show()"
   ]
  },
  {
   "cell_type": "code",
   "execution_count": null,
   "metadata": {},
   "outputs": [],
   "source": [
    "r2_score(valY,pred_valY)\n",
    "#loss: 8.3634 - acc: 0.1961 - val_loss: 88.6133 -\n",
    "#dts_2000_0.01_lr-1\n",
    "\n",
    "#Dj-Dj+45\n",
    "#0.7962881777773756\n",
    "#0.7479627828657656\n",
    "\n",
    "#Dj-Dj+60\n",
    "#0.848715625702062\n",
    "#0.741363303453404\n",
    "\n",
    "#Dj-Dj+75\n",
    "#0.797084417597424\n",
    "#0.708412112037132\n",
    "\n",
    "##### DTS_mean\n",
    "#-1.5325741629898055\n",
    "#0.2821139520499667\n",
    "#-0.17335679725146158\n",
    "#0.09165092666141239\n",
    "\n",
    "#0-120\n",
    "#0.6455204116232051\n",
    "#0.4675871879565794\n",
    "\n",
    "#0-90\n",
    "#0.6082100939263051\n",
    "#0.5998106089606232\n",
    "\n",
    "#30-90\n",
    "#0.6023504754927881\n",
    "#0.599869050027288\n",
    "\n",
    "#dts\n",
    "#0.8551037782178167\n",
    "#0.7412246201349799\n",
    "#dts, hr1 prec\n",
    "#0.8844882574767511\n",
    "#0.7698304461063099\n",
    "#dts, hr1 prec, sun hour\n",
    "#0.889004081009097 #0.8964655469282009\n",
    "#0.771069045571136 #0.7715655577337261\n",
    "#dts, hr1 prec, sun hour, year\n",
    "#0.8865058875581454\n",
    "#0.7717858921340838\n",
    "\n",
    "#ts\n",
    "#0.8742134694993271\n",
    "#0.766644343375489\n",
    "#max temp\n",
    "#0.6062176933119402\n",
    "#0.779729431284151\n",
    "\n",
    "#dts replaced with max temp\n",
    "#0.7454437920676902\n",
    "#0.7690530840038021\n",
    "\n",
    "# local pressure\n",
    "#0.8867971118014005\n",
    "#0.7711087225946883\n",
    "\n",
    "# avg hum\n",
    "# 0.8807574641912376\n",
    "# 0.7741151256747271\n",
    "\n",
    "#One Layer lr-0.01\n",
    "#0.8865058875581454\n",
    "#0.7717858921340838\n",
    "\n",
    "# Two Layer lr-0.001 epoc-2000\n",
    "#0.8843967576726556\n",
    "#0.8055229599170752\n",
    "\n",
    "# Two Layer lr-001 epoc-3000\n",
    "#0.9076534128260327\n",
    "#0.8187439291204781\n",
    "\n",
    "\n",
    "#Three Layer lr-.001 epoc-1500\n",
    "#0.7974658681103672\n",
    "#0.8299275049247561\n",
    "\n",
    "#Two Layer lr-.001 epoc-3000\n",
    "#0.5893630673823764\n",
    "#0.8926872528604172\n",
    "\n",
    "#Two Layer lr-.001 epoc-2000\n",
    "#0.9488778524790618\n",
    "#0.5556280326702234\n",
    "\n",
    "#Two Layer lr-.01 epoc-3000\n",
    "#0.8458162408509446\n",
    "#0.6890622744733794\n",
    "\n",
    "#Two Layer lr-.001 epoc-4000\n",
    "#-221.33723206014062\n",
    "#0.6890622744733794\n",
    "\n",
    "\n",
    "#One Layer lr-.01 epoc-3000\n",
    "#0.9660544166313932\n",
    "#0.7470540107008818\n",
    "\n",
    "#Two Layer lr-.001 epoc-2500\n",
    "#0.9367591443712756\n",
    "#0.8099486162603251"
   ]
  },
  {
   "cell_type": "code",
   "execution_count": null,
   "metadata": {},
   "outputs": [],
   "source": [
    "#0.9726631448398149\n",
    "#0.7534359187803659\n",
    "r2_score(_trainY,pred_trainY)\n",
    "#1_Layer_3000_epoc_lr_0.01\n",
    "#0.9493125032833112\n",
    "#0.7501578527562576\n",
    "\n",
    "#0.9718454388409287\n",
    "#0.7539047348838489\n",
    "\n",
    "#Two Layer lr-0.001 epoc-3000\n",
    "#0.762325187780692\n",
    "#0.836673005208539\n",
    "\n",
    "#Two Layer lr-0.01 epoc-3000\n",
    "#0.8876951705450064\n",
    "#0.74239441072717\n"
   ]
  },
  {
   "cell_type": "code",
   "execution_count": null,
   "metadata": {},
   "outputs": [],
   "source": [
    "(_valY,pred_valY)\n",
    "train_df.tail(5)"
   ]
  },
  {
   "cell_type": "code",
   "execution_count": null,
   "metadata": {},
   "outputs": [],
   "source": [
    "#model.save('1_layer.h5')"
   ]
  },
  {
   "cell_type": "code",
   "execution_count": null,
   "metadata": {},
   "outputs": [],
   "source": [
    "wts=model.get_weights()\n",
    "wts\n",
    "#[array([[-6.8447065]], dtype=float32), array([87.416695], dtype=float32)]"
   ]
  },
  {
   "cell_type": "code",
   "execution_count": null,
   "metadata": {},
   "outputs": [],
   "source": [
    "(valY,pred_valY)"
   ]
  },
  {
   "cell_type": "markdown",
   "metadata": {
    "colab_type": "text",
    "id": "Xs81joX6BSAs"
   },
   "source": [
    "### Problem 4-1: (20pts)\n",
    "Based on the data from the past 60 years, investigate and discuss trends in the sakura hibernation ($D_{j}$) and blooming ($BD_{j}$) phenomena in Tokyo."
   ]
  },
  {
   "cell_type": "code",
   "execution_count": null,
   "metadata": {
    "colab": {},
    "colab_type": "code",
    "id": "nYN_jqd8BR_5"
   },
   "outputs": [],
   "source": [
    "yr_gp=data_df.groupby('year')\n",
    "ddf=yr_gp.get_group(1967).reset_index().copy()\n",
    "_df=ddf[data_df['days']>=41]\n",
    "_df=_df[data_df['days']<=89]\n",
    "Tjs=_df['avg temp']"
   ]
  },
  {
   "cell_type": "code",
   "execution_count": null,
   "metadata": {},
   "outputs": [],
   "source": [
    "Ea=9\n",
    "R=8.314\n",
    "Tjs=_df[indx]['avg temp']\n",
    "DTS=0\n",
    "for Tj in Tjs[:1]:\n",
    "        A=Ea*(Tj-Ts)\n",
    "        B=R*Tj*Ts\n",
    "        DTS+=np.exp(A/B)\n",
    "        print(A)\n",
    "        print(B)\n",
    "print(DTS)"
   ]
  },
  {
   "cell_type": "code",
   "execution_count": null,
   "metadata": {},
   "outputs": [],
   "source": [
    "\n",
    "Tjs"
   ]
  },
  {
   "cell_type": "code",
   "execution_count": null,
   "metadata": {},
   "outputs": [],
   "source": [
    "yr_gp=data_df.groupby('year')\n",
    "_67=yr_gp.get_group(1967).reset_index()\n",
    "_66=yr_gp.get_group(1964).reset_index()\n",
    "print(_66.loc[0:90,'avg temp'].mean())\n",
    "print(_67.loc[0:90,'avg temp'].mean())"
   ]
  }
 ],
 "metadata": {
  "colab": {
   "name": "Sakura Assignment Spec",
   "provenance": [
    {
     "file_id": "10GHtmKsFQhCh1XqHRnuyboFY0GzixHAe",
     "timestamp": 1548570939777
    }
   ],
   "version": "0.3.2"
  },
  "kernelspec": {
   "display_name": "Python 3",
   "language": "python",
   "name": "python3"
  },
  "language_info": {
   "codemirror_mode": {
    "name": "ipython",
    "version": 3
   },
   "file_extension": ".py",
   "mimetype": "text/x-python",
   "name": "python",
   "nbconvert_exporter": "python",
   "pygments_lexer": "ipython3",
   "version": "3.6.7"
  }
 },
 "nbformat": 4,
 "nbformat_minor": 1
}
