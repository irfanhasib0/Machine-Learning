{
 "cells": [
  {
   "cell_type": "code",
   "execution_count": 4,
   "metadata": {},
   "outputs": [],
   "source": [
    "from keras.datasets import imdb\n",
    "(train_data, train_labels), (test_data, test_labels) = imdb.load_data(num_words=10000)"
   ]
  },
  {
   "cell_type": "code",
   "execution_count": 5,
   "metadata": {},
   "outputs": [],
   "source": [
    "word_index = imdb.get_word_index()\n",
    "reverse_word_index = dict([(value, key) for (key, value) in word_index.items()])\n",
    "decoded_review = ' '.join([reverse_word_index.get(i - 3, '?') for i in train_data[1]])"
   ]
  },
  {
   "cell_type": "code",
   "execution_count": 6,
   "metadata": {},
   "outputs": [],
   "source": [
    "import numpy as np\n",
    "def vectorize_sequences(sequences, dimension=10000):\n",
    "    results = np.zeros((len(sequences), dimension))\n",
    "    for i, sequence in enumerate(sequences):\n",
    "        results[i, sequence] = 1.\n",
    "    return results\n",
    "x_train = vectorize_sequences(train_data)\n",
    "x_test = vectorize_sequences(test_data)"
   ]
  },
  {
   "cell_type": "code",
   "execution_count": 14,
   "metadata": {},
   "outputs": [],
   "source": [
    "y_train = np.asarray(train_labels).astype('float32')\n",
    "y_test = np.asarray(test_labels).astype('float32')"
   ]
  },
  {
   "cell_type": "code",
   "execution_count": 15,
   "metadata": {},
   "outputs": [
    {
     "data": {
      "text/plain": [
       "array([1., 0., 0., ..., 0., 1., 0.], dtype=float32)"
      ]
     },
     "execution_count": 15,
     "metadata": {},
     "output_type": "execute_result"
    }
   ],
   "source": [
    "y_train"
   ]
  },
  {
   "cell_type": "code",
   "execution_count": 16,
   "metadata": {},
   "outputs": [],
   "source": [
    "from keras import models\n",
    "from keras import layers\n",
    "model = models.Sequential()\n",
    "model.add(layers.Dense(16, activation='relu', input_shape=(10000,)))\n",
    "model.add(layers.Dense(16, activation='relu'))\n",
    "model.add(layers.Dense(1, activation='sigmoid'))"
   ]
  },
  {
   "cell_type": "code",
   "execution_count": 34,
   "metadata": {},
   "outputs": [],
   "source": [
    "model.compile(optimizer='rmsprop',loss='binary_crossentropy',metrics=['accuracy'])"
   ]
  },
  {
   "cell_type": "code",
   "execution_count": 35,
   "metadata": {},
   "outputs": [],
   "source": [
    "x_val = x_train[:10000]\n",
    "partial_x_train = x_train[10000:]\n",
    "\n",
    "y_val = y_train[:10000]\n",
    "partial_y_train = y_train[10000:]"
   ]
  },
  {
   "cell_type": "code",
   "execution_count": 36,
   "metadata": {},
   "outputs": [
    {
     "name": "stdout",
     "output_type": "stream",
     "text": [
      "Train on 15000 samples, validate on 10000 samples\n",
      "Epoch 1/20\n",
      "15000/15000 [==============================] - 21s 1ms/step - loss: 0.5341 - acc: 0.7901 - val_loss: 0.4088 - val_acc: 0.8688\n",
      "Epoch 2/20\n",
      "15000/15000 [==============================] - 10s 647us/step - loss: 0.3277 - acc: 0.8995 - val_loss: 0.3167 - val_acc: 0.8848\n",
      "Epoch 3/20\n",
      "15000/15000 [==============================] - 11s 753us/step - loss: 0.2376 - acc: 0.9239 - val_loss: 0.2833 - val_acc: 0.8897\n",
      "Epoch 4/20\n",
      "15000/15000 [==============================] - 10s 680us/step - loss: 0.1879 - acc: 0.9386 - val_loss: 0.2857 - val_acc: 0.8848\n",
      "Epoch 5/20\n",
      "15000/15000 [==============================] - 12s 808us/step - loss: 0.1512 - acc: 0.9519 - val_loss: 0.2767 - val_acc: 0.8893\n",
      "Epoch 6/20\n",
      "15000/15000 [==============================] - 13s 889us/step - loss: 0.1262 - acc: 0.9614 - val_loss: 0.3127 - val_acc: 0.8795\n",
      "Epoch 7/20\n",
      "15000/15000 [==============================] - 12s 808us/step - loss: 0.1048 - acc: 0.9683 - val_loss: 0.3130 - val_acc: 0.8835\n",
      "Epoch 8/20\n",
      "15000/15000 [==============================] - 8s 558us/step - loss: 0.0877 - acc: 0.9739 - val_loss: 0.3204 - val_acc: 0.8813\n",
      "Epoch 9/20\n",
      "15000/15000 [==============================] - 8s 508us/step - loss: 0.0732 - acc: 0.9797 - val_loss: 0.3510 - val_acc: 0.8823\n",
      "Epoch 10/20\n",
      "15000/15000 [==============================] - 7s 458us/step - loss: 0.0591 - acc: 0.9853 - val_loss: 0.3961 - val_acc: 0.8746\n",
      "Epoch 11/20\n",
      "15000/15000 [==============================] - 7s 472us/step - loss: 0.0499 - acc: 0.9869 - val_loss: 0.3895 - val_acc: 0.8782\n",
      "Epoch 12/20\n",
      "15000/15000 [==============================] - 7s 463us/step - loss: 0.0391 - acc: 0.9914 - val_loss: 0.4192 - val_acc: 0.8751\n",
      "Epoch 13/20\n",
      "15000/15000 [==============================] - 6s 421us/step - loss: 0.0328 - acc: 0.9935 - val_loss: 0.4482 - val_acc: 0.8727\n",
      "Epoch 14/20\n",
      "15000/15000 [==============================] - 6s 399us/step - loss: 0.0271 - acc: 0.9947 - val_loss: 0.4739 - val_acc: 0.8738\n",
      "Epoch 15/20\n",
      "15000/15000 [==============================] - 7s 434us/step - loss: 0.0233 - acc: 0.9946 - val_loss: 0.5046 - val_acc: 0.8720\n",
      "Epoch 16/20\n",
      "15000/15000 [==============================] - 7s 452us/step - loss: 0.0159 - acc: 0.9978 - val_loss: 0.5799 - val_acc: 0.8577\n",
      "Epoch 17/20\n",
      "15000/15000 [==============================] - 6s 432us/step - loss: 0.0124 - acc: 0.9989 - val_loss: 0.5609 - val_acc: 0.8684\n",
      "Epoch 18/20\n",
      "15000/15000 [==============================] - 7s 451us/step - loss: 0.0100 - acc: 0.9991 - val_loss: 0.6032 - val_acc: 0.8656\n",
      "Epoch 19/20\n",
      "15000/15000 [==============================] - 7s 458us/step - loss: 0.0090 - acc: 0.9989 - val_loss: 0.6338 - val_acc: 0.8657\n",
      "Epoch 20/20\n",
      "15000/15000 [==============================] - 7s 461us/step - loss: 0.0057 - acc: 0.9995 - val_loss: 0.6656 - val_acc: 0.8652\n"
     ]
    }
   ],
   "source": [
    "history = model.fit(partial_x_train,\n",
    "partial_y_train,\n",
    "epochs=20,\n",
    "batch_size=512,\n",
    "validation_data=(x_val, y_val))"
   ]
  },
  {
   "cell_type": "code",
   "execution_count": 17,
   "metadata": {},
   "outputs": [
    {
     "data": {
      "text/plain": [
       "<Figure size 640x480 with 1 Axes>"
      ]
     },
     "metadata": {},
     "output_type": "display_data"
    }
   ],
   "source": [
    "import matplotlib.pyplot as plt\n",
    "history_dict = history.history\n",
    "loss_values = history_dict['loss']\n",
    "val_loss_values = history_dict['val_loss']\n",
    "acc = history_dict['acc']\n",
    "epochs = range(1, len(acc) + 1)\n",
    "plt.plot(epochs, loss_values, 'bo', label='Training loss')\n",
    "plt.plot(epochs, val_loss_values, 'b', label='Validation loss')\n",
    "plt.title('Training and validation loss')\n",
    "plt.xlabel('Epochs')\n",
    "plt.ylabel('Loss')\n",
    "plt.legend()\n",
    "plt.show()"
   ]
  },
  {
   "cell_type": "code",
   "execution_count": 12,
   "metadata": {},
   "outputs": [
    {
     "data": {
      "image/png": "[encoded data removed]",
      "text/plain": [
       "<Figure size 432x288 with 1 Axes>"
      ]
     },
     "metadata": {},
     "output_type": "display_data"
    }
   ],
   "source": [
    "plt.clf()\n",
    "acc_values = history_dict['acc']\n",
    "val_acc = history_dict['val_acc']\n",
    "plt.plot(epochs, acc, 'bo', label='Training acc')\n",
    "plt.plot(epochs, val_acc, 'b', label='Validation acc')\n",
    "plt.title('Training and validation accuracy')\n",
    "plt.xlabel('Epochs')\n",
    "plt.ylabel('Loss')\n",
    "plt.legend()\n",
    "plt.show()"
   ]
  },
  {
   "cell_type": "code",
   "execution_count": 33,
   "metadata": {},
   "outputs": [
    {
     "name": "stdout",
     "output_type": "stream",
     "text": [
      "(10000,)\n",
      "(1, 10000)\n"
     ]
    }
   ],
   "source": [
    "#model.predict(x_test[0:1])\n",
    "print(x_test[0].shape)\n",
    "print((x_test[0:1].shape))"
   ]
  },
  {
   "cell_type": "code",
   "execution_count": null,
   "metadata": {},
   "outputs": [],
   "source": []
  }
 ],
 "metadata": {
  "kernelspec": {
   "display_name": "Python 3",
   "language": "python",
   "name": "python3"
  },
  "language_info": {
   "codemirror_mode": {
    "name": "ipython",
    "version": 3
   },
   "file_extension": ".py",
   "mimetype": "text/x-python",
   "name": "python",
   "nbconvert_exporter": "python",
   "pygments_lexer": "ipython3",
   "version": "3.5.0"
  }
 },
 "nbformat": 4,
 "nbformat_minor": 2
}
