{
 "cells": [
  {
   "cell_type": "code",
   "execution_count": 1,
   "id": "false-cutting",
   "metadata": {},
   "outputs": [],
   "source": [
    "import numpy as np\n",
    "import pandas as pd"
   ]
  },
  {
   "cell_type": "code",
   "execution_count": 6,
   "id": "governmental-maria",
   "metadata": {},
   "outputs": [
    {
     "data": {
      "text/html": [
       "<div>\n",
       "<style scoped>\n",
       "    .dataframe tbody tr th:only-of-type {\n",
       "        vertical-align: middle;\n",
       "    }\n",
       "\n",
       "    .dataframe tbody tr th {\n",
       "        vertical-align: top;\n",
       "    }\n",
       "\n",
       "    .dataframe thead th {\n",
       "        text-align: right;\n",
       "    }\n",
       "</style>\n",
       "<table border=\"1\" class=\"dataframe\">\n",
       "  <thead>\n",
       "    <tr style=\"text-align: right;\">\n",
       "      <th></th>\n",
       "      <th>Attr_A</th>\n",
       "      <th>Attr_B</th>\n",
       "      <th>Attr_C</th>\n",
       "      <th>Attr_D</th>\n",
       "      <th>Result</th>\n",
       "    </tr>\n",
       "  </thead>\n",
       "  <tbody>\n",
       "    <tr>\n",
       "      <th>0</th>\n",
       "      <td>0.472325</td>\n",
       "      <td>0.548819</td>\n",
       "      <td>0.157572</td>\n",
       "      <td>0.725575</td>\n",
       "      <td>1</td>\n",
       "    </tr>\n",
       "    <tr>\n",
       "      <th>1</th>\n",
       "      <td>0.404892</td>\n",
       "      <td>0.959891</td>\n",
       "      <td>0.245643</td>\n",
       "      <td>0.140975</td>\n",
       "      <td>0</td>\n",
       "    </tr>\n",
       "    <tr>\n",
       "      <th>2</th>\n",
       "      <td>0.499184</td>\n",
       "      <td>0.772589</td>\n",
       "      <td>0.267347</td>\n",
       "      <td>0.716404</td>\n",
       "      <td>0</td>\n",
       "    </tr>\n",
       "    <tr>\n",
       "      <th>3</th>\n",
       "      <td>0.292106</td>\n",
       "      <td>0.267442</td>\n",
       "      <td>0.600435</td>\n",
       "      <td>0.942743</td>\n",
       "      <td>1</td>\n",
       "    </tr>\n",
       "    <tr>\n",
       "      <th>4</th>\n",
       "      <td>0.837447</td>\n",
       "      <td>0.785135</td>\n",
       "      <td>0.086445</td>\n",
       "      <td>0.641389</td>\n",
       "      <td>0</td>\n",
       "    </tr>\n",
       "  </tbody>\n",
       "</table>\n",
       "</div>"
      ],
      "text/plain": [
       "     Attr_A    Attr_B    Attr_C    Attr_D  Result\n",
       "0  0.472325  0.548819  0.157572  0.725575       1\n",
       "1  0.404892  0.959891  0.245643  0.140975       0\n",
       "2  0.499184  0.772589  0.267347  0.716404       0\n",
       "3  0.292106  0.267442  0.600435  0.942743       1\n",
       "4  0.837447  0.785135  0.086445  0.641389       0"
      ]
     },
     "execution_count": 6,
     "metadata": {},
     "output_type": "execute_result"
    }
   ],
   "source": [
    "import pandas as pd\n",
    "from sklearn.preprocessing import MinMaxScaler, RobustScaler\n",
    "dataset='banknote'\n",
    "df=pd.read_csv('Dataset/banknote.csv').sample(frac=1.0).reset_index(drop=True)\n",
    "N=len(df)\n",
    "\n",
    "df=df.fillna(0)\n",
    "feats=df.columns.values[:-1]\n",
    "target=df.columns.values[-1]\n",
    "scaler=MinMaxScaler()\n",
    "scaler.fit(df[feats])\n",
    "df[feats]=scaler.transform(df[feats])\n",
    "df.head()"
   ]
  },
  {
   "cell_type": "code",
   "execution_count": 12,
   "id": "romantic-cassette",
   "metadata": {},
   "outputs": [
    {
     "name": "stderr",
     "output_type": "stream",
     "text": [
      "C:\\Users\\irfan\\.conda\\envs\\tf\\lib\\site-packages\\ipykernel_launcher.py:1: SettingWithCopyWarning: \n",
      "A value is trying to be set on a copy of a slice from a DataFrame\n",
      "\n",
      "See the caveats in the documentation: https://pandas.pydata.org/pandas-docs/stable/user_guide/indexing.html#returning-a-view-versus-a-copy\n",
      "  \"\"\"Entry point for launching an IPython kernel.\n"
     ]
    }
   ],
   "source": [
    "df.Result[df.Result==0]=-1"
   ]
  },
  {
   "cell_type": "code",
   "execution_count": 13,
   "id": "welcome-contract",
   "metadata": {},
   "outputs": [
    {
     "data": {
      "text/html": [
       "<div>\n",
       "<style scoped>\n",
       "    .dataframe tbody tr th:only-of-type {\n",
       "        vertical-align: middle;\n",
       "    }\n",
       "\n",
       "    .dataframe tbody tr th {\n",
       "        vertical-align: top;\n",
       "    }\n",
       "\n",
       "    .dataframe thead th {\n",
       "        text-align: right;\n",
       "    }\n",
       "</style>\n",
       "<table border=\"1\" class=\"dataframe\">\n",
       "  <thead>\n",
       "    <tr style=\"text-align: right;\">\n",
       "      <th></th>\n",
       "      <th>Attr_A</th>\n",
       "      <th>Attr_B</th>\n",
       "      <th>Attr_C</th>\n",
       "      <th>Attr_D</th>\n",
       "      <th>Result</th>\n",
       "    </tr>\n",
       "  </thead>\n",
       "  <tbody>\n",
       "    <tr>\n",
       "      <th>0</th>\n",
       "      <td>0.472325</td>\n",
       "      <td>0.548819</td>\n",
       "      <td>0.157572</td>\n",
       "      <td>0.725575</td>\n",
       "      <td>1</td>\n",
       "    </tr>\n",
       "    <tr>\n",
       "      <th>1</th>\n",
       "      <td>0.404892</td>\n",
       "      <td>0.959891</td>\n",
       "      <td>0.245643</td>\n",
       "      <td>0.140975</td>\n",
       "      <td>-1</td>\n",
       "    </tr>\n",
       "    <tr>\n",
       "      <th>2</th>\n",
       "      <td>0.499184</td>\n",
       "      <td>0.772589</td>\n",
       "      <td>0.267347</td>\n",
       "      <td>0.716404</td>\n",
       "      <td>-1</td>\n",
       "    </tr>\n",
       "    <tr>\n",
       "      <th>3</th>\n",
       "      <td>0.292106</td>\n",
       "      <td>0.267442</td>\n",
       "      <td>0.600435</td>\n",
       "      <td>0.942743</td>\n",
       "      <td>1</td>\n",
       "    </tr>\n",
       "    <tr>\n",
       "      <th>4</th>\n",
       "      <td>0.837447</td>\n",
       "      <td>0.785135</td>\n",
       "      <td>0.086445</td>\n",
       "      <td>0.641389</td>\n",
       "      <td>-1</td>\n",
       "    </tr>\n",
       "  </tbody>\n",
       "</table>\n",
       "</div>"
      ],
      "text/plain": [
       "     Attr_A    Attr_B    Attr_C    Attr_D  Result\n",
       "0  0.472325  0.548819  0.157572  0.725575       1\n",
       "1  0.404892  0.959891  0.245643  0.140975      -1\n",
       "2  0.499184  0.772589  0.267347  0.716404      -1\n",
       "3  0.292106  0.267442  0.600435  0.942743       1\n",
       "4  0.837447  0.785135  0.086445  0.641389      -1"
      ]
     },
     "execution_count": 13,
     "metadata": {},
     "output_type": "execute_result"
    }
   ],
   "source": [
    "df.head()"
   ]
  },
  {
   "cell_type": "code",
   "execution_count": 17,
   "id": "national-victory",
   "metadata": {},
   "outputs": [],
   "source": [
    "class SvmC():\n",
    "    def __init__(self,n_feats):\n",
    "        self.weights=np.zeros(n_feats+1)\n",
    "        self.C=1.0\n",
    "        \n",
    "    def calc_loss(self,X,Y):\n",
    "        _X=np. concatanate([np.ones(X.shape[0],1),X],axis=1)\n",
    "        self.Y=np.matmul(self.weights,_X.T)\n",
    "        self.hinge=1-(self.Y*Y)\n",
    "        self.loss=np.square(self.weights) + self.C*(np.maximum(0.0,self.Y*Y))\n",
    "        self.loss=np.mean(self.loss)\n",
    "        \n",
    "    def calc_grad(self,X,Y):\n",
    "        _X=np. concatanate([np.ones(X.shape[0],1),X],axis=1)\n",
    "        mask = np.array(self.hinge>0,dtype=np.float32)\n",
    "        self.grads=np.zeros_like(self.weights)\n",
    "        for x,y,mask_val in zip(_X,Y,mask):\n",
    "            if mask_val : self.grads = (1- self.C* x*y)\n",
    "            else : self.grads= self.weights\n",
    "        \n",
    "    def update_weights(self):\n",
    "        self.weights+=self.grads\n",
    "        "
   ]
  },
  {
   "cell_type": "code",
   "execution_count": 18,
   "id": "published-speed",
   "metadata": {},
   "outputs": [
    {
     "data": {
      "text/plain": [
       "<__main__.SvmC at 0x245c4a50cc8>"
      ]
     },
     "execution_count": 18,
     "metadata": {},
     "output_type": "execute_result"
    }
   ],
   "source": [
    "SvmC(4)"
   ]
  },
  {
   "cell_type": "code",
   "execution_count": null,
   "id": "consistent-causing",
   "metadata": {},
   "outputs": [],
   "source": []
  }
 ],
 "metadata": {
  "kernelspec": {
   "display_name": "Python 3",
   "language": "python",
   "name": "python3"
  },
  "language_info": {
   "codemirror_mode": {
    "name": "ipython",
    "version": 3
   },
   "file_extension": ".py",
   "mimetype": "text/x-python",
   "name": "python",
   "nbconvert_exporter": "python",
   "pygments_lexer": "ipython3",
   "version": "3.7.7"
  }
 },
 "nbformat": 4,
 "nbformat_minor": 5
}
