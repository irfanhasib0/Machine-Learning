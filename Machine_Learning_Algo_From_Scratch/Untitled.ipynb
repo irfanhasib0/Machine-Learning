{
 "cells": [
  {
   "cell_type": "code",
   "execution_count": 2,
   "id": "derived-garlic",
   "metadata": {},
   "outputs": [],
   "source": [
    "import numpy as np"
   ]
  },
  {
   "cell_type": "code",
   "execution_count": 20,
   "id": "comic-torture",
   "metadata": {},
   "outputs": [
    {
     "name": "stdout",
     "output_type": "stream",
     "text": [
      "1 -0.0\n",
      "2 0.5\n",
      "3 0.5283208335737187\n",
      "4 0.5\n",
      "5 0.46438561897747244\n",
      "6 0.430827083453526\n",
      "7 0.40105070315108626\n",
      "8 0.375\n",
      "9 0.3522138890491458\n"
     ]
    }
   ],
   "source": [
    "for i in range(1,10):\n",
    "   ent=-(1/i)*np.log2(1/i)\n",
    "   print(i,ent)"
   ]
  },
  {
   "cell_type": "markdown",
   "id": "intended-profession",
   "metadata": {},
   "source": [
    "###### "
   ]
  }
 ],
 "metadata": {
  "kernelspec": {
   "display_name": "Python 3",
   "language": "python",
   "name": "python3"
  },
  "language_info": {
   "codemirror_mode": {
    "name": "ipython",
    "version": 3
   },
   "file_extension": ".py",
   "mimetype": "text/x-python",
   "name": "python",
   "nbconvert_exporter": "python",
   "pygments_lexer": "ipython3",
   "version": "3.7.7"
  }
 },
 "nbformat": 4,
 "nbformat_minor": 5
}
