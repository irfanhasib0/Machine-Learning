{
 "cells": [
  {
   "cell_type": "code",
   "execution_count": 1,
   "metadata": {},
   "outputs": [],
   "source": [
    "import numpy as np\n",
    "from matplotlib import pyplot as plt\n",
    "np.random.seed(456)"
   ]
  },
  {
   "cell_type": "code",
   "execution_count": 2,
   "metadata": {},
   "outputs": [
    {
     "name": "stdout",
     "output_type": "stream",
     "text": [
      "Input Node 0\n",
      "Hidden_one Node 2\n",
      "Output Node 3\n"
     ]
    }
   ],
   "source": [
    "X=np.array([[0,0],[0,1],[1,0],[1,1]],dtype=np.float64)\n",
    "Y=np.array([[0,1],[1,0],[1,0],[0,1]],dtype=np.float64)\n",
    "\n",
    "def sigmoid(x):\n",
    "   y=np.exp(-1*x)+1\n",
    "   y=1/y\n",
    "   #print(y)\n",
    "   return y\n",
    "def sigmoid_deriv(x):\n",
    "    return x*(1-x)\n",
    "\n",
    "\n",
    "class Layer():\n",
    "    \n",
    "    def __init__(self,name='no_name',pnd=1,nd=0):\n",
    "        self.Layer=name\n",
    "        self.value=np.zeros((nd),dtype=np.float64)\n",
    "        self.weights=np.random.random(size=(nd,pnd))*2.0-1.0\n",
    "        self.delta=np.zeros((nd,pnd),dtype=np.float64)\n",
    "        self.deriv=np.zeros((nd,pnd),dtype=np.float64)\n",
    "        self.error=np.zeros((nd),dtype=np.float64)\n",
    "    def printl(self):\n",
    "        print(self.Layer,end=' ')\n",
    "        print('Node',self.weights.shape[1])\n",
    "        \n",
    "net=[]\n",
    "_layer=Layer('Input',0,2)\n",
    "_layer.printl()\n",
    "net.append(_layer)\n",
    "_layer=Layer('Hidden_one',2,3)\n",
    "_layer.printl()\n",
    "net.append(_layer)\n",
    "_layer=Layer('Output',3,2)\n",
    "_layer.printl()\n",
    "net.append(_layer)\n"
   ]
  },
  {
   "cell_type": "code",
   "execution_count": 3,
   "metadata": {
    "scrolled": true
   },
   "outputs": [],
   "source": [
    "error_log=np.zeros((100),np.float64)\n",
    "epoc_val=np.zeros((100),np.float64)\n",
    "    \n",
    "def for_prop(net,_input):\n",
    "    for j in range(len(net)):\n",
    "        Layer=net[j]\n",
    "         \n",
    "        #print('FP',Layer.Layer)\n",
    "        if Layer.Layer=='Input':\n",
    "            Layer.value=_input\n",
    "        else:\n",
    "            Prev_Layer=net[j-1]\n",
    "            val=np.matmul(Layer.weights,Prev_Layer.value)\n",
    "            Layer.value=sigmoid(val)\n",
    "            Layer.deriv=sigmoid_deriv(Layer.value)\n",
    "            \n",
    "    return net,Layer.value\n",
    "def back_prop(net,expected):\n",
    "    for j in reversed(range(len(net))):\n",
    "        Layer=net[j]\n",
    "        #print('BP',Layer.Layer)\n",
    "        if Layer.Layer=='Input':\n",
    "            break\n",
    "        else:\n",
    "            Prev_Layer=net[j-1]\n",
    "        if Layer.Layer=='Output':\n",
    "            Layer.error=expected-Layer.value\n",
    "        \n",
    "        else :\n",
    "            Next_Layer=net[j+1]\n",
    "            weights=Next_Layer.weights.T\n",
    "            Layer.error=np.matmul(weights,Next_Layer.error)\n",
    "           \n",
    "        Layer.deriv=Layer.deriv*Layer.error\n",
    "        #import pdb;pdb.set_trace()\n",
    "        for i in range(Layer.delta.shape[0]):\n",
    "              Layer.delta[i,:]=Prev_Layer.value*Layer.deriv[i]\n",
    "        \n",
    "    return net,err\n",
    "\n",
    "def weight_update(net,alpha=0.1):\n",
    "    for j in range(len(net)):\n",
    "        Layer=net[j]\n",
    "        Layer.weights+=alpha*Layer.delta\n",
    "            \n",
    "    return net\n",
    "      \n",
    "\n"
   ]
  },
  {
   "cell_type": "code",
   "execution_count": 4,
   "metadata": {},
   "outputs": [
    {
     "name": "stdout",
     "output_type": "stream",
     "text": [
      "0.06509999999999996\n"
     ]
    }
   ],
   "source": [
    "#net=network()\n",
    "_epock=np.zeros((15000),np.int64)\n",
    "_error=np.zeros((15000,2),np.float64)\n",
    "\n",
    "for epock in range(1,15000):\n",
    "    err=0\n",
    "    for i in range(len(X)):\n",
    "        #print('X',X[i],'Y',Y[i])\n",
    "        net,v=for_prop(net,X[i])\n",
    "        net,e=back_prop(net,Y[i])\n",
    "        net=weight_update(net)\n",
    "        #net=updateWeights(net,X[i],.05)\n",
    "        err=(Y[i]-v)**2 #for j in range(len(Y[i]))\n",
    "        #print(epock)\n",
    "        #print(e)\n",
    "        _epock[epock-1]=epock\n",
    "        _error[epock-1]=e\n",
    "_epock[epock]=epock\n",
    "_error[epock]=e\n",
    "print(sigmoid_deriv(.93))"
   ]
  },
  {
   "cell_type": "code",
   "execution_count": 6,
   "metadata": {},
   "outputs": [
    {
     "data": {
      "image/png": "[encoded data removed]",
      "text/plain": [
       "<Figure size 432x288 with 1 Axes>"
      ]
     },
     "metadata": {
      "needs_background": "light"
     },
     "output_type": "display_data"
    },
    {
     "name": "stdout",
     "output_type": "stream",
     "text": [
      "[[0.09471417 0.94432969 0.94431222 0.01167631]\n",
      " [0.90508728 0.05578885 0.05580646 0.98827101]]\n"
     ]
    }
   ],
   "source": [
    "plt.plot(_epock,_error[0:15000,0])\n",
    "plt.show()\n",
    "_,v=for_prop(net,X.T)\n",
    "print(v)"
   ]
  },
  {
   "cell_type": "markdown",
   "metadata": {},
   "source": [
    "### Extra Debug Codes :"
   ]
  },
  {
   "cell_type": "code",
   "execution_count": 8,
   "metadata": {},
   "outputs": [
    {
     "name": "stdout",
     "output_type": "stream",
     "text": [
      "[-10  -9  -8  -7  -6  -5  -4  -3  -2  -1   0   1   2   3   4   5   6   7\n",
      "   8   9  10]\n"
     ]
    },
    {
     "name": "stderr",
     "output_type": "stream",
     "text": [
      "/Library/Frameworks/Python.framework/Versions/3.6/lib/python3.6/site-packages/ipykernel_launcher.py:8: RuntimeWarning: divide by zero encountered in log\n",
      "  \n"
     ]
    },
    {
     "data": {
      "image/png": "[encoded data removed]",
      "text/plain": [
       "<Figure size 432x288 with 1 Axes>"
      ]
     },
     "metadata": {
      "needs_background": "light"
     },
     "output_type": "display_data"
    },
    {
     "data": {
      "image/png": "[encoded data removed]",
      "text/plain": [
       "<Figure size 432x288 with 1 Axes>"
      ]
     },
     "metadata": {
      "needs_background": "light"
     },
     "output_type": "display_data"
    }
   ],
   "source": [
    "x=np.ones((21),np.int8)\n",
    "for i in range(0,21):\n",
    "    x[i]=i-10\n",
    "y=np.exp(-1*x)\n",
    "y=1+y\n",
    "y=1/y\n",
    "p=(x+10)/20\n",
    "z=np.log(p)\n",
    "print(x)\n",
    "plt.plot(x,y)\n",
    "plt.show()\n",
    "plt.plot(p,z)\n",
    "plt.show()"
   ]
  },
  {
   "cell_type": "code",
   "execution_count": 9,
   "metadata": {},
   "outputs": [
    {
     "name": "stdout",
     "output_type": "stream",
     "text": [
      "1\n"
     ]
    }
   ],
   "source": [
    "print(np.argmax([.2,.3]))"
   ]
  },
  {
   "cell_type": "code",
   "execution_count": null,
   "metadata": {},
   "outputs": [],
   "source": []
  }
 ],
 "metadata": {
  "kernelspec": {
   "display_name": "Python 3",
   "language": "python",
   "name": "python3"
  },
  "language_info": {
   "codemirror_mode": {
    "name": "ipython",
    "version": 3
   },
   "file_extension": ".py",
   "mimetype": "text/x-python",
   "name": "python",
   "nbconvert_exporter": "python",
   "pygments_lexer": "ipython3",
   "version": "3.7.4"
  }
 },
 "nbformat": 4,
 "nbformat_minor": 4
}
