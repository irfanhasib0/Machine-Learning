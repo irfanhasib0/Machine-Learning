{
 "cells": [
  {
   "cell_type": "code",
   "execution_count": 131,
   "metadata": {},
   "outputs": [],
   "source": [
    "from xml.dom import minidom\n",
    "import re\n",
    "import pandas as pd\n",
    "import sys\n",
    "import pickle\n",
    "import numpy as np\n",
    "sys.__stdout__=sys.stdout\n",
    "TAG_RE = re.compile(r'<[^>]+>')\n",
    "def remove_tags(text):\n",
    "    text=re.sub('\\n',' ',text)\n",
    "    #text=re.sub('-',' ',text)\n",
    "    text=re.sub('[\\'\"]','',text)\n",
    "    #text=re.sub('[()?.@*#&!,$]','',text)\n",
    "    text=re.sub('[^a-z0-9]',' ',text)\n",
    "    return TAG_RE.sub('', text)\n",
    "\n",
    "def make_dictionary(topics,max_doc,root):\n",
    "    index=0\n",
    "    wordmap={}\n",
    "    word_count=[]\n",
    "    for topic in topics:\n",
    "        print(topic)\n",
    "        mydoc = minidom.parse(root+topic+'.xml')\n",
    "        docs = mydoc.getElementsByTagName('row')\n",
    "        doc_count=0\n",
    "        for doc in docs:\n",
    "            if doc_count>=max_doc:\n",
    "                break\n",
    "            doc=doc.attributes['Body'].value\n",
    "            doc=doc.lower()\n",
    "            doc = remove_tags(doc)\n",
    "            words=doc.split(' ')\n",
    "            for word in words:\n",
    "                if word in s_words:\n",
    "                    continue\n",
    "                if word not in wordmap:\n",
    "                    wordmap[word]=index\n",
    "                    word_count.append(int(1))\n",
    "                    index=index+1\n",
    "                elif word in wordmap:\n",
    "                    ind=wordmap[word]\n",
    "                    word_count[ind]=int(word_count[ind])+1\n",
    "            doc_count=doc_count+1\n",
    "    return wordmap,word_count\n"
   ]
  },
  {
   "cell_type": "code",
   "execution_count": 151,
   "metadata": {},
   "outputs": [],
   "source": [
    "def vectorize_seq_nb(topics,max_doc,wordmap,root,doc_per_vect='all'):\n",
    "    if doc_per_vect=='single':\n",
    "        n_row=len(topics)*(max_doc)\n",
    "    if doc_per_vect=='all':\n",
    "        n_row=len(topics)\n",
    "    vectors=np.zeros((n_row,len(wordmap)),dtype=np.float64)\n",
    "    vct_label=[]\n",
    "    row=0\n",
    "    alpha=1\n",
    "    _V=len(wordmap)\n",
    "    for topic in topics:\n",
    "        print(topic)\n",
    "        mydoc = minidom.parse(root+topic+'.xml')\n",
    "        docs = mydoc.getElementsByTagName('row')\n",
    "        doc_count=0\n",
    "        for doc in docs:\n",
    "            if doc_count>=max_doc:\n",
    "                break\n",
    "            #vector = [0]*(len(wordmap)+2)\n",
    "            doc=doc.attributes['Body'].value\n",
    "            doc=doc.lower()\n",
    "            doc = remove_tags(doc)\n",
    "            words=doc.split(' ')\n",
    "                     \n",
    "            if len(words)<5:\n",
    "                continue\n",
    "            for word in words:\n",
    "                if word in wordmap:\n",
    "                    ind=wordmap[word]\n",
    "                    vectors[row,ind]=vectors[row,ind]+1\n",
    "            doc_count=doc_count+1\n",
    "            word_list.append(words)\n",
    "            if doc_per_vect=='single':\n",
    "                row=row+1\n",
    "                vct_label.append(topic)\n",
    "        if doc_per_vect=='all':\n",
    "            vct_label.append(topic)\n",
    "            total=np.sum(vectors[row])\n",
    "            vectors[row]=(vectors[row]+alpha)/(total+alpha*_V)\n",
    "            row=row+1\n",
    "    return vectors,vct_label"
   ]
  },
  {
   "cell_type": "code",
   "execution_count": 152,
   "metadata": {},
   "outputs": [
    {
     "name": "stdout",
     "output_type": "stream",
     "text": [
      "3d_Printer\n",
      "Coffee\n",
      "Arduino\n",
      "Astronomy\n",
      "Biology\n",
      "3d_Printer\n",
      "Coffee\n",
      "Arduino\n",
      "Astronomy\n",
      "Biology\n"
     ]
    }
   ],
   "source": [
    "root='Dataset/Training/'\n",
    "root_test='Dataset/Test/'\n",
    "f=open('Stopwords.txt')\n",
    "s_words=f.read()\n",
    "s_words=s_words.split('\\n')\n",
    "s_words.append('')\n",
    "\n",
    "topics=['3d_Printer','Coffee','Arduino','Astronomy','Biology']#,'Chess','Cooking','Law','Space','Windows_Phone','Wood_Working']\n",
    "#topics=['Anime']\n",
    "\n",
    "\n",
    " \n",
    "#wordmap=make_dictionary(topics,100,root)\n",
    "#vectors=vectorize_seq(topics,100,wordmap,root)\n",
    "word_list=[]\n",
    "write_backup=1\n",
    "if write_backup==1:\n",
    "    wordmap,wc=make_dictionary(topics,500,root)\n",
    "    vectors,vct_labels=vectorize_seq_nb(topics,500,wordmap,root)\n",
    "    pickle_out = open(\"wordmap_test.pickle\",\"wb\")\n",
    "    pickle.dump(wordmap, pickle_out)\n",
    "    pickle_out.close()\n",
    "    pickle_out = open(\"vectors_test.pickle\",\"wb\")\n",
    "    pickle.dump(vectors, pickle_out)\n",
    "    pickle_out.close()\n",
    "\n",
    "read_backup=0\n",
    "if read_backup==1:\n",
    "    print('Reading backup')\n",
    "    pickle_read = open(\"wordmap_500.pickle\",\"rb\")\n",
    "    wordmap=pickle.load(pickle_read)\n",
    "    pickle_read.close()\n",
    "\n",
    "    pickle_read = open(\"vectors_500.pickle\",\"rb\")\n",
    "    vectors=pickle.load(pickle_read)\n",
    "    pickle_read.close()\n",
    "\n",
    "#words=list(wordmap.keys())\n",
    "#freq=list(wordmap.values())\n",
    "#word_df=pd.DataFrame({'words':words,'freq':freq})\n",
    "#word_df=word_df.sort_values('freq',ascending=False)\n",
    "    \n",
    "\n"
   ]
  },
  {
   "cell_type": "code",
   "execution_count": 153,
   "metadata": {},
   "outputs": [
    {
     "name": "stdout",
     "output_type": "stream",
     "text": [
      "[  2.34879624e-03   7.76618112e-04   2.46244767e-04 ...,   1.89419052e-05\n",
      "   1.89419052e-05   1.89419052e-05]\n"
     ]
    },
    {
     "data": {
      "image/png": "[encoded data removed]",
      "text/plain": [
       "<Figure size 432x288 with 1 Axes>"
      ]
     },
     "metadata": {
      "needs_background": "light"
     },
     "output_type": "display_data"
    },
    {
     "name": "stdout",
     "output_type": "stream",
     "text": [
      "['3d_Printer', 'Coffee', 'Arduino', 'Astronomy', 'Biology']\n"
     ]
    }
   ],
   "source": [
    "from matplotlib import pyplot as plt\n",
    "print((vectors[0]))\n",
    "x=range(len(vectors[0]))\n",
    "plt.plot(x,vectors[0])\n",
    "plt.plot(x,vectors[2])\n",
    "#plt.plot(x,vectors[2])\n",
    "plt.show()\n",
    "print(vct_labels)"
   ]
  },
  {
   "cell_type": "code",
   "execution_count": 154,
   "metadata": {
    "scrolled": true
   },
   "outputs": [
    {
     "name": "stdout",
     "output_type": "stream",
     "text": [
      "[1 2 3 4 5 6]\n",
      "[1 2 3 4 5 6] [  1   2 100   4   5   6]\n",
      "[[0 1 0 0 0 0]]\n"
     ]
    }
   ],
   "source": [
    "#print(word_list)\n",
    "d=np.array([1,2,3,4,5,6])\n",
    "print(d)\n",
    "k=d.copy()\n",
    "k[k==3]=100\n",
    "print(d,k)\n",
    "tv=vectors\n",
    "a=vectors[0,:]\n",
    "#print(len())\n",
    "print(np.array([k==2],dtype=np.uint8))"
   ]
  },
  {
   "cell_type": "code",
   "execution_count": 158,
   "metadata": {},
   "outputs": [
    {
     "name": "stdout",
     "output_type": "stream",
     "text": [
      "3d_Printer\n",
      "Coffee\n",
      "Arduino\n",
      "Astronomy\n",
      "Biology\n",
      "20599\n"
     ]
    }
   ],
   "source": [
    "test_vectors,true_lbs=vectorize_seq_nb(topics,5,wordmap,root_test,doc_per_vect='single')\n",
    "def nb(test_vector,vector,vct_labels):\n",
    "    probs=[]\n",
    "    maxm=0\n",
    "    lb=''\n",
    "    prob=0\n",
    "    vct=0\n",
    "    for i in range(len(vector)):\n",
    "        vct=vector[i,:].copy()\n",
    "        vct[test_vector==0]=1\n",
    "        #vct=vct*np.array([test_vector==0],dtype=np.uint8) \n",
    "        #vct=vct+np.array([vct==0],dtype=np.uint8) \n",
    "        #vct=vct*[test_vector>0]\n",
    "        prob=np.prod(vct)\n",
    "        probs.append(prob)\n",
    "        if prob>maxm:\n",
    "            maxm=prob\n",
    "            lb=vct_labels[i]\n",
    "    return probs,lb\n",
    "print(len(test_vectors[0]))"
   ]
  },
  {
   "cell_type": "code",
   "execution_count": 159,
   "metadata": {},
   "outputs": [
    {
     "name": "stdout",
     "output_type": "stream",
     "text": [
      "['3d_Printer', '3d_Printer', '3d_Printer', '3d_Printer', '3d_Printer', 'Coffee', 'Coffee', 'Coffee', 'Coffee', 'Coffee', 'Arduino', 'Arduino', 'Arduino', 'Arduino', 'Arduino', 'Astronomy', 'Astronomy', 'Astronomy', 'Astronomy', 'Astronomy', 'Biology', 'Biology', 'Biology', 'Biology', 'Biology']\n"
     ]
    }
   ],
   "source": [
    "print(true_lbs)"
   ]
  },
  {
   "cell_type": "code",
   "execution_count": 160,
   "metadata": {},
   "outputs": [
    {
     "name": "stdout",
     "output_type": "stream",
     "text": [
      "res pred 3d_Printer true 3d_Printer 1 1\n",
      "res pred 3d_Printer true 3d_Printer 2 2\n",
      "res pred 3d_Printer true 3d_Printer 3 3\n",
      "res pred 3d_Printer true 3d_Printer 4 4\n",
      "res pred 3d_Printer true 3d_Printer 5 5\n",
      "res pred Coffee true Coffee 6 6\n",
      "res pred  true Coffee 7 6\n",
      "res pred Coffee true Coffee 8 7\n",
      "res pred Coffee true Coffee 9 8\n",
      "res pred Coffee true Coffee 10 9\n",
      "res pred Arduino true Arduino 11 10\n",
      "res pred Arduino true Arduino 12 11\n",
      "res pred Arduino true Arduino 13 12\n",
      "res pred Arduino true Arduino 14 13\n",
      "res pred  true Arduino 15 13\n",
      "res pred Astronomy true Astronomy 16 14\n",
      "res pred Astronomy true Astronomy 17 15\n",
      "res pred Astronomy true Astronomy 18 16\n",
      "res pred Astronomy true Astronomy 19 17\n",
      "res pred  true Astronomy 20 17\n",
      "res pred Astronomy true Biology 21 17\n",
      "res pred Biology true Biology 22 18\n",
      "res pred Biology true Biology 23 19\n",
      "res pred Coffee true Biology 24 19\n",
      "res pred Biology true Biology 25 20\n"
     ]
    }
   ],
   "source": [
    "acc=0\n",
    "for i in range(len(test_vectors)):\n",
    "    pred,lb=nb(test_vectors[i],tv,vct_labels)\n",
    "    if lb==true_lbs[i]:\n",
    "        acc=acc+1\n",
    "    print('res','pred',lb,'true',true_lbs[i],i+1,acc)\n",
    "    #print(pred)"
   ]
  },
  {
   "cell_type": "code",
   "execution_count": 98,
   "metadata": {},
   "outputs": [
    {
     "data": {
      "text/plain": [
       "0.0"
      ]
     },
     "execution_count": 98,
     "metadata": {},
     "output_type": "execute_result"
    }
   ],
   "source": [
    "np.float64(1.1046088816626036e-352*10)"
   ]
  },
  {
   "cell_type": "code",
   "execution_count": 61,
   "metadata": {},
   "outputs": [
    {
     "name": "stdout",
     "output_type": "stream",
     "text": [
      "                0  freq\n",
      "2639         code  2860\n",
      "9             use  1865\n",
      "5706       coffee  1733\n",
      "704    blockquote  1344\n",
      "48           time  1228\n",
      "2421      arduino  1142\n",
      "569           way   950\n",
      "392         space   862\n",
      "97      questions   803\n",
      "319          good   726\n",
      "449         water   702\n",
      "2781          amp   673\n",
      "99      different   656\n",
      "15             im   644\n",
      "3077        board   643\n",
      "150          work   631\n",
      "1065     question   623\n",
      "514          wood   623\n",
      "1305           ol   622\n",
      "12021       phone   614\n",
      "1893          law   601\n",
      "3020          pre   589\n",
      "1166        stack   582\n",
      "198          long   563\n",
      "1167        imgur   533\n",
      "332          case   522\n",
      "1169          img   516\n",
      "2919        chess   473\n",
      "670           bit   462\n",
      "2310         data   457\n",
      "3184        black   456\n",
      "47          print   451\n",
      "1705            s   448\n",
      "1274       answer   441\n",
      "1497        think   440\n",
      "529        really   431\n",
      "172        better   426\n",
      "3973        earth   425\n",
      "3048        power   414\n",
      "120         small   411\n",
      "270      probably   403\n",
      "666         youre   401\n",
      "803           lot   394\n",
      "3            high   394\n",
      "197           new   388\n",
      "374        people   387\n",
      "858         right   386\n",
      "144          able   385\n",
      "369             g   384\n",
      "615           end   381\n"
     ]
    }
   ],
   "source": [
    "words=list(wordmap.keys())\n",
    "freq=list(wordmap.values())\n",
    "word_df=pd.DataFrame(words,index=list(wordmap.values()))\n",
    "word_df=word_df.sort_index()\n",
    "word_df['freq']=wc\n",
    "word_df=word_df.sort_values('freq',ascending=False)\n",
    "print(word_df[0:50])\n",
    "#print(len(vectors))"
   ]
  },
  {
   "cell_type": "code",
   "execution_count": 62,
   "metadata": {},
   "outputs": [
    {
     "name": "stdout",
     "output_type": "stream",
     "text": [
      "3d_Printer\n",
      "Coffee\n",
      "Arduino\n",
      "Astronomy\n",
      "Biology\n",
      "Chess\n"
     ]
    },
    {
     "ename": "ExpatError",
     "evalue": "junk after document element: line 2, column 2",
     "output_type": "error",
     "traceback": [
      "\u001b[1;31m---------------------------------------------------------------------------\u001b[0m",
      "\u001b[1;31mExpatError\u001b[0m                                Traceback (most recent call last)",
      "\u001b[1;32m<ipython-input-62-d3c58e92da3a>\u001b[0m in \u001b[0;36m<module>\u001b[1;34m\u001b[0m\n\u001b[0;32m     12\u001b[0m     \u001b[1;32mreturn\u001b[0m\u001b[1;33m(\u001b[0m\u001b[0mlb\u001b[0m\u001b[1;33m)\u001b[0m\u001b[1;33m\u001b[0m\u001b[0m\n\u001b[0;32m     13\u001b[0m \u001b[0mmax_doc\u001b[0m\u001b[1;33m=\u001b[0m\u001b[1;36m60\u001b[0m\u001b[1;33m\u001b[0m\u001b[0m\n\u001b[1;32m---> 14\u001b[1;33m \u001b[0mtest_vector\u001b[0m\u001b[1;33m,\u001b[0m\u001b[0mtrue_lbs\u001b[0m\u001b[1;33m=\u001b[0m\u001b[0mvectorize_seq\u001b[0m\u001b[1;33m(\u001b[0m\u001b[0mtopics\u001b[0m\u001b[1;33m,\u001b[0m\u001b[0mmax_doc\u001b[0m\u001b[1;33m,\u001b[0m\u001b[0mwordmap\u001b[0m\u001b[1;33m,\u001b[0m\u001b[0mroot_test\u001b[0m\u001b[1;33m)\u001b[0m\u001b[1;33m\u001b[0m\u001b[0m\n\u001b[0m\u001b[0;32m     15\u001b[0m \u001b[0macc\u001b[0m\u001b[1;33m=\u001b[0m\u001b[1;36m0\u001b[0m\u001b[1;33m\u001b[0m\u001b[0m\n\u001b[0;32m     16\u001b[0m \u001b[0mn\u001b[0m\u001b[1;33m=\u001b[0m\u001b[0mlen\u001b[0m\u001b[1;33m(\u001b[0m\u001b[0mtopics\u001b[0m\u001b[1;33m)\u001b[0m\u001b[1;33m*\u001b[0m\u001b[0mmax_doc\u001b[0m\u001b[1;33m\u001b[0m\u001b[0m\n",
      "\u001b[1;32m<ipython-input-34-191ce53aefe2>\u001b[0m in \u001b[0;36mvectorize_seq\u001b[1;34m(topics, max_doc, wordmap, root)\u001b[0m\n\u001b[0;32m     50\u001b[0m     \u001b[1;32mfor\u001b[0m \u001b[0mtopic\u001b[0m \u001b[1;32min\u001b[0m \u001b[0mtopics\u001b[0m\u001b[1;33m:\u001b[0m\u001b[1;33m\u001b[0m\u001b[0m\n\u001b[0;32m     51\u001b[0m         \u001b[0mprint\u001b[0m\u001b[1;33m(\u001b[0m\u001b[0mtopic\u001b[0m\u001b[1;33m)\u001b[0m\u001b[1;33m\u001b[0m\u001b[0m\n\u001b[1;32m---> 52\u001b[1;33m         \u001b[0mmydoc\u001b[0m \u001b[1;33m=\u001b[0m \u001b[0mminidom\u001b[0m\u001b[1;33m.\u001b[0m\u001b[0mparse\u001b[0m\u001b[1;33m(\u001b[0m\u001b[0mroot\u001b[0m\u001b[1;33m+\u001b[0m\u001b[0mtopic\u001b[0m\u001b[1;33m+\u001b[0m\u001b[1;34m'.xml'\u001b[0m\u001b[1;33m)\u001b[0m\u001b[1;33m\u001b[0m\u001b[0m\n\u001b[0m\u001b[0;32m     53\u001b[0m         \u001b[0mdocs\u001b[0m \u001b[1;33m=\u001b[0m \u001b[0mmydoc\u001b[0m\u001b[1;33m.\u001b[0m\u001b[0mgetElementsByTagName\u001b[0m\u001b[1;33m(\u001b[0m\u001b[1;34m'row'\u001b[0m\u001b[1;33m)\u001b[0m\u001b[1;33m\u001b[0m\u001b[0m\n\u001b[0;32m     54\u001b[0m         \u001b[0mdoc_count\u001b[0m\u001b[1;33m=\u001b[0m\u001b[1;36m0\u001b[0m\u001b[1;33m\u001b[0m\u001b[0m\n",
      "\u001b[1;32mc:\\python\\python35\\lib\\xml\\dom\\minidom.py\u001b[0m in \u001b[0;36mparse\u001b[1;34m(file, parser, bufsize)\u001b[0m\n\u001b[0;32m   1956\u001b[0m     \u001b[1;32mif\u001b[0m \u001b[0mparser\u001b[0m \u001b[1;32mis\u001b[0m \u001b[1;32mNone\u001b[0m \u001b[1;32mand\u001b[0m \u001b[1;32mnot\u001b[0m \u001b[0mbufsize\u001b[0m\u001b[1;33m:\u001b[0m\u001b[1;33m\u001b[0m\u001b[0m\n\u001b[0;32m   1957\u001b[0m         \u001b[1;32mfrom\u001b[0m \u001b[0mxml\u001b[0m\u001b[1;33m.\u001b[0m\u001b[0mdom\u001b[0m \u001b[1;32mimport\u001b[0m \u001b[0mexpatbuilder\u001b[0m\u001b[1;33m\u001b[0m\u001b[0m\n\u001b[1;32m-> 1958\u001b[1;33m         \u001b[1;32mreturn\u001b[0m \u001b[0mexpatbuilder\u001b[0m\u001b[1;33m.\u001b[0m\u001b[0mparse\u001b[0m\u001b[1;33m(\u001b[0m\u001b[0mfile\u001b[0m\u001b[1;33m)\u001b[0m\u001b[1;33m\u001b[0m\u001b[0m\n\u001b[0m\u001b[0;32m   1959\u001b[0m     \u001b[1;32melse\u001b[0m\u001b[1;33m:\u001b[0m\u001b[1;33m\u001b[0m\u001b[0m\n\u001b[0;32m   1960\u001b[0m         \u001b[1;32mfrom\u001b[0m \u001b[0mxml\u001b[0m\u001b[1;33m.\u001b[0m\u001b[0mdom\u001b[0m \u001b[1;32mimport\u001b[0m \u001b[0mpulldom\u001b[0m\u001b[1;33m\u001b[0m\u001b[0m\n",
      "\u001b[1;32mc:\\python\\python35\\lib\\xml\\dom\\expatbuilder.py\u001b[0m in \u001b[0;36mparse\u001b[1;34m(file, namespaces)\u001b[0m\n\u001b[0;32m    909\u001b[0m     \u001b[1;32mif\u001b[0m \u001b[0misinstance\u001b[0m\u001b[1;33m(\u001b[0m\u001b[0mfile\u001b[0m\u001b[1;33m,\u001b[0m \u001b[0mstr\u001b[0m\u001b[1;33m)\u001b[0m\u001b[1;33m:\u001b[0m\u001b[1;33m\u001b[0m\u001b[0m\n\u001b[0;32m    910\u001b[0m         \u001b[1;32mwith\u001b[0m \u001b[0mopen\u001b[0m\u001b[1;33m(\u001b[0m\u001b[0mfile\u001b[0m\u001b[1;33m,\u001b[0m \u001b[1;34m'rb'\u001b[0m\u001b[1;33m)\u001b[0m \u001b[1;32mas\u001b[0m \u001b[0mfp\u001b[0m\u001b[1;33m:\u001b[0m\u001b[1;33m\u001b[0m\u001b[0m\n\u001b[1;32m--> 911\u001b[1;33m             \u001b[0mresult\u001b[0m \u001b[1;33m=\u001b[0m \u001b[0mbuilder\u001b[0m\u001b[1;33m.\u001b[0m\u001b[0mparseFile\u001b[0m\u001b[1;33m(\u001b[0m\u001b[0mfp\u001b[0m\u001b[1;33m)\u001b[0m\u001b[1;33m\u001b[0m\u001b[0m\n\u001b[0m\u001b[0;32m    912\u001b[0m     \u001b[1;32melse\u001b[0m\u001b[1;33m:\u001b[0m\u001b[1;33m\u001b[0m\u001b[0m\n\u001b[0;32m    913\u001b[0m         \u001b[0mresult\u001b[0m \u001b[1;33m=\u001b[0m \u001b[0mbuilder\u001b[0m\u001b[1;33m.\u001b[0m\u001b[0mparseFile\u001b[0m\u001b[1;33m(\u001b[0m\u001b[0mfile\u001b[0m\u001b[1;33m)\u001b[0m\u001b[1;33m\u001b[0m\u001b[0m\n",
      "\u001b[1;32mc:\\python\\python35\\lib\\xml\\dom\\expatbuilder.py\u001b[0m in \u001b[0;36mparseFile\u001b[1;34m(self, file)\u001b[0m\n\u001b[0;32m    205\u001b[0m                 \u001b[1;32mif\u001b[0m \u001b[1;32mnot\u001b[0m \u001b[0mbuffer\u001b[0m\u001b[1;33m:\u001b[0m\u001b[1;33m\u001b[0m\u001b[0m\n\u001b[0;32m    206\u001b[0m                     \u001b[1;32mbreak\u001b[0m\u001b[1;33m\u001b[0m\u001b[0m\n\u001b[1;32m--> 207\u001b[1;33m                 \u001b[0mparser\u001b[0m\u001b[1;33m.\u001b[0m\u001b[0mParse\u001b[0m\u001b[1;33m(\u001b[0m\u001b[0mbuffer\u001b[0m\u001b[1;33m,\u001b[0m \u001b[1;36m0\u001b[0m\u001b[1;33m)\u001b[0m\u001b[1;33m\u001b[0m\u001b[0m\n\u001b[0m\u001b[0;32m    208\u001b[0m                 \u001b[1;32mif\u001b[0m \u001b[0mfirst_buffer\u001b[0m \u001b[1;32mand\u001b[0m \u001b[0mself\u001b[0m\u001b[1;33m.\u001b[0m\u001b[0mdocument\u001b[0m\u001b[1;33m.\u001b[0m\u001b[0mdocumentElement\u001b[0m\u001b[1;33m:\u001b[0m\u001b[1;33m\u001b[0m\u001b[0m\n\u001b[0;32m    209\u001b[0m                     \u001b[0mself\u001b[0m\u001b[1;33m.\u001b[0m\u001b[0m_setup_subset\u001b[0m\u001b[1;33m(\u001b[0m\u001b[0mbuffer\u001b[0m\u001b[1;33m)\u001b[0m\u001b[1;33m\u001b[0m\u001b[0m\n",
      "\u001b[1;31mExpatError\u001b[0m: junk after document element: line 2, column 2"
     ]
    }
   ],
   "source": [
    "def knn(nn,test_vect,vectors,vct_labels):\n",
    "    print('getting h dist')\n",
    "    #h_dists=eucl_dis(test_vect,vectors,vct_labels)\n",
    "    #h_dists=humm_dis(test_vect,vectors,vct_labels)\n",
    "    h_dists=cos_dis(test_vect,vectors,vct_labels)\n",
    "    h_df=pd.DataFrame(h_dists,columns=['dist','label'])\n",
    "    h_df=h_df.sort_values('dist',ascending=False)\n",
    "    lb=h_df['label']\n",
    "    lb=lb[:nn]\n",
    "    lb=lb.mode()\n",
    "    lb=lb.values[0]\n",
    "    return(lb)\n",
    "max_doc=60\n",
    "test_vector,true_lbs=vectorize_seq(topics,max_doc,wordmap,root_test)\n",
    "acc=0\n",
    "n=len(topics)*max_doc\n",
    "for i in range(n):\n",
    "    true_lb=true_lbs[i]\n",
    "    test_vect=test_vector[i,:]\n",
    "    pred_lb=knn(3,test_vect,vectors,vct_labels)\n",
    "    print(pred_lb,true_lb)\n",
    "    if pred_lb==true_lb:\n",
    "        acc=acc+1\n",
    "        print(pred_lb,true_lb,acc,i)\n",
    "accuracy=acc/(n)\n",
    "print('accuray',accuracy)\n",
    "#68.75% eucl 60 82.92\n",
    "#53.33 humm 60  66.25\n",
    "#87.08 cos 94.17"
   ]
  },
  {
   "cell_type": "code",
   "execution_count": null,
   "metadata": {},
   "outputs": [],
   "source": [
    "print(len(test_vector))\n",
    "print(len(true_lbs))"
   ]
  },
  {
   "cell_type": "code",
   "execution_count": null,
   "metadata": {},
   "outputs": [],
   "source": [
    "from matplotlib import pyplot as plt\n",
    "vct=[vectors[12][:500]]\n",
    "test=vectors[15][:498]\n",
    "dis=eucl_dis(test,vct)\n",
    "print(vct)\n",
    "print(test)\n",
    "print(dis[0][0])\n",
    "x=range(0,500)\n",
    "xt=range(0,498)\n",
    "plt.plot(x,vct[0],xt,test)\n",
    "plt.show"
   ]
  },
  {
   "cell_type": "code",
   "execution_count": 268,
   "metadata": {},
   "outputs": [
    {
     "name": "stdout",
     "output_type": "stream",
     "text": [
      "[[0.0, 'Coffee'], [4.1408162514693805, 'Coffee']]\n"
     ]
    }
   ],
   "source": [
    "def eucl_dis(test_vector,vectors):\n",
    "    h_dists=[]\n",
    "    for vector in vectors:\n",
    "        vect=np.array(vector[:-2])\n",
    "        vect[vect>1]=1\n",
    "        label=vector[-1]\n",
    "        test_vect=np.array(test_vector)\n",
    "        dist=np.abs(vect-test_vect)\n",
    "        #dist=np.sum(dist)\n",
    "        h_dists.append([dist,label])\n",
    "    return h_dists\n",
    "test_vector=vectors[0][:-2]\n",
    "vecto=[vectors[0],vectors[1]]\n",
    "h_dists=cos_dis(test_vector,vecto)\n",
    "#h_df=pd.DataFrame(h_dists)\n",
    "#h_df=h_df.sort_values(0)\n",
    "print(h_dists)\n",
    "#print((vectors[15]))"
   ]
  },
  {
   "cell_type": "code",
   "execution_count": 288,
   "metadata": {},
   "outputs": [
    {
     "name": "stdout",
     "output_type": "stream",
     "text": [
      "186 ['does', 'coffee', 'aroma', 'have', 'a', 'detering', 'effect', 'on', 'some', 'insects', 'like', 'flies', 'mosquitos', 'etc', '', 'are', 'there', 'any', 'researches', 'on', 'how', 'the', 'house', 'insects', 'are', 'reacting', 'on', 'coffee', 'aroma', '']\n"
     ]
    }
   ],
   "source": [
    "for i in range(len(vectors)):\n",
    "    vct=vectors[i][:-2]\n",
    "    if np.sum(vct)==0:\n",
    "        break\n",
    "print(i,word_list[185])"
   ]
  },
  {
   "cell_type": "code",
   "execution_count": 109,
   "metadata": {},
   "outputs": [],
   "source": [
    "raw='I am hasib\\n,i \"am\" a student() so? @i do& my-duties! porp. and' \n",
    "#text=re.sub('\\n',' ',raw)\n",
    "text=raw.lower()\n",
    "text=re.sub('[^a-z0-9]',' ',text)\n",
    "#text=re.sub('-',' ',text)\n",
    "#text=re.sub('[\\'\"]','',text)\n",
    "#text=re.sub('[()?.@*#&!,$+]','',text)\n",
    "#print(text.split(' '))"
   ]
  }
 ],
 "metadata": {
  "kernelspec": {
   "display_name": "Python 3",
   "language": "python",
   "name": "python3"
  },
  "language_info": {
   "codemirror_mode": {
    "name": "ipython",
    "version": 3
   },
   "file_extension": ".py",
   "mimetype": "text/x-python",
   "name": "python",
   "nbconvert_exporter": "python",
   "pygments_lexer": "ipython3",
   "version": "3.5.0"
  }
 },
 "nbformat": 4,
 "nbformat_minor": 2
}
